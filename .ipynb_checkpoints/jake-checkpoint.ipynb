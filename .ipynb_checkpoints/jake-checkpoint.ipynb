{
 "cells": [
  {
   "cell_type": "code",
   "execution_count": 4,
   "metadata": {},
   "outputs": [
    {
     "name": "stdout",
     "output_type": "stream",
     "text": [
      "Collecting folium\n",
      "  Downloading folium-0.5.0.tar.gz (79kB)\n",
      "\u001b[K    100% |████████████████████████████████| 81kB 2.4MB/s ta 0:00:01\n",
      "\u001b[?25hCollecting branca (from folium)\n",
      "  Downloading branca-0.2.0-py3-none-any.whl\n",
      "Requirement already satisfied: jinja2 in /opt/conda/lib/python3.6/site-packages (from folium)\n",
      "Requirement already satisfied: requests in /opt/conda/lib/python3.6/site-packages (from folium)\n",
      "Requirement already satisfied: six in /opt/conda/lib/python3.6/site-packages (from folium)\n",
      "Requirement already satisfied: MarkupSafe>=0.23 in /opt/conda/lib/python3.6/site-packages (from jinja2->folium)\n",
      "Requirement already satisfied: chardet<3.1.0,>=3.0.2 in /opt/conda/lib/python3.6/site-packages (from requests->folium)\n",
      "Requirement already satisfied: idna<2.7,>=2.5 in /opt/conda/lib/python3.6/site-packages (from requests->folium)\n",
      "Requirement already satisfied: urllib3<1.23,>=1.21.1 in /opt/conda/lib/python3.6/site-packages (from requests->folium)\n",
      "Requirement already satisfied: certifi>=2017.4.17 in /opt/conda/lib/python3.6/site-packages (from requests->folium)\n",
      "Building wheels for collected packages: folium\n",
      "  Running setup.py bdist_wheel for folium ... \u001b[?25ldone\n",
      "\u001b[?25h  Stored in directory: /home/jovyan/.cache/pip/wheels/04/d0/a0/b2b8356443364ae79743fce0b9b6a5b045f7560742129fde22\n",
      "Successfully built folium\n",
      "Installing collected packages: branca, folium\n",
      "Successfully installed branca-0.2.0 folium-0.5.0\n"
     ]
    }
   ],
   "source": [
    "!pip install folium"
   ]
  },
  {
   "cell_type": "markdown",
   "metadata": {},
   "source": [
    "# Tour Locations of Popular Genres\n",
    "Jake Gluck, Nhien Theresa Phan\n",
    "\n",
    "## Introduction\n",
    "Do you have a favorite music artist or genre? Have they performed in your city? We can learn about listening statistics from top music charts, but these lists don't show where artists of a particular genre usually tour. This tutorial looks into the geographic tour patterns of different genres. First, we demonstrate how to get top artists and genres from Spotify listening data. We use data from setlist.fm to map these artists' tour locations. Then, we perform exploratory analysis and visualization to come up with hypotheses about the data. We compare the tour data with actual listener distribution mapped geographically.\n",
    "\n",
    "## Python dependencies\n",
    "\n",
    "You will need Python 3 and the following libraries:\n",
    "\n",
    "- folium\n",
    "- itertools\n",
    "- json\n",
    "- numpy\n",
    "- pandas\n",
    "- re\n",
    "- requests"
   ]
  },
  {
   "cell_type": "code",
   "execution_count": 5,
   "metadata": {},
   "outputs": [],
   "source": [
    "import pandas as pd\n",
    "import requests as rq\n",
    "import json\n",
    "import re\n",
    "import folium\n",
    "import bs4\n",
    "import time"
   ]
  },
  {
   "cell_type": "markdown",
   "metadata": {},
   "source": [
    "## Method 1: Getting artists from the last.fm API\n",
    "The [last.fm API](https://www.last.fm/api) can be used to fetch genres and other data associated with music artists and listenership.\n",
    "\n",
    "Using the API methods requires an API key. Getting this key requires a Spotify account, which you can [create for free](https://www.last.fm/join) if you do not currently have an account. Then, [create an API account](https://www.last.fm/api/account/create). \"Contact email\" and \"Application name\" are the only required fields in the form; fill in the latter with whatever you wish. Once you complete and submit the form, you will receive an API key. Save this in a UTF-8 encoded text file. We can now use this API key to access the last.fm API methods."
   ]
  },
  {
   "cell_type": "code",
   "execution_count": 6,
   "metadata": {
    "collapsed": true
   },
   "outputs": [],
   "source": [
    "file = open('api_key.txt')\n",
    "api_key = file.read().replace('\\ufeff','')\n",
    "file.close()"
   ]
  },
  {
   "cell_type": "markdown",
   "metadata": {},
   "source": [
    "Artists on last.fm are given tags by users. We can use the API method [`tag.getTopArtists`](https://www.last.fm/api/show/tag.getTopArtists) to get a list of artists tagged with a genre we are interested in."
   ]
  },
  {
   "cell_type": "code",
   "execution_count": 7,
   "metadata": {},
   "outputs": [],
   "source": [
    "# number of artists per genre to return\n",
    "limit = '50'\n",
    "url = 'http://ws.audioscrobbler.com/2.0/?method=tag.gettopartists&api_key='+ api_key +'&limit='+ limit +'&format=json&tag='\n",
    "\n",
    "rock_url = url + 'rock'\n",
    "rock = rq.get(rock_url)\n",
    "\n",
    "hiphop_url = url + 'hip+hop'\n",
    "hiphop = rq.get(hiphop_url)"
   ]
  },
  {
   "cell_type": "code",
   "execution_count": 8,
   "metadata": {
    "scrolled": true
   },
   "outputs": [
    {
     "name": "stdout",
     "output_type": "stream",
     "text": [
      "Coldplay\n",
      "Linkin Park\n",
      "Red Hot Chili Peppers\n",
      "David Bowie\n",
      "Foo Fighters\n",
      "Paramore\n",
      "Kings of Leon\n",
      "U2\n",
      "Maroon 5\n",
      "The White Stripes\n",
      "Incubus\n",
      "Panic! at the Disco\n",
      "Weezer\n",
      "Evanescence\n",
      "R.E.M.\n",
      "Rage Against the Machine\n",
      "Nickelback\n",
      "Bruce Springsteen\n",
      "Papa Roach\n",
      "Aerosmith\n",
      "OneRepublic\n",
      "Bon Jovi\n",
      "Jimmy Eat World\n",
      "The Velvet Underground\n",
      "3 Doors Down\n",
      "The Cranberries\n",
      "Audioslave\n",
      "Tenacious D\n",
      "Garbage\n",
      "The All-American Rejects\n",
      "Seether\n",
      "The Police\n",
      "Simple Plan\n",
      "No Doubt\n",
      "Lostprophets\n",
      "Sting\n",
      "Anberlin\n",
      "The Pretty Reckless\n",
      "Lifehouse\n",
      "Goo Goo Dolls\n",
      "Black Rebel Motorcycle Club\n",
      "Stereophonics\n",
      "Shinedown\n",
      "Manic Street Preachers\n",
      "Coma\n",
      "Counting Crows\n",
      "Bloodhound Gang\n",
      "Wolfmother\n",
      "Alter Bridge\n",
      "Guano Apes\n",
      "\n",
      "Samy Deluxe\n",
      "Absolute Beginner\n",
      "Beginner\n",
      "Curse\n",
      "Nxworries\n",
      "Dynamite Deluxe\n",
      "D.R.A.M.\n",
      "Eins Zwo\n",
      "Teflon Vest\n",
      "Injury Reserve\n",
      "RICH CHIGGA\n",
      "Torch\n",
      "MADEINTYO\n",
      "Lil' Kleine\n",
      "Afrob\n",
      "Ferris MC\n",
      "Rockstah\n",
      "Umse\n",
      "2AM Club\n",
      "Kent Jones\n",
      "www.MzHipHop.com\n",
      "Bezimienni\n",
      "YONAS\n",
      "Radical Something\n",
      "Lance Butters\n",
      "Creme De La Creme\n",
      "Renee Elise Goldsberry\n",
      "Kitty\n",
      "Billy Blue\n",
      "Blumio\n",
      "NMZS\n",
      "Das Bo\n",
      "Teyana Taylor\n",
      "PNB Rock\n",
      "Wstrn\n",
      "KOHH\n",
      "Shaban & Käptn Peng\n",
      "Aceyalone & RJD2\n",
      "Sookee\n",
      "Chester Watson\n",
      "D-Flame\n",
      "T-Wayne\n",
      "Bitamina\n",
      "Marracash\n",
      "baaskaT\n",
      "Chuck Inglish\n",
      "Creutzfeld & Jakob\n",
      "Juice\n",
      "Dram\n",
      "Main Concept\n"
     ]
    }
   ],
   "source": [
    "for artist in json.loads(rock.text)['topartists']['artist']:\n",
    "    print(artist['name'])\n",
    "print()\n",
    "time.sleep(1)\n",
    "for artist in json.loads(hiphop.text)['topartists']['artist']:\n",
    "    print(artist['name'])"
   ]
  },
  {
   "cell_type": "markdown",
   "metadata": {},
   "source": [
    "## Method 2: Scraping artists from the last.fm website\n",
    "last.fm is a music website where users can share their listening data and tag artists. By scraping their tag pages, we can get a list of top artists in whatever genres we are interested in."
   ]
  },
  {
   "cell_type": "code",
   "execution_count": 24,
   "metadata": {
    "collapsed": true
   },
   "outputs": [],
   "source": [
    "hiphop_page1 = 'https://www.last.fm/tag/hip-hop/artists'\n",
    "hiphop_page2 = 'https://www.last.fm/tag/hip-hop/artists?page=2'\n",
    "hiphop_page3 = 'https://www.last.fm/tag/hip-hop/artists?page=3'\n",
    "\n",
    "rock_page1 = 'https://www.last.fm/tag/rock/artists'\n",
    "rock_page2 = 'https://www.last.fm/tag/rock/artists?page=2'\n",
    "rock_page3 = 'https://www.last.fm/tag/rock/artists?page=3'"
   ]
  },
  {
   "cell_type": "code",
   "execution_count": 27,
   "metadata": {},
   "outputs": [
    {
     "name": "stdout",
     "output_type": "stream",
     "text": [
      "hey\n",
      "https://www.last.fm/tag/rock/artists\n",
      "https://www.last.fm/tag/rock/artists?page=2\n",
      "https://www.last.fm/tag/rock/artists?page=3\n",
      "https://www.last.fm/tag/hip-hop/artists\n",
      "https://www.last.fm/tag/hip-hop/artists?page=2\n",
      "https://www.last.fm/tag/hip-hop/artists?page=3\n",
      "['Red Hot Chili Peppers', 'The Beatles', 'Muse', 'Coldplay', 'Nirvana', 'Radiohead', 'Foo Fighters', 'U2', 'Linkin Park', 'Led Zeppelin', 'Queen', 'Pink Floyd', 'The Killers', 'The White Stripes', 'The Rolling Stones', 'Green Day', 'Oasis', \"Guns N' Roses\", 'The Doors', 'System of a Down', 'AC/DC', 'Placebo', 'David Bowie', 'Franz Ferdinand', 'Aerosmith', 'Evanescence', 'Arctic Monkeys', 'Pearl Jam', 'Nickelback', 'Queens of the Stone Age', 'Rage Against the Machine', 'Jimi Hendrix', 'The Strokes', 'R.E.M.', 'Metallica', 'The Who', 'My Chemical Romance', 'The Smashing Pumpkins', '30 Seconds to Mars', 'Incubus', 'Audioslave', 'Paramore', 'Kings of Leon', 'The Cranberries', '3 Doors Down', 'The Offspring', 'Bon Jovi', 'The Cure', 'Nine Inch Nails', 'Gorillaz', 'Marilyn Manson', 'Papa Roach', 'Weezer', 'Deep Purple', 'Blur', 'Tenacious D', 'Fall Out Boy', 'Garbage', 'Dire Straits', 'Rammstein', 'Bob Dylan', 'Three Days Grace', 'Avril Lavigne']\n",
      "\n",
      "['Eminem', 'Kanye West', 'Gorillaz', 'Beastie Boys', 'Black Eyed Peas', 'JAY-Z', 'OutKast', 'The Roots', 'Cypress Hill', 'Nas', 'Wu-Tang Clan', 'M.I.A.', '2Pac', 'A Tribe Called Quest', 'Snoop Dogg', 'DJ Shadow', 'Dr. Dre', 'Common', 'Mos Def', 'Public Enemy', 'Rihanna', 'Kings of Leon', 'The Cranberries', '3 Doors Down', 'The Offspring', 'Bon Jovi', 'The Cure', 'Nine Inch Nails', 'Gorillaz', 'Marilyn Manson', 'Papa Roach', 'Weezer', 'Deep Purple', 'Blur', 'Tenacious D', 'Fall Out Boy', 'Garbage', 'Dire Straits', 'Rammstein', 'Bob Dylan', 'Three Days Grace', 'Avril Lavigne', 'Madvillain', 'Lauryn Hill', 'T.I.', 'Ice Cube', 'Missy Elliott', 'Busta Rhymes', 'Gym Class Heroes', 'Akon', 'N.W.A', 'O.S.T.R.', 'Ludacris', 'Flying Lotus', 'Noize MC', 'The Game', 'Nujabes', 'Justin Timberlake', 'Usher', 'Jedi Mind Tricks', 'DJ Krush', 'Madlib', 'Mobb Deep']\n"
     ]
    }
   ],
   "source": [
    "print(\"hey\")\n",
    "\n",
    "def scrape_page(link):\n",
    "    page = rq.get(link)\n",
    "    soup = bs4.BeautifulSoup(page.text, 'html.parser')\n",
    "    elements = soup.findAll('h3', {'class':'big-artist-list-title'})\n",
    "    artists = []\n",
    "    for e in elements:\n",
    "        artists.append(e.text)\n",
    "    return artists\n",
    "        \n",
    "rock_artists = []\n",
    "rock_elements = scrape_page(rock_page1)\n",
    "for e in rock_elements:\n",
    "    rock_artists.append(e)\n",
    "rock_elements = []\n",
    "rock_elements = scrape_page(rock_page2)\n",
    "for e in rock_elements:\n",
    "    rock_artists.append(e)\n",
    "rock_elements = []\n",
    "rock_elements = scrape_page(rock_page3)\n",
    "for e in rock_elements:\n",
    "    rock_artists.append(e)\n",
    "\n",
    "hiphop_artists = []\n",
    "hiphop_elements = scrape_page(hiphop_page1)\n",
    "for e in hiphop_elements:\n",
    "    hiphop_artists.append(e)\n",
    "hiphop_elements = []\n",
    "hiphop_elements = scrape_page(hiphop_page2)\n",
    "for e in rock_elements:\n",
    "    hiphop_artists.append(e)\n",
    "hiphop_elements = []\n",
    "hiphop_elements = scrape_page(hiphop_page3)\n",
    "for e in hiphop_elements:\n",
    "    hiphop_artists.append(e)\n",
    "\n",
    "print(rock_artists)\n",
    "print()\n",
    "print(hiphop_artists)"
   ]
  },
  {
   "cell_type": "code",
   "execution_count": 41,
   "metadata": {},
   "outputs": [
    {
     "name": "stdout",
     "output_type": "stream",
     "text": [
      "['Red Hot Chili Peppers', 'The Beatles', 'Muse', 'Coldplay', 'Nirvana', 'Radiohead', 'Foo Fighters', 'U2', 'Linkin Park', 'Led Zeppelin', 'Queen', 'Pink Floyd', 'The Killers', 'The White Stripes', 'The Rolling Stones', 'Green Day', 'Oasis', \"Guns N' Roses\", 'The Doors', 'System of a Down', 'AC DC', 'Placebo', 'David Bowie', 'Franz Ferdinand', 'Aerosmith', 'Evanescence', 'Arctic Monkeys', 'Pearl Jam', 'Nickelback', 'Queens of the Stone Age', 'Rage Against the Machine', 'Jimi Hendrix', 'The Strokes', 'R.E.M.', 'Metallica', 'The Who', 'My Chemical Romance', 'The Smashing Pumpkins', '30 Seconds to Mars', 'Incubus', 'Audioslave', 'Paramore', 'Kings of Leon', 'The Cranberries', '3 Doors Down', 'The Offspring', 'Bon Jovi', 'The Cure', 'Nine Inch Nails', 'Gorillaz', 'Marilyn Manson', 'Papa Roach', 'Weezer', 'Deep Purple', 'Blur', 'Tenacious D', 'Fall Out Boy', 'Garbage', 'Dire Straits', 'Rammstein', 'Bob Dylan', 'Three Days Grace', 'Avril Lavigne']\n",
      "['Red Hot Chili Peppers', 'The Beatles', 'Muse', 'Coldplay', 'Nirvana', 'Radiohead', 'Foo Fighters', 'U2', 'Linkin Park', 'Led Zeppelin', 'Queen', 'Pink Floyd', 'The Killers', 'The White Stripes', 'The Rolling Stones', 'Green Day', 'Oasis', \"Guns N' Roses\", 'The Doors', 'System of a Down', 'AC DC', 'Placebo', 'David Bowie', 'Franz Ferdinand', 'Aerosmith', 'Evanescence', 'Arctic Monkeys', 'Pearl Jam', 'Nickelback', 'Queens of the Stone Age', 'Rage Against the Machine', 'Jimi Hendrix', 'The Strokes', 'R.E.M.', 'Metallica', 'The Who', 'My Chemical Romance', 'The Smashing Pumpkins', '30 Seconds to Mars', 'Incubus', 'Audioslave', 'Paramore', 'Kings of Leon', 'The Cranberries', '3 Doors Down', 'The Offspring', 'Bon Jovi', 'The Cure', 'Nine Inch Nails', 'Gorillaz', 'Marilyn Manson', 'Papa Roach', 'Weezer', 'Deep Purple', 'Blur', 'Tenacious D', 'Fall Out Boy', 'Garbage', 'Dire Straits', 'Rammstein', 'Bob Dylan', 'Three Days Grace', 'Avril Lavigne']\n"
     ]
    }
   ],
   "source": [
    "##Data Cleaning ##\n",
    "\n",
    "new_rock_artists = []\n",
    "for artist in rock_artists:\n",
    "    new_artist = artist.replace(\"/\", \" \")\n",
    "    new_artist = new_artist.replace(\"!\", \"\")\n",
    "    new_rock_artists.append(new_artist)\n",
    "    \n",
    "rock_artists = new_rock_artists\n",
    "print(new_rock_artists)\n",
    "\n"
   ]
  },
  {
   "cell_type": "markdown",
   "metadata": {},
   "source": [
    "## Method 3: Getting artists from Spotify\n",
    "### Accessing the Spotify API\n",
    "\n",
    "The Spotify Web API can be used to fetch the genres and other data associated with music artists. Its documentation can be found [here](https://developer.spotify.com/web-api/).\n",
    "\n",
    "Accessing the API requires an OAuth token. Getting this token requires a Spotify account, which you can [create for free](https://www.spotify.com/signup/) if you do not currently have an account. Then, log into [Spotify Developer](https://beta.developer.spotify.com/dashboard/) and click \"Create an App\" in the dashboard. Follow the instructions to create an application. The title and description can be anything of your choosing.\n",
    "\n",
    "You can then generate an OAuth token [here](https://developer.spotify.com/web-api/console/get-search-item/). This token is valid for one hour, but you can generate a new token on the same page once the current token expires."
   ]
  },
  {
   "cell_type": "code",
   "execution_count": 23,
   "metadata": {
    "collapsed": true
   },
   "outputs": [],
   "source": [
    "oauth_token = 'BQDmoQpJDw1lG6EZQ-enFmesw-sW4P6zoxk59Mh0LL2B08DL8ldQNnU3cqxoYvR8KGidjl4OXG3bGxb69pgCLDMJcEGHtOV9Jj_PvBBwSwsGvib4_2CRX9tXMpVTQm9eo05ahys49Lq3ljKYFw'"
   ]
  },
  {
   "cell_type": "markdown",
   "metadata": {},
   "source": [
    "### Getting the Spotify data\n",
    "We want to get the genres of artists populating the most-streamed songs of the United States. Go to [spotifycharts.com](https://spotifycharts.com/) and use the filter options to get a weekly chart of the top 200 songs in the United States. We picked a week in early October to avoid lists predominated by holiday and seasonal music. Download the `.csv` and use `pandas` to read the file into a dataframe."
   ]
  },
  {
   "cell_type": "code",
   "execution_count": 28,
   "metadata": {
    "collapsed": true
   },
   "outputs": [],
   "source": [
    "df = pd.read_csv('spotify.csv')"
   ]
  },
  {
   "cell_type": "markdown",
   "metadata": {},
   "source": [
    "### Get artist details from the Spotify API\n",
    "After dropping the duplicate artists from the dataframe, search each artist name using the Spotify API and the OAuth token we generated. The search returns various items, including a list of artists. Retrieve the list of genres associated with the first artist in the search results. We use this information to create a `dict` where each key is an artist, and each value is a `list` of associated genres. "
   ]
  },
  {
   "cell_type": "code",
   "execution_count": 29,
   "metadata": {},
   "outputs": [
    {
     "ename": "KeyError",
     "evalue": "'artists'",
     "output_type": "error",
     "traceback": [
      "\u001b[0;31m---------------------------------------------------------------------------\u001b[0m",
      "\u001b[0;31mKeyError\u001b[0m                                  Traceback (most recent call last)",
      "\u001b[0;32m<ipython-input-29-dfb97e19209b>\u001b[0m in \u001b[0;36m<module>\u001b[0;34m()\u001b[0m\n\u001b[1;32m      9\u001b[0m     \u001b[0msearch\u001b[0m \u001b[0;34m=\u001b[0m \u001b[0mrq\u001b[0m\u001b[0;34m.\u001b[0m\u001b[0mget\u001b[0m\u001b[0;34m(\u001b[0m\u001b[0murl\u001b[0m\u001b[0;34m,\u001b[0m \u001b[0mheaders\u001b[0m\u001b[0;34m=\u001b[0m\u001b[0mheaders\u001b[0m\u001b[0;34m)\u001b[0m\u001b[0;34m\u001b[0m\u001b[0m\n\u001b[1;32m     10\u001b[0m     \u001b[0;31m# get genres of first artist in search results\u001b[0m\u001b[0;34m\u001b[0m\u001b[0;34m\u001b[0m\u001b[0m\n\u001b[0;32m---> 11\u001b[0;31m     \u001b[0mspotify_genres\u001b[0m\u001b[0;34m[\u001b[0m\u001b[0martist\u001b[0m\u001b[0;34m]\u001b[0m \u001b[0;34m=\u001b[0m \u001b[0mjson\u001b[0m\u001b[0;34m.\u001b[0m\u001b[0mloads\u001b[0m\u001b[0;34m(\u001b[0m\u001b[0msearch\u001b[0m\u001b[0;34m.\u001b[0m\u001b[0mtext\u001b[0m\u001b[0;34m)\u001b[0m\u001b[0;34m[\u001b[0m\u001b[0;34m'artists'\u001b[0m\u001b[0;34m]\u001b[0m\u001b[0;34m[\u001b[0m\u001b[0;34m'items'\u001b[0m\u001b[0;34m]\u001b[0m\u001b[0;34m[\u001b[0m\u001b[0;36m0\u001b[0m\u001b[0;34m]\u001b[0m\u001b[0;34m[\u001b[0m\u001b[0;34m'genres'\u001b[0m\u001b[0;34m]\u001b[0m\u001b[0;34m\u001b[0m\u001b[0m\n\u001b[0m\u001b[1;32m     12\u001b[0m \u001b[0;34m\u001b[0m\u001b[0m\n\u001b[1;32m     13\u001b[0m \u001b[0;31m# dict of artists their genres\u001b[0m\u001b[0;34m\u001b[0m\u001b[0;34m\u001b[0m\u001b[0m\n",
      "\u001b[0;31mKeyError\u001b[0m: 'artists'"
     ]
    }
   ],
   "source": [
    "spotify_genres = {}\n",
    "# for each artist from the data\n",
    "for artist in df.drop_duplicates(['Artist'])['Artist']:\n",
    "    # search artist name\n",
    "    url = 'https://api.spotify.com/v1/search?q=' + artist + '&type=artist'\n",
    "    headers = {'Accept':'application/json',\n",
    "               'Content-Type':'application/json',\n",
    "               'Authorization':'Bearer ' + oauth_token}\n",
    "    search = rq.get(url, headers=headers)\n",
    "    # get genres of first artist in search results\n",
    "    spotify_genres[artist] = json.loads(search.text)['artists']['items'][0]['genres']\n",
    "\n",
    "# dict of artists their genres\n",
    "spotify_genres"
   ]
  },
  {
   "cell_type": "markdown",
   "metadata": {},
   "source": [
    "## Determine top genres\n",
    "Count the total instances of all the genres that appear in the data, and sort descending."
   ]
  },
  {
   "cell_type": "code",
   "execution_count": 33,
   "metadata": {},
   "outputs": [
    {
     "ename": "KeyError",
     "evalue": "0",
     "output_type": "error",
     "traceback": [
      "\u001b[0;31m---------------------------------------------------------------------------\u001b[0m",
      "\u001b[0;31mKeyError\u001b[0m                                  Traceback (most recent call last)",
      "\u001b[0;32m/opt/conda/lib/python3.6/site-packages/pandas/indexes/base.py\u001b[0m in \u001b[0;36mget_loc\u001b[0;34m(self, key, method, tolerance)\u001b[0m\n\u001b[1;32m   2133\u001b[0m             \u001b[0;32mtry\u001b[0m\u001b[0;34m:\u001b[0m\u001b[0;34m\u001b[0m\u001b[0m\n\u001b[0;32m-> 2134\u001b[0;31m                 \u001b[0;32mreturn\u001b[0m \u001b[0mself\u001b[0m\u001b[0;34m.\u001b[0m\u001b[0m_engine\u001b[0m\u001b[0;34m.\u001b[0m\u001b[0mget_loc\u001b[0m\u001b[0;34m(\u001b[0m\u001b[0mkey\u001b[0m\u001b[0;34m)\u001b[0m\u001b[0;34m\u001b[0m\u001b[0m\n\u001b[0m\u001b[1;32m   2135\u001b[0m             \u001b[0;32mexcept\u001b[0m \u001b[0mKeyError\u001b[0m\u001b[0;34m:\u001b[0m\u001b[0;34m\u001b[0m\u001b[0m\n",
      "\u001b[0;32mpandas/index.pyx\u001b[0m in \u001b[0;36mpandas.index.IndexEngine.get_loc (pandas/index.c:4433)\u001b[0;34m()\u001b[0m\n",
      "\u001b[0;32mpandas/index.pyx\u001b[0m in \u001b[0;36mpandas.index.IndexEngine.get_loc (pandas/index.c:4279)\u001b[0;34m()\u001b[0m\n",
      "\u001b[0;32mpandas/src/hashtable_class_helper.pxi\u001b[0m in \u001b[0;36mpandas.hashtable.PyObjectHashTable.get_item (pandas/hashtable.c:13742)\u001b[0;34m()\u001b[0m\n",
      "\u001b[0;32mpandas/src/hashtable_class_helper.pxi\u001b[0m in \u001b[0;36mpandas.hashtable.PyObjectHashTable.get_item (pandas/hashtable.c:13696)\u001b[0;34m()\u001b[0m\n",
      "\u001b[0;31mKeyError\u001b[0m: 0",
      "\nDuring handling of the above exception, another exception occurred:\n",
      "\u001b[0;31mKeyError\u001b[0m                                  Traceback (most recent call last)",
      "\u001b[0;32m<ipython-input-33-ce9e1e92f26d>\u001b[0m in \u001b[0;36m<module>\u001b[0;34m()\u001b[0m\n\u001b[1;32m     13\u001b[0m \u001b[0mtop_genres\u001b[0m \u001b[0;34m=\u001b[0m \u001b[0mpd\u001b[0m\u001b[0;34m.\u001b[0m\u001b[0mDataFrame\u001b[0m\u001b[0;34m.\u001b[0m\u001b[0mfrom_dict\u001b[0m\u001b[0;34m(\u001b[0m\u001b[0mcount\u001b[0m\u001b[0;34m,\u001b[0m \u001b[0morient\u001b[0m\u001b[0;34m=\u001b[0m\u001b[0;34m'index'\u001b[0m\u001b[0;34m)\u001b[0m\u001b[0;34m\u001b[0m\u001b[0m\n\u001b[1;32m     14\u001b[0m \u001b[0;31m# sort genres descending\u001b[0m\u001b[0;34m\u001b[0m\u001b[0;34m\u001b[0m\u001b[0m\n\u001b[0;32m---> 15\u001b[0;31m \u001b[0mtop_genres\u001b[0m\u001b[0;34m.\u001b[0m\u001b[0msort_values\u001b[0m\u001b[0;34m(\u001b[0m\u001b[0mby\u001b[0m\u001b[0;34m=\u001b[0m\u001b[0;36m0\u001b[0m\u001b[0;34m,\u001b[0m \u001b[0mascending\u001b[0m\u001b[0;34m=\u001b[0m\u001b[0;32mFalse\u001b[0m\u001b[0;34m)\u001b[0m\u001b[0;34m.\u001b[0m\u001b[0mhead\u001b[0m\u001b[0;34m(\u001b[0m\u001b[0;34m)\u001b[0m\u001b[0;34m\u001b[0m\u001b[0m\n\u001b[0m",
      "\u001b[0;32m/opt/conda/lib/python3.6/site-packages/pandas/core/frame.py\u001b[0m in \u001b[0;36msort_values\u001b[0;34m(self, by, axis, ascending, inplace, kind, na_position)\u001b[0m\n\u001b[1;32m   3228\u001b[0m \u001b[0;34m\u001b[0m\u001b[0m\n\u001b[1;32m   3229\u001b[0m             \u001b[0mby\u001b[0m \u001b[0;34m=\u001b[0m \u001b[0mby\u001b[0m\u001b[0;34m[\u001b[0m\u001b[0;36m0\u001b[0m\u001b[0;34m]\u001b[0m\u001b[0;34m\u001b[0m\u001b[0m\n\u001b[0;32m-> 3230\u001b[0;31m             \u001b[0mk\u001b[0m \u001b[0;34m=\u001b[0m \u001b[0mself\u001b[0m\u001b[0;34m.\u001b[0m\u001b[0mxs\u001b[0m\u001b[0;34m(\u001b[0m\u001b[0mby\u001b[0m\u001b[0;34m,\u001b[0m \u001b[0maxis\u001b[0m\u001b[0;34m=\u001b[0m\u001b[0mother_axis\u001b[0m\u001b[0;34m)\u001b[0m\u001b[0;34m.\u001b[0m\u001b[0mvalues\u001b[0m\u001b[0;34m\u001b[0m\u001b[0m\n\u001b[0m\u001b[1;32m   3231\u001b[0m             \u001b[0;32mif\u001b[0m \u001b[0mk\u001b[0m\u001b[0;34m.\u001b[0m\u001b[0mndim\u001b[0m \u001b[0;34m==\u001b[0m \u001b[0;36m2\u001b[0m\u001b[0;34m:\u001b[0m\u001b[0;34m\u001b[0m\u001b[0m\n\u001b[1;32m   3232\u001b[0m \u001b[0;34m\u001b[0m\u001b[0m\n",
      "\u001b[0;32m/opt/conda/lib/python3.6/site-packages/pandas/core/generic.py\u001b[0m in \u001b[0;36mxs\u001b[0;34m(self, key, axis, level, drop_level)\u001b[0m\n\u001b[1;32m   1768\u001b[0m \u001b[0;34m\u001b[0m\u001b[0m\n\u001b[1;32m   1769\u001b[0m         \u001b[0;32mif\u001b[0m \u001b[0maxis\u001b[0m \u001b[0;34m==\u001b[0m \u001b[0;36m1\u001b[0m\u001b[0;34m:\u001b[0m\u001b[0;34m\u001b[0m\u001b[0m\n\u001b[0;32m-> 1770\u001b[0;31m             \u001b[0;32mreturn\u001b[0m \u001b[0mself\u001b[0m\u001b[0;34m[\u001b[0m\u001b[0mkey\u001b[0m\u001b[0;34m]\u001b[0m\u001b[0;34m\u001b[0m\u001b[0m\n\u001b[0m\u001b[1;32m   1771\u001b[0m \u001b[0;34m\u001b[0m\u001b[0m\n\u001b[1;32m   1772\u001b[0m         \u001b[0mself\u001b[0m\u001b[0;34m.\u001b[0m\u001b[0m_consolidate_inplace\u001b[0m\u001b[0;34m(\u001b[0m\u001b[0;34m)\u001b[0m\u001b[0;34m\u001b[0m\u001b[0m\n",
      "\u001b[0;32m/opt/conda/lib/python3.6/site-packages/pandas/core/frame.py\u001b[0m in \u001b[0;36m__getitem__\u001b[0;34m(self, key)\u001b[0m\n\u001b[1;32m   2057\u001b[0m             \u001b[0;32mreturn\u001b[0m \u001b[0mself\u001b[0m\u001b[0;34m.\u001b[0m\u001b[0m_getitem_multilevel\u001b[0m\u001b[0;34m(\u001b[0m\u001b[0mkey\u001b[0m\u001b[0;34m)\u001b[0m\u001b[0;34m\u001b[0m\u001b[0m\n\u001b[1;32m   2058\u001b[0m         \u001b[0;32melse\u001b[0m\u001b[0;34m:\u001b[0m\u001b[0;34m\u001b[0m\u001b[0m\n\u001b[0;32m-> 2059\u001b[0;31m             \u001b[0;32mreturn\u001b[0m \u001b[0mself\u001b[0m\u001b[0;34m.\u001b[0m\u001b[0m_getitem_column\u001b[0m\u001b[0;34m(\u001b[0m\u001b[0mkey\u001b[0m\u001b[0;34m)\u001b[0m\u001b[0;34m\u001b[0m\u001b[0m\n\u001b[0m\u001b[1;32m   2060\u001b[0m \u001b[0;34m\u001b[0m\u001b[0m\n\u001b[1;32m   2061\u001b[0m     \u001b[0;32mdef\u001b[0m \u001b[0m_getitem_column\u001b[0m\u001b[0;34m(\u001b[0m\u001b[0mself\u001b[0m\u001b[0;34m,\u001b[0m \u001b[0mkey\u001b[0m\u001b[0;34m)\u001b[0m\u001b[0;34m:\u001b[0m\u001b[0;34m\u001b[0m\u001b[0m\n",
      "\u001b[0;32m/opt/conda/lib/python3.6/site-packages/pandas/core/frame.py\u001b[0m in \u001b[0;36m_getitem_column\u001b[0;34m(self, key)\u001b[0m\n\u001b[1;32m   2064\u001b[0m         \u001b[0;31m# get column\u001b[0m\u001b[0;34m\u001b[0m\u001b[0;34m\u001b[0m\u001b[0m\n\u001b[1;32m   2065\u001b[0m         \u001b[0;32mif\u001b[0m \u001b[0mself\u001b[0m\u001b[0;34m.\u001b[0m\u001b[0mcolumns\u001b[0m\u001b[0;34m.\u001b[0m\u001b[0mis_unique\u001b[0m\u001b[0;34m:\u001b[0m\u001b[0;34m\u001b[0m\u001b[0m\n\u001b[0;32m-> 2066\u001b[0;31m             \u001b[0;32mreturn\u001b[0m \u001b[0mself\u001b[0m\u001b[0;34m.\u001b[0m\u001b[0m_get_item_cache\u001b[0m\u001b[0;34m(\u001b[0m\u001b[0mkey\u001b[0m\u001b[0;34m)\u001b[0m\u001b[0;34m\u001b[0m\u001b[0m\n\u001b[0m\u001b[1;32m   2067\u001b[0m \u001b[0;34m\u001b[0m\u001b[0m\n\u001b[1;32m   2068\u001b[0m         \u001b[0;31m# duplicate columns & possible reduce dimensionality\u001b[0m\u001b[0;34m\u001b[0m\u001b[0;34m\u001b[0m\u001b[0m\n",
      "\u001b[0;32m/opt/conda/lib/python3.6/site-packages/pandas/core/generic.py\u001b[0m in \u001b[0;36m_get_item_cache\u001b[0;34m(self, item)\u001b[0m\n\u001b[1;32m   1384\u001b[0m         \u001b[0mres\u001b[0m \u001b[0;34m=\u001b[0m \u001b[0mcache\u001b[0m\u001b[0;34m.\u001b[0m\u001b[0mget\u001b[0m\u001b[0;34m(\u001b[0m\u001b[0mitem\u001b[0m\u001b[0;34m)\u001b[0m\u001b[0;34m\u001b[0m\u001b[0m\n\u001b[1;32m   1385\u001b[0m         \u001b[0;32mif\u001b[0m \u001b[0mres\u001b[0m \u001b[0;32mis\u001b[0m \u001b[0;32mNone\u001b[0m\u001b[0;34m:\u001b[0m\u001b[0;34m\u001b[0m\u001b[0m\n\u001b[0;32m-> 1386\u001b[0;31m             \u001b[0mvalues\u001b[0m \u001b[0;34m=\u001b[0m \u001b[0mself\u001b[0m\u001b[0;34m.\u001b[0m\u001b[0m_data\u001b[0m\u001b[0;34m.\u001b[0m\u001b[0mget\u001b[0m\u001b[0;34m(\u001b[0m\u001b[0mitem\u001b[0m\u001b[0;34m)\u001b[0m\u001b[0;34m\u001b[0m\u001b[0m\n\u001b[0m\u001b[1;32m   1387\u001b[0m             \u001b[0mres\u001b[0m \u001b[0;34m=\u001b[0m \u001b[0mself\u001b[0m\u001b[0;34m.\u001b[0m\u001b[0m_box_item_values\u001b[0m\u001b[0;34m(\u001b[0m\u001b[0mitem\u001b[0m\u001b[0;34m,\u001b[0m \u001b[0mvalues\u001b[0m\u001b[0;34m)\u001b[0m\u001b[0;34m\u001b[0m\u001b[0m\n\u001b[1;32m   1388\u001b[0m             \u001b[0mcache\u001b[0m\u001b[0;34m[\u001b[0m\u001b[0mitem\u001b[0m\u001b[0;34m]\u001b[0m \u001b[0;34m=\u001b[0m \u001b[0mres\u001b[0m\u001b[0;34m\u001b[0m\u001b[0m\n",
      "\u001b[0;32m/opt/conda/lib/python3.6/site-packages/pandas/core/internals.py\u001b[0m in \u001b[0;36mget\u001b[0;34m(self, item, fastpath)\u001b[0m\n\u001b[1;32m   3541\u001b[0m \u001b[0;34m\u001b[0m\u001b[0m\n\u001b[1;32m   3542\u001b[0m             \u001b[0;32mif\u001b[0m \u001b[0;32mnot\u001b[0m \u001b[0misnull\u001b[0m\u001b[0;34m(\u001b[0m\u001b[0mitem\u001b[0m\u001b[0;34m)\u001b[0m\u001b[0;34m:\u001b[0m\u001b[0;34m\u001b[0m\u001b[0m\n\u001b[0;32m-> 3543\u001b[0;31m                 \u001b[0mloc\u001b[0m \u001b[0;34m=\u001b[0m \u001b[0mself\u001b[0m\u001b[0;34m.\u001b[0m\u001b[0mitems\u001b[0m\u001b[0;34m.\u001b[0m\u001b[0mget_loc\u001b[0m\u001b[0;34m(\u001b[0m\u001b[0mitem\u001b[0m\u001b[0;34m)\u001b[0m\u001b[0;34m\u001b[0m\u001b[0m\n\u001b[0m\u001b[1;32m   3544\u001b[0m             \u001b[0;32melse\u001b[0m\u001b[0;34m:\u001b[0m\u001b[0;34m\u001b[0m\u001b[0m\n\u001b[1;32m   3545\u001b[0m                 \u001b[0mindexer\u001b[0m \u001b[0;34m=\u001b[0m \u001b[0mnp\u001b[0m\u001b[0;34m.\u001b[0m\u001b[0marange\u001b[0m\u001b[0;34m(\u001b[0m\u001b[0mlen\u001b[0m\u001b[0;34m(\u001b[0m\u001b[0mself\u001b[0m\u001b[0;34m.\u001b[0m\u001b[0mitems\u001b[0m\u001b[0;34m)\u001b[0m\u001b[0;34m)\u001b[0m\u001b[0;34m[\u001b[0m\u001b[0misnull\u001b[0m\u001b[0;34m(\u001b[0m\u001b[0mself\u001b[0m\u001b[0;34m.\u001b[0m\u001b[0mitems\u001b[0m\u001b[0;34m)\u001b[0m\u001b[0;34m]\u001b[0m\u001b[0;34m\u001b[0m\u001b[0m\n",
      "\u001b[0;32m/opt/conda/lib/python3.6/site-packages/pandas/indexes/base.py\u001b[0m in \u001b[0;36mget_loc\u001b[0;34m(self, key, method, tolerance)\u001b[0m\n\u001b[1;32m   2134\u001b[0m                 \u001b[0;32mreturn\u001b[0m \u001b[0mself\u001b[0m\u001b[0;34m.\u001b[0m\u001b[0m_engine\u001b[0m\u001b[0;34m.\u001b[0m\u001b[0mget_loc\u001b[0m\u001b[0;34m(\u001b[0m\u001b[0mkey\u001b[0m\u001b[0;34m)\u001b[0m\u001b[0;34m\u001b[0m\u001b[0m\n\u001b[1;32m   2135\u001b[0m             \u001b[0;32mexcept\u001b[0m \u001b[0mKeyError\u001b[0m\u001b[0;34m:\u001b[0m\u001b[0;34m\u001b[0m\u001b[0m\n\u001b[0;32m-> 2136\u001b[0;31m                 \u001b[0;32mreturn\u001b[0m \u001b[0mself\u001b[0m\u001b[0;34m.\u001b[0m\u001b[0m_engine\u001b[0m\u001b[0;34m.\u001b[0m\u001b[0mget_loc\u001b[0m\u001b[0;34m(\u001b[0m\u001b[0mself\u001b[0m\u001b[0;34m.\u001b[0m\u001b[0m_maybe_cast_indexer\u001b[0m\u001b[0;34m(\u001b[0m\u001b[0mkey\u001b[0m\u001b[0;34m)\u001b[0m\u001b[0;34m)\u001b[0m\u001b[0;34m\u001b[0m\u001b[0m\n\u001b[0m\u001b[1;32m   2137\u001b[0m \u001b[0;34m\u001b[0m\u001b[0m\n\u001b[1;32m   2138\u001b[0m         \u001b[0mindexer\u001b[0m \u001b[0;34m=\u001b[0m \u001b[0mself\u001b[0m\u001b[0;34m.\u001b[0m\u001b[0mget_indexer\u001b[0m\u001b[0;34m(\u001b[0m\u001b[0;34m[\u001b[0m\u001b[0mkey\u001b[0m\u001b[0;34m]\u001b[0m\u001b[0;34m,\u001b[0m \u001b[0mmethod\u001b[0m\u001b[0;34m=\u001b[0m\u001b[0mmethod\u001b[0m\u001b[0;34m,\u001b[0m \u001b[0mtolerance\u001b[0m\u001b[0;34m=\u001b[0m\u001b[0mtolerance\u001b[0m\u001b[0;34m)\u001b[0m\u001b[0;34m\u001b[0m\u001b[0m\n",
      "\u001b[0;32mpandas/index.pyx\u001b[0m in \u001b[0;36mpandas.index.IndexEngine.get_loc (pandas/index.c:4433)\u001b[0;34m()\u001b[0m\n",
      "\u001b[0;32mpandas/index.pyx\u001b[0m in \u001b[0;36mpandas.index.IndexEngine.get_loc (pandas/index.c:4279)\u001b[0;34m()\u001b[0m\n",
      "\u001b[0;32mpandas/src/hashtable_class_helper.pxi\u001b[0m in \u001b[0;36mpandas.hashtable.PyObjectHashTable.get_item (pandas/hashtable.c:13742)\u001b[0;34m()\u001b[0m\n",
      "\u001b[0;32mpandas/src/hashtable_class_helper.pxi\u001b[0m in \u001b[0;36mpandas.hashtable.PyObjectHashTable.get_item (pandas/hashtable.c:13696)\u001b[0;34m()\u001b[0m\n",
      "\u001b[0;31mKeyError\u001b[0m: 0"
     ]
    }
   ],
   "source": [
    "count = {}\n",
    "\n",
    "# for each artist\n",
    "for key, value in spotify_genres.items():\n",
    "    # for each genre in the artist's list of genres\n",
    "    for genre in value:\n",
    "        # increment count of that genre\n",
    "        if genre in count:\n",
    "            count[genre] += 1\n",
    "        else:\n",
    "            count[genre] = 1\n",
    "\n",
    "top_genres = pd.DataFrame.from_dict(count, orient='index')\n",
    "# sort genres descending\n",
    "top_genres.sort_values(by=0, ascending=False).head()"
   ]
  },
  {
   "cell_type": "markdown",
   "metadata": {},
   "source": [
    "## Simplifying the genre data\n",
    "The data includes subgenres and various genre distinctions outside the scope of our project goals. We want to map the geographic distributions of hip hop, country, and rock artists' tour locations. Go through the data to sort artists into these categories. We collapse hip hop, rap, and subgenres containing these terms into one genre. Country and country subgenres are also collapsed into one, and the same is done for rock and rock subgenres. Artists of other genres are dropped."
   ]
  },
  {
   "cell_type": "code",
   "execution_count": 31,
   "metadata": {},
   "outputs": [
    {
     "data": {
      "text/html": [
       "<div>\n",
       "<table border=\"1\" class=\"dataframe\">\n",
       "  <thead>\n",
       "    <tr style=\"text-align: right;\">\n",
       "      <th></th>\n",
       "    </tr>\n",
       "  </thead>\n",
       "  <tbody>\n",
       "  </tbody>\n",
       "</table>\n",
       "</div>"
      ],
      "text/plain": [
       "Empty DataFrame\n",
       "Columns: []\n",
       "Index: []"
      ]
     },
     "execution_count": 31,
     "metadata": {},
     "output_type": "execute_result"
    }
   ],
   "source": [
    "# Get single genre names\n",
    "genres = {}\n",
    "# Filter trap\n",
    "hip_hop = re.compile(r'(hip hop|^rap)',re.MULTILINE)\n",
    "country = re.compile(r'country')\n",
    "rock = re.compile(r'rock')\n",
    "\n",
    "for key, value in spotify_genres.items():\n",
    "    # Search genre list of each artist\n",
    "    for genre in value:\n",
    "        if hip_hop.match(genre):\n",
    "            genres[key] = 'hip hop'\n",
    "        else:\n",
    "            if country.match(genre):\n",
    "                genres[key] = 'country'\n",
    "            else:\n",
    "                if rock.match(genre):\n",
    "                    genres[key] = 'rock'\n",
    "                # If not hip hop, country, or rock, discard\n",
    "df2 = pd.DataFrame.from_dict(genres, orient='index')\n",
    "df2"
   ]
  },
  {
   "cell_type": "markdown",
   "metadata": {},
   "source": [
    "## Using the setlist.fm API\n",
    "\n",
    "setlist.fm is a website that collects the setlists of music artists' live performances. This data includes the location and date of the performance, which is also accessible through their API. The setlist.fm API is documented [here](https://api.setlist.fm/docs/1.0/index.html)."
   ]
  },
  {
   "cell_type": "markdown",
   "metadata": {},
   "source": [
    "## Determine top cities\n",
    "We are interested in exploring geographic differences in the tour locations of artists in various genres, but more popular cities can add noise to our data because they may be heavily-populated cities that are almost always visited by artists regardless of genre. We can determine the most popular cities by counting the number of occurrences in the data."
   ]
  },
  {
   "cell_type": "code",
   "execution_count": 32,
   "metadata": {},
   "outputs": [
    {
     "data": {
      "text/html": [
       "<div>\n",
       "<table border=\"1\" class=\"dataframe\">\n",
       "  <thead>\n",
       "    <tr style=\"text-align: right;\">\n",
       "      <th></th>\n",
       "      <th>0</th>\n",
       "    </tr>\n",
       "  </thead>\n",
       "  <tbody>\n",
       "    <tr>\n",
       "      <th>Paris</th>\n",
       "      <td>4</td>\n",
       "    </tr>\n",
       "    <tr>\n",
       "      <th>Toronto</th>\n",
       "      <td>3</td>\n",
       "    </tr>\n",
       "    <tr>\n",
       "      <th>Amsterdam</th>\n",
       "      <td>3</td>\n",
       "    </tr>\n",
       "    <tr>\n",
       "      <th>Boston</th>\n",
       "      <td>3</td>\n",
       "    </tr>\n",
       "    <tr>\n",
       "      <th>Glasgow</th>\n",
       "      <td>2</td>\n",
       "    </tr>\n",
       "  </tbody>\n",
       "</table>\n",
       "</div>"
      ],
      "text/plain": [
       "           0\n",
       "Paris      4\n",
       "Toronto    3\n",
       "Amsterdam  3\n",
       "Boston     3\n",
       "Glasgow    2"
      ]
     },
     "execution_count": 32,
     "metadata": {},
     "output_type": "execute_result"
    }
   ],
   "source": [
    "sample = pd.read_csv('sample.csv')\n",
    "city_count = {}\n",
    "\n",
    "# for each tour stop\n",
    "for index, row in sample.iterrows():\n",
    "    # increment count of that city\n",
    "    if row['cities'] in city_count:\n",
    "        city_count[row['cities']] += 1\n",
    "    else:\n",
    "        city_count[row['cities']] = 1\n",
    "\n",
    "top_cities = pd.DataFrame.from_dict(city_count, orient='index')\n",
    "# sort cities descending\n",
    "top_cities.sort_values(by=0, ascending=False).head()"
   ]
  },
  {
   "cell_type": "markdown",
   "metadata": {},
   "source": [
    "## Mapping artists’ tour locations with `folium`\n",
    "Now that we have the tour data of Spotify's top artists, we can plot the tour locations on a map using [`folium`](http://python-visualization.github.io/folium/docs-master/), a library that adapts the [`leaflet.js`](http://leafletjs.com/) mapping library for a Python ecosystem. Installation instructions can be found [here](http://python-visualization.github.io/folium/docs-master/installing.html#installation). The tour data includes the names of cities that artists visited, so use a free dataset from [Simplemaps.com](https://simplemaps.com/data/world-cities) to get the latitude and longitude of the cities. Use these coordinates to map the cities onto a `folium` map.  "
   ]
  },
  {
   "cell_type": "code",
   "execution_count": 38,
   "metadata": {
    "scrolled": true
   },
   "outputs": [
    {
     "data": {
      "text/html": [
       "<div style=\"width:100%;\"><div style=\"position:relative;width:100%;height:0;padding-bottom:60%;\"><iframe src=\"data:text/html;charset=utf-8;base64,PCFET0NUWVBFIGh0bWw+CjxoZWFkPiAgICAKICAgIDxtZXRhIGh0dHAtZXF1aXY9ImNvbnRlbnQtdHlwZSIgY29udGVudD0idGV4dC9odG1sOyBjaGFyc2V0PVVURi04IiAvPgogICAgPHNjcmlwdD5MX1BSRUZFUl9DQU5WQVMgPSBmYWxzZTsgTF9OT19UT1VDSCA9IGZhbHNlOyBMX0RJU0FCTEVfM0QgPSBmYWxzZTs8L3NjcmlwdD4KICAgIDxzY3JpcHQgc3JjPSJodHRwczovL2Nkbi5qc2RlbGl2ci5uZXQvbnBtL2xlYWZsZXRAMS4yLjAvZGlzdC9sZWFmbGV0LmpzIj48L3NjcmlwdD4KICAgIDxzY3JpcHQgc3JjPSJodHRwczovL2FqYXguZ29vZ2xlYXBpcy5jb20vYWpheC9saWJzL2pxdWVyeS8xLjExLjEvanF1ZXJ5Lm1pbi5qcyI+PC9zY3JpcHQ+CiAgICA8c2NyaXB0IHNyYz0iaHR0cHM6Ly9tYXhjZG4uYm9vdHN0cmFwY2RuLmNvbS9ib290c3RyYXAvMy4yLjAvanMvYm9vdHN0cmFwLm1pbi5qcyI+PC9zY3JpcHQ+CiAgICA8c2NyaXB0IHNyYz0iaHR0cHM6Ly9jZG5qcy5jbG91ZGZsYXJlLmNvbS9hamF4L2xpYnMvTGVhZmxldC5hd2Vzb21lLW1hcmtlcnMvMi4wLjIvbGVhZmxldC5hd2Vzb21lLW1hcmtlcnMuanMiPjwvc2NyaXB0PgogICAgPGxpbmsgcmVsPSJzdHlsZXNoZWV0IiBocmVmPSJodHRwczovL2Nkbi5qc2RlbGl2ci5uZXQvbnBtL2xlYWZsZXRAMS4yLjAvZGlzdC9sZWFmbGV0LmNzcyIgLz4KICAgIDxsaW5rIHJlbD0ic3R5bGVzaGVldCIgaHJlZj0iaHR0cHM6Ly9tYXhjZG4uYm9vdHN0cmFwY2RuLmNvbS9ib290c3RyYXAvMy4yLjAvY3NzL2Jvb3RzdHJhcC5taW4uY3NzIiAvPgogICAgPGxpbmsgcmVsPSJzdHlsZXNoZWV0IiBocmVmPSJodHRwczovL21heGNkbi5ib290c3RyYXBjZG4uY29tL2Jvb3RzdHJhcC8zLjIuMC9jc3MvYm9vdHN0cmFwLXRoZW1lLm1pbi5jc3MiIC8+CiAgICA8bGluayByZWw9InN0eWxlc2hlZXQiIGhyZWY9Imh0dHBzOi8vbWF4Y2RuLmJvb3RzdHJhcGNkbi5jb20vZm9udC1hd2Vzb21lLzQuNi4zL2Nzcy9mb250LWF3ZXNvbWUubWluLmNzcyIgLz4KICAgIDxsaW5rIHJlbD0ic3R5bGVzaGVldCIgaHJlZj0iaHR0cHM6Ly9jZG5qcy5jbG91ZGZsYXJlLmNvbS9hamF4L2xpYnMvTGVhZmxldC5hd2Vzb21lLW1hcmtlcnMvMi4wLjIvbGVhZmxldC5hd2Vzb21lLW1hcmtlcnMuY3NzIiAvPgogICAgPGxpbmsgcmVsPSJzdHlsZXNoZWV0IiBocmVmPSJodHRwczovL3Jhd2dpdC5jb20vcHl0aG9uLXZpc3VhbGl6YXRpb24vZm9saXVtL21hc3Rlci9mb2xpdW0vdGVtcGxhdGVzL2xlYWZsZXQuYXdlc29tZS5yb3RhdGUuY3NzIiAvPgogICAgPHN0eWxlPmh0bWwsIGJvZHkge3dpZHRoOiAxMDAlO2hlaWdodDogMTAwJTttYXJnaW46IDA7cGFkZGluZzogMDt9PC9zdHlsZT4KICAgIDxzdHlsZT4jbWFwIHtwb3NpdGlvbjphYnNvbHV0ZTt0b3A6MDtib3R0b206MDtyaWdodDowO2xlZnQ6MDt9PC9zdHlsZT4KICAgIAogICAgICAgICAgICA8c3R5bGU+ICNtYXBfNTA0NThiZDdhODY4NGEyNTg2NTdkZjAzNDFjOTc1MWMgewogICAgICAgICAgICAgICAgcG9zaXRpb24gOiByZWxhdGl2ZTsKICAgICAgICAgICAgICAgIHdpZHRoIDogMTAwLjAlOwogICAgICAgICAgICAgICAgaGVpZ2h0OiAxMDAuMCU7CiAgICAgICAgICAgICAgICBsZWZ0OiAwLjAlOwogICAgICAgICAgICAgICAgdG9wOiAwLjAlOwogICAgICAgICAgICAgICAgfQogICAgICAgICAgICA8L3N0eWxlPgogICAgICAgIAo8L2hlYWQ+Cjxib2R5PiAgICAKICAgIAogICAgICAgICAgICA8ZGl2IGNsYXNzPSJmb2xpdW0tbWFwIiBpZD0ibWFwXzUwNDU4YmQ3YTg2ODRhMjU4NjU3ZGYwMzQxYzk3NTFjIiA+PC9kaXY+CiAgICAgICAgCjwvYm9keT4KPHNjcmlwdD4gICAgCiAgICAKCiAgICAgICAgICAgIAogICAgICAgICAgICAgICAgdmFyIGJvdW5kcyA9IG51bGw7CiAgICAgICAgICAgIAoKICAgICAgICAgICAgdmFyIG1hcF81MDQ1OGJkN2E4Njg0YTI1ODY1N2RmMDM0MWM5NzUxYyA9IEwubWFwKAogICAgICAgICAgICAgICAgICAgICAgICAgICAgICAgICAgJ21hcF81MDQ1OGJkN2E4Njg0YTI1ODY1N2RmMDM0MWM5NzUxYycsCiAgICAgICAgICAgICAgICAgICAgICAgICAgICAgICAgICB7Y2VudGVyOiBbMzkuNSwtOTguMzVdLAogICAgICAgICAgICAgICAgICAgICAgICAgICAgICAgICAgem9vbTogNCwKICAgICAgICAgICAgICAgICAgICAgICAgICAgICAgICAgIG1heEJvdW5kczogYm91bmRzLAogICAgICAgICAgICAgICAgICAgICAgICAgICAgICAgICAgbGF5ZXJzOiBbXSwKICAgICAgICAgICAgICAgICAgICAgICAgICAgICAgICAgIHdvcmxkQ29weUp1bXA6IGZhbHNlLAogICAgICAgICAgICAgICAgICAgICAgICAgICAgICAgICAgY3JzOiBMLkNSUy5FUFNHMzg1NwogICAgICAgICAgICAgICAgICAgICAgICAgICAgICAgICB9KTsKICAgICAgICAgICAgCiAgICAgICAgCiAgICAKICAgICAgICAgICAgdmFyIHRpbGVfbGF5ZXJfMGE1OTIwNjk1YjMzNDk3OGI4MDg1ZTk4ZmRhOTdhNjkgPSBMLnRpbGVMYXllcigKICAgICAgICAgICAgICAgICdodHRwczovL3tzfS50aWxlLm9wZW5zdHJlZXRtYXAub3JnL3t6fS97eH0ve3l9LnBuZycsCiAgICAgICAgICAgICAgICB7CiAgImF0dHJpYnV0aW9uIjogbnVsbCwKICAiZGV0ZWN0UmV0aW5hIjogZmFsc2UsCiAgIm1heFpvb20iOiAxOCwKICAibWluWm9vbSI6IDEsCiAgIm5vV3JhcCI6IGZhbHNlLAogICJzdWJkb21haW5zIjogImFiYyIKfQogICAgICAgICAgICAgICAgKS5hZGRUbyhtYXBfNTA0NThiZDdhODY4NGEyNTg2NTdkZjAzNDFjOTc1MWMpOwogICAgICAgIAogICAgCgogICAgICAgICAgICB2YXIgbWFya2VyXzg0OWFkMjc4NzZmNDQ4MzBiMzdhZDJkYjMzNWY4ZGI3ID0gTC5tYXJrZXIoCiAgICAgICAgICAgICAgICBbLTM3LjgyMDAzMTMxLDE0NC45NzUwMTYyXSwKICAgICAgICAgICAgICAgIHsKICAgICAgICAgICAgICAgICAgICBpY29uOiBuZXcgTC5JY29uLkRlZmF1bHQoKQogICAgICAgICAgICAgICAgICAgIH0KICAgICAgICAgICAgICAgICkKICAgICAgICAgICAgICAgIC5hZGRUbyhtYXBfNTA0NThiZDdhODY4NGEyNTg2NTdkZjAzNDFjOTc1MWMpOwogICAgICAgICAgICAKICAgIAoKICAgICAgICAgICAgICAgIHZhciBpY29uX2I1MmI2NzI5MDczZjRhZDE5NjM1MWU3NmI1ODE4N2UzID0gTC5Bd2Vzb21lTWFya2Vycy5pY29uKHsKICAgICAgICAgICAgICAgICAgICBpY29uOiAnaW5mby1zaWduJywKICAgICAgICAgICAgICAgICAgICBpY29uQ29sb3I6ICd3aGl0ZScsCiAgICAgICAgICAgICAgICAgICAgbWFya2VyQ29sb3I6ICdyZWQnLAogICAgICAgICAgICAgICAgICAgIHByZWZpeDogJ2dseXBoaWNvbicsCiAgICAgICAgICAgICAgICAgICAgZXh0cmFDbGFzc2VzOiAnZmEtcm90YXRlLTAnCiAgICAgICAgICAgICAgICAgICAgfSk7CiAgICAgICAgICAgICAgICBtYXJrZXJfODQ5YWQyNzg3NmY0NDgzMGIzN2FkMmRiMzM1ZjhkYjcuc2V0SWNvbihpY29uX2I1MmI2NzI5MDczZjRhZDE5NjM1MWU3NmI1ODE4N2UzKTsKICAgICAgICAgICAgCiAgICAKICAgICAgICAgICAgdmFyIHBvcHVwX2JkOWYyMTFlM2RmYzRhOWZhMmNjNjJhOWU5NGU4NDkyID0gTC5wb3B1cCh7bWF4V2lkdGg6ICczMDAnfSk7CgogICAgICAgICAgICAKICAgICAgICAgICAgICAgIHZhciBodG1sXzBiMDRmMjZhZjBhZjRjMmZhNTQzM2U2NzM5MWM4NGE2ID0gJCgnPGRpdiBpZD0iaHRtbF8wYjA0ZjI2YWYwYWY0YzJmYTU0MzNlNjczOTFjODRhNiIgc3R5bGU9IndpZHRoOiAxMDAuMCU7IGhlaWdodDogMTAwLjAlOyI+RHJha2UsIE1lbGJvdXJuZTwvZGl2PicpWzBdOwogICAgICAgICAgICAgICAgcG9wdXBfYmQ5ZjIxMWUzZGZjNGE5ZmEyY2M2MmE5ZTk0ZTg0OTIuc2V0Q29udGVudChodG1sXzBiMDRmMjZhZjBhZjRjMmZhNTQzM2U2NzM5MWM4NGE2KTsKICAgICAgICAgICAgCgogICAgICAgICAgICBtYXJrZXJfODQ5YWQyNzg3NmY0NDgzMGIzN2FkMmRiMzM1ZjhkYjcuYmluZFBvcHVwKHBvcHVwX2JkOWYyMTFlM2RmYzRhOWZhMmNjNjJhOWU5NGU4NDkyKTsKCiAgICAgICAgICAgIAogICAgICAgIAogICAgCgogICAgICAgICAgICB2YXIgbWFya2VyXzBmZThkODJlZWE5ZTRiOGNiNzEyMjY0NDk0Zjk4MmVkID0gTC5tYXJrZXIoCiAgICAgICAgICAgICAgICBbLTI3LjQ1NTAzMDkxLDE1My4wMzUwOTI3XSwKICAgICAgICAgICAgICAgIHsKICAgICAgICAgICAgICAgICAgICBpY29uOiBuZXcgTC5JY29uLkRlZmF1bHQoKQogICAgICAgICAgICAgICAgICAgIH0KICAgICAgICAgICAgICAgICkKICAgICAgICAgICAgICAgIC5hZGRUbyhtYXBfNTA0NThiZDdhODY4NGEyNTg2NTdkZjAzNDFjOTc1MWMpOwogICAgICAgICAgICAKICAgIAoKICAgICAgICAgICAgICAgIHZhciBpY29uX2U0NzQ2NTc1ODIyNTQxODc4M2ZkMjBjYjJkNDE0YzhhID0gTC5Bd2Vzb21lTWFya2Vycy5pY29uKHsKICAgICAgICAgICAgICAgICAgICBpY29uOiAnaW5mby1zaWduJywKICAgICAgICAgICAgICAgICAgICBpY29uQ29sb3I6ICd3aGl0ZScsCiAgICAgICAgICAgICAgICAgICAgbWFya2VyQ29sb3I6ICdyZWQnLAogICAgICAgICAgICAgICAgICAgIHByZWZpeDogJ2dseXBoaWNvbicsCiAgICAgICAgICAgICAgICAgICAgZXh0cmFDbGFzc2VzOiAnZmEtcm90YXRlLTAnCiAgICAgICAgICAgICAgICAgICAgfSk7CiAgICAgICAgICAgICAgICBtYXJrZXJfMGZlOGQ4MmVlYTllNGI4Y2I3MTIyNjQ0OTRmOTgyZWQuc2V0SWNvbihpY29uX2U0NzQ2NTc1ODIyNTQxODc4M2ZkMjBjYjJkNDE0YzhhKTsKICAgICAgICAgICAgCiAgICAKICAgICAgICAgICAgdmFyIHBvcHVwX2U5ZGE1YWU0NWI3YjQ3YTViMGYyOTgwMDdlMmMyMDJhID0gTC5wb3B1cCh7bWF4V2lkdGg6ICczMDAnfSk7CgogICAgICAgICAgICAKICAgICAgICAgICAgICAgIHZhciBodG1sXzZlZmY3ODU1M2RjMzQwNmM5NTQ5YzAyYmQ5YTg4ZGRiID0gJCgnPGRpdiBpZD0iaHRtbF82ZWZmNzg1NTNkYzM0MDZjOTU0OWMwMmJkOWE4OGRkYiIgc3R5bGU9IndpZHRoOiAxMDAuMCU7IGhlaWdodDogMTAwLjAlOyI+RHJha2UsIEJyaXNiYW5lPC9kaXY+JylbMF07CiAgICAgICAgICAgICAgICBwb3B1cF9lOWRhNWFlNDViN2I0N2E1YjBmMjk4MDA3ZTJjMjAyYS5zZXRDb250ZW50KGh0bWxfNmVmZjc4NTUzZGMzNDA2Yzk1NDljMDJiZDlhODhkZGIpOwogICAgICAgICAgICAKCiAgICAgICAgICAgIG1hcmtlcl8wZmU4ZDgyZWVhOWU0YjhjYjcxMjI2NDQ5NGY5ODJlZC5iaW5kUG9wdXAocG9wdXBfZTlkYTVhZTQ1YjdiNDdhNWIwZjI5ODAwN2UyYzIwMmEpOwoKICAgICAgICAgICAgCiAgICAgICAgCiAgICAKCiAgICAgICAgICAgIHZhciBtYXJrZXJfODBkZDQ1MWNlMjEzNDg1OWI2YjJlZDc2ZDM4MzBmYzYgPSBMLm1hcmtlcigKICAgICAgICAgICAgICAgIFstMzMuOTIwMDEwOTcsMTUxLjE4NTE3OThdLAogICAgICAgICAgICAgICAgewogICAgICAgICAgICAgICAgICAgIGljb246IG5ldyBMLkljb24uRGVmYXVsdCgpCiAgICAgICAgICAgICAgICAgICAgfQogICAgICAgICAgICAgICAgKQogICAgICAgICAgICAgICAgLmFkZFRvKG1hcF81MDQ1OGJkN2E4Njg0YTI1ODY1N2RmMDM0MWM5NzUxYyk7CiAgICAgICAgICAgIAogICAgCgogICAgICAgICAgICAgICAgdmFyIGljb25fMDU2OTNkYzYyMGIxNDIyNjlkZTMyM2NjYmQyODU2ZWEgPSBMLkF3ZXNvbWVNYXJrZXJzLmljb24oewogICAgICAgICAgICAgICAgICAgIGljb246ICdpbmZvLXNpZ24nLAogICAgICAgICAgICAgICAgICAgIGljb25Db2xvcjogJ3doaXRlJywKICAgICAgICAgICAgICAgICAgICBtYXJrZXJDb2xvcjogJ3JlZCcsCiAgICAgICAgICAgICAgICAgICAgcHJlZml4OiAnZ2x5cGhpY29uJywKICAgICAgICAgICAgICAgICAgICBleHRyYUNsYXNzZXM6ICdmYS1yb3RhdGUtMCcKICAgICAgICAgICAgICAgICAgICB9KTsKICAgICAgICAgICAgICAgIG1hcmtlcl84MGRkNDUxY2UyMTM0ODU5YjZiMmVkNzZkMzgzMGZjNi5zZXRJY29uKGljb25fMDU2OTNkYzYyMGIxNDIyNjlkZTMyM2NjYmQyODU2ZWEpOwogICAgICAgICAgICAKICAgIAogICAgICAgICAgICB2YXIgcG9wdXBfNDVhNGJkMzllZWIwNGJmMWExMjU4Njc4NTk2YjdhNjQgPSBMLnBvcHVwKHttYXhXaWR0aDogJzMwMCd9KTsKCiAgICAgICAgICAgIAogICAgICAgICAgICAgICAgdmFyIGh0bWxfMDExODJiZjRhYzNiNGU5Y2IzNjgzNTU5MjBjYmY1N2QgPSAkKCc8ZGl2IGlkPSJodG1sXzAxMTgyYmY0YWMzYjRlOWNiMzY4MzU1OTIwY2JmNTdkIiBzdHlsZT0id2lkdGg6IDEwMC4wJTsgaGVpZ2h0OiAxMDAuMCU7Ij5EcmFrZSwgU3lkbmV5PC9kaXY+JylbMF07CiAgICAgICAgICAgICAgICBwb3B1cF80NWE0YmQzOWVlYjA0YmYxYTEyNTg2Nzg1OTZiN2E2NC5zZXRDb250ZW50KGh0bWxfMDExODJiZjRhYzNiNGU5Y2IzNjgzNTU5MjBjYmY1N2QpOwogICAgICAgICAgICAKCiAgICAgICAgICAgIG1hcmtlcl84MGRkNDUxY2UyMTM0ODU5YjZiMmVkNzZkMzgzMGZjNi5iaW5kUG9wdXAocG9wdXBfNDVhNGJkMzllZWIwNGJmMWExMjU4Njc4NTk2YjdhNjQpOwoKICAgICAgICAgICAgCiAgICAgICAgCiAgICAKCiAgICAgICAgICAgIHZhciBtYXJrZXJfMTM1NzUzYTA4NzIzNDk0YWFjNGI2ZGJlNWQ2Y2RjOTQgPSBMLm1hcmtlcigKICAgICAgICAgICAgICAgIFstMzMuOTIwMDEwOTcsMTUxLjE4NTE3OThdLAogICAgICAgICAgICAgICAgewogICAgICAgICAgICAgICAgICAgIGljb246IG5ldyBMLkljb24uRGVmYXVsdCgpCiAgICAgICAgICAgICAgICAgICAgfQogICAgICAgICAgICAgICAgKQogICAgICAgICAgICAgICAgLmFkZFRvKG1hcF81MDQ1OGJkN2E4Njg0YTI1ODY1N2RmMDM0MWM5NzUxYyk7CiAgICAgICAgICAgIAogICAgCgogICAgICAgICAgICAgICAgdmFyIGljb25fZWM4YTViYzhjMTNmNGIxZGJhMWVmM2IwYzcyNTcwM2EgPSBMLkF3ZXNvbWVNYXJrZXJzLmljb24oewogICAgICAgICAgICAgICAgICAgIGljb246ICdpbmZvLXNpZ24nLAogICAgICAgICAgICAgICAgICAgIGljb25Db2xvcjogJ3doaXRlJywKICAgICAgICAgICAgICAgICAgICBtYXJrZXJDb2xvcjogJ3JlZCcsCiAgICAgICAgICAgICAgICAgICAgcHJlZml4OiAnZ2x5cGhpY29uJywKICAgICAgICAgICAgICAgICAgICBleHRyYUNsYXNzZXM6ICdmYS1yb3RhdGUtMCcKICAgICAgICAgICAgICAgICAgICB9KTsKICAgICAgICAgICAgICAgIG1hcmtlcl8xMzU3NTNhMDg3MjM0OTRhYWM0YjZkYmU1ZDZjZGM5NC5zZXRJY29uKGljb25fZWM4YTViYzhjMTNmNGIxZGJhMWVmM2IwYzcyNTcwM2EpOwogICAgICAgICAgICAKICAgIAogICAgICAgICAgICB2YXIgcG9wdXBfZWM0ZmFkMjZkYjQwNDdiZWFiZWQ3YWY0MDg2OWViZTcgPSBMLnBvcHVwKHttYXhXaWR0aDogJzMwMCd9KTsKCiAgICAgICAgICAgIAogICAgICAgICAgICAgICAgdmFyIGh0bWxfNGY1ZThmOTFlZTVkNDk2ZmJkY2U2ODMyYzFmOGYxZmQgPSAkKCc8ZGl2IGlkPSJodG1sXzRmNWU4ZjkxZWU1ZDQ5NmZiZGNlNjgzMmMxZjhmMWZkIiBzdHlsZT0id2lkdGg6IDEwMC4wJTsgaGVpZ2h0OiAxMDAuMCU7Ij5EcmFrZSwgU3lkbmV5PC9kaXY+JylbMF07CiAgICAgICAgICAgICAgICBwb3B1cF9lYzRmYWQyNmRiNDA0N2JlYWJlZDdhZjQwODY5ZWJlNy5zZXRDb250ZW50KGh0bWxfNGY1ZThmOTFlZTVkNDk2ZmJkY2U2ODMyYzFmOGYxZmQpOwogICAgICAgICAgICAKCiAgICAgICAgICAgIG1hcmtlcl8xMzU3NTNhMDg3MjM0OTRhYWM0YjZkYmU1ZDZjZGM5NC5iaW5kUG9wdXAocG9wdXBfZWM0ZmFkMjZkYjQwNDdiZWFiZWQ3YWY0MDg2OWViZTcpOwoKICAgICAgICAgICAgCiAgICAgICAgCiAgICAKCiAgICAgICAgICAgIHZhciBtYXJrZXJfZmM4OTM2N2M3Y2IyNDM3NTliZTAzYmE5MTMwYzg0MzMgPSBMLm1hcmtlcigKICAgICAgICAgICAgICAgIFstMzYuODUwMDEzLDE3NC43NjQ5ODA4XSwKICAgICAgICAgICAgICAgIHsKICAgICAgICAgICAgICAgICAgICBpY29uOiBuZXcgTC5JY29uLkRlZmF1bHQoKQogICAgICAgICAgICAgICAgICAgIH0KICAgICAgICAgICAgICAgICkKICAgICAgICAgICAgICAgIC5hZGRUbyhtYXBfNTA0NThiZDdhODY4NGEyNTg2NTdkZjAzNDFjOTc1MWMpOwogICAgICAgICAgICAKICAgIAoKICAgICAgICAgICAgICAgIHZhciBpY29uX2RjZjE1ODcwNjZiNzQxMzhiMmFiNDA0ZDMwZDQ1NDk5ID0gTC5Bd2Vzb21lTWFya2Vycy5pY29uKHsKICAgICAgICAgICAgICAgICAgICBpY29uOiAnaW5mby1zaWduJywKICAgICAgICAgICAgICAgICAgICBpY29uQ29sb3I6ICd3aGl0ZScsCiAgICAgICAgICAgICAgICAgICAgbWFya2VyQ29sb3I6ICdyZWQnLAogICAgICAgICAgICAgICAgICAgIHByZWZpeDogJ2dseXBoaWNvbicsCiAgICAgICAgICAgICAgICAgICAgZXh0cmFDbGFzc2VzOiAnZmEtcm90YXRlLTAnCiAgICAgICAgICAgICAgICAgICAgfSk7CiAgICAgICAgICAgICAgICBtYXJrZXJfZmM4OTM2N2M3Y2IyNDM3NTliZTAzYmE5MTMwYzg0MzMuc2V0SWNvbihpY29uX2RjZjE1ODcwNjZiNzQxMzhiMmFiNDA0ZDMwZDQ1NDk5KTsKICAgICAgICAgICAgCiAgICAKICAgICAgICAgICAgdmFyIHBvcHVwX2JmYzRmNmI1YjUxMzQxZTU4ZGRmYzdiN2QzODQyZWJhID0gTC5wb3B1cCh7bWF4V2lkdGg6ICczMDAnfSk7CgogICAgICAgICAgICAKICAgICAgICAgICAgICAgIHZhciBodG1sX2Q4MzQ5OTI5Mzc2NjRkNDM4OWJkMDM0Yzc1YTUyMzY5ID0gJCgnPGRpdiBpZD0iaHRtbF9kODM0OTkyOTM3NjY0ZDQzODliZDAzNGM3NWE1MjM2OSIgc3R5bGU9IndpZHRoOiAxMDAuMCU7IGhlaWdodDogMTAwLjAlOyI+RHJha2UsIEF1Y2tsYW5kPC9kaXY+JylbMF07CiAgICAgICAgICAgICAgICBwb3B1cF9iZmM0ZjZiNWI1MTM0MWU1OGRkZmM3YjdkMzg0MmViYS5zZXRDb250ZW50KGh0bWxfZDgzNDk5MjkzNzY2NGQ0Mzg5YmQwMzRjNzVhNTIzNjkpOwogICAgICAgICAgICAKCiAgICAgICAgICAgIG1hcmtlcl9mYzg5MzY3YzdjYjI0Mzc1OWJlMDNiYTkxMzBjODQzMy5iaW5kUG9wdXAocG9wdXBfYmZjNGY2YjViNTEzNDFlNThkZGZjN2I3ZDM4NDJlYmEpOwoKICAgICAgICAgICAgCiAgICAgICAgCiAgICAKCiAgICAgICAgICAgIHZhciBtYXJrZXJfZmU5ZGU2OGYzOTIxNDBiODhjNTNhYjk5MmMwYTdlYzIgPSBMLm1hcmtlcigKICAgICAgICAgICAgICAgIFstMzYuODUwMDEzLDE3NC43NjQ5ODA4XSwKICAgICAgICAgICAgICAgIHsKICAgICAgICAgICAgICAgICAgICBpY29uOiBuZXcgTC5JY29uLkRlZmF1bHQoKQogICAgICAgICAgICAgICAgICAgIH0KICAgICAgICAgICAgICAgICkKICAgICAgICAgICAgICAgIC5hZGRUbyhtYXBfNTA0NThiZDdhODY4NGEyNTg2NTdkZjAzNDFjOTc1MWMpOwogICAgICAgICAgICAKICAgIAoKICAgICAgICAgICAgICAgIHZhciBpY29uX2U3YzdlOTIxNzNmZDQ4MGQ4NzVhZTI0NWM2NDIzZjc1ID0gTC5Bd2Vzb21lTWFya2Vycy5pY29uKHsKICAgICAgICAgICAgICAgICAgICBpY29uOiAnaW5mby1zaWduJywKICAgICAgICAgICAgICAgICAgICBpY29uQ29sb3I6ICd3aGl0ZScsCiAgICAgICAgICAgICAgICAgICAgbWFya2VyQ29sb3I6ICdyZWQnLAogICAgICAgICAgICAgICAgICAgIHByZWZpeDogJ2dseXBoaWNvbicsCiAgICAgICAgICAgICAgICAgICAgZXh0cmFDbGFzc2VzOiAnZmEtcm90YXRlLTAnCiAgICAgICAgICAgICAgICAgICAgfSk7CiAgICAgICAgICAgICAgICBtYXJrZXJfZmU5ZGU2OGYzOTIxNDBiODhjNTNhYjk5MmMwYTdlYzIuc2V0SWNvbihpY29uX2U3YzdlOTIxNzNmZDQ4MGQ4NzVhZTI0NWM2NDIzZjc1KTsKICAgICAgICAgICAgCiAgICAKICAgICAgICAgICAgdmFyIHBvcHVwX2RmNTYwOTM1YjJiYjRjZjA4MDlkYjU3M2I4Y2I4NTI4ID0gTC5wb3B1cCh7bWF4V2lkdGg6ICczMDAnfSk7CgogICAgICAgICAgICAKICAgICAgICAgICAgICAgIHZhciBodG1sX2M4YzY2ZTMzMTgzZDQzNzJhMjE5NjUyYWExZDgxZGYyID0gJCgnPGRpdiBpZD0iaHRtbF9jOGM2NmUzMzE4M2Q0MzcyYTIxOTY1MmFhMWQ4MWRmMiIgc3R5bGU9IndpZHRoOiAxMDAuMCU7IGhlaWdodDogMTAwLjAlOyI+RHJha2UsIEF1Y2tsYW5kPC9kaXY+JylbMF07CiAgICAgICAgICAgICAgICBwb3B1cF9kZjU2MDkzNWIyYmI0Y2YwODA5ZGI1NzNiOGNiODUyOC5zZXRDb250ZW50KGh0bWxfYzhjNjZlMzMxODNkNDM3MmEyMTk2NTJhYTFkODFkZjIpOwogICAgICAgICAgICAKCiAgICAgICAgICAgIG1hcmtlcl9mZTlkZTY4ZjM5MjE0MGI4OGM1M2FiOTkyYzBhN2VjMi5iaW5kUG9wdXAocG9wdXBfZGY1NjA5MzViMmJiNGNmMDgwOWRiNTczYjhjYjg1MjgpOwoKICAgICAgICAgICAgCiAgICAgICAgCiAgICAKCiAgICAgICAgICAgIHZhciBtYXJrZXJfNzM2MTQ2YTdjZDgwNGE0N2I4ODdmMzI0Mzc2YmU2YjkgPSBMLm1hcmtlcigKICAgICAgICAgICAgICAgIFs0My42OTk5Nzk4OCwtNzkuNDIwMDIwNzldLAogICAgICAgICAgICAgICAgewogICAgICAgICAgICAgICAgICAgIGljb246IG5ldyBMLkljb24uRGVmYXVsdCgpCiAgICAgICAgICAgICAgICAgICAgfQogICAgICAgICAgICAgICAgKQogICAgICAgICAgICAgICAgLmFkZFRvKG1hcF81MDQ1OGJkN2E4Njg0YTI1ODY1N2RmMDM0MWM5NzUxYyk7CiAgICAgICAgICAgIAogICAgCgogICAgICAgICAgICAgICAgdmFyIGljb25fN2Q5M2NlNWYyNGUyNDE4MmE0NDA4YTE4N2ZkMzZkYjUgPSBMLkF3ZXNvbWVNYXJrZXJzLmljb24oewogICAgICAgICAgICAgICAgICAgIGljb246ICdpbmZvLXNpZ24nLAogICAgICAgICAgICAgICAgICAgIGljb25Db2xvcjogJ3doaXRlJywKICAgICAgICAgICAgICAgICAgICBtYXJrZXJDb2xvcjogJ3JlZCcsCiAgICAgICAgICAgICAgICAgICAgcHJlZml4OiAnZ2x5cGhpY29uJywKICAgICAgICAgICAgICAgICAgICBleHRyYUNsYXNzZXM6ICdmYS1yb3RhdGUtMCcKICAgICAgICAgICAgICAgICAgICB9KTsKICAgICAgICAgICAgICAgIG1hcmtlcl83MzYxNDZhN2NkODA0YTQ3Yjg4N2YzMjQzNzZiZTZiOS5zZXRJY29uKGljb25fN2Q5M2NlNWYyNGUyNDE4MmE0NDA4YTE4N2ZkMzZkYjUpOwogICAgICAgICAgICAKICAgIAogICAgICAgICAgICB2YXIgcG9wdXBfYTc5MDFkMjM4NWEwNDhiOGE5ZWQ5ZDQ2NWNkYjIyNDEgPSBMLnBvcHVwKHttYXhXaWR0aDogJzMwMCd9KTsKCiAgICAgICAgICAgIAogICAgICAgICAgICAgICAgdmFyIGh0bWxfODJhZmJlOTkwMzdmNGMyZDkxZjM2Nzc2ODhlYTIyMjUgPSAkKCc8ZGl2IGlkPSJodG1sXzgyYWZiZTk5MDM3ZjRjMmQ5MWYzNjc3Njg4ZWEyMjI1IiBzdHlsZT0id2lkdGg6IDEwMC4wJTsgaGVpZ2h0OiAxMDAuMCU7Ij5EcmFrZSwgVG9yb250bzwvZGl2PicpWzBdOwogICAgICAgICAgICAgICAgcG9wdXBfYTc5MDFkMjM4NWEwNDhiOGE5ZWQ5ZDQ2NWNkYjIyNDEuc2V0Q29udGVudChodG1sXzgyYWZiZTk5MDM3ZjRjMmQ5MWYzNjc3Njg4ZWEyMjI1KTsKICAgICAgICAgICAgCgogICAgICAgICAgICBtYXJrZXJfNzM2MTQ2YTdjZDgwNGE0N2I4ODdmMzI0Mzc2YmU2YjkuYmluZFBvcHVwKHBvcHVwX2E3OTAxZDIzODVhMDQ4YjhhOWVkOWQ0NjVjZGIyMjQxKTsKCiAgICAgICAgICAgIAogICAgICAgIAogICAgCgogICAgICAgICAgICB2YXIgbWFya2VyX2U3NTA2ZTBmMTcyOTQ2NDZiZTQ1M2VjNTdhYzcwMGI2ID0gTC5tYXJrZXIoCiAgICAgICAgICAgICAgICBbMjUuODA5OTE5NTMsLTgwLjEzMTc4MTExXSwKICAgICAgICAgICAgICAgIHsKICAgICAgICAgICAgICAgICAgICBpY29uOiBuZXcgTC5JY29uLkRlZmF1bHQoKQogICAgICAgICAgICAgICAgICAgIH0KICAgICAgICAgICAgICAgICkKICAgICAgICAgICAgICAgIC5hZGRUbyhtYXBfNTA0NThiZDdhODY4NGEyNTg2NTdkZjAzNDFjOTc1MWMpOwogICAgICAgICAgICAKICAgIAoKICAgICAgICAgICAgICAgIHZhciBpY29uX2M2ODQ1NzRmOTM4ODQ0ZGNiMWE3ZDkzNjYzYmQzNWVjID0gTC5Bd2Vzb21lTWFya2Vycy5pY29uKHsKICAgICAgICAgICAgICAgICAgICBpY29uOiAnaW5mby1zaWduJywKICAgICAgICAgICAgICAgICAgICBpY29uQ29sb3I6ICd3aGl0ZScsCiAgICAgICAgICAgICAgICAgICAgbWFya2VyQ29sb3I6ICdyZWQnLAogICAgICAgICAgICAgICAgICAgIHByZWZpeDogJ2dseXBoaWNvbicsCiAgICAgICAgICAgICAgICAgICAgZXh0cmFDbGFzc2VzOiAnZmEtcm90YXRlLTAnCiAgICAgICAgICAgICAgICAgICAgfSk7CiAgICAgICAgICAgICAgICBtYXJrZXJfZTc1MDZlMGYxNzI5NDY0NmJlNDUzZWM1N2FjNzAwYjYuc2V0SWNvbihpY29uX2M2ODQ1NzRmOTM4ODQ0ZGNiMWE3ZDkzNjYzYmQzNWVjKTsKICAgICAgICAgICAgCiAgICAKICAgICAgICAgICAgdmFyIHBvcHVwXzM2ODE3OTg2YzQ2MTQxOWFhYWVkZDMwMWQyNDMyNTZjID0gTC5wb3B1cCh7bWF4V2lkdGg6ICczMDAnfSk7CgogICAgICAgICAgICAKICAgICAgICAgICAgICAgIHZhciBodG1sXzZmMGE2NWQ3OGRlYTQ2YTY4MDZiZTU5YTc2YTdjOGRlID0gJCgnPGRpdiBpZD0iaHRtbF82ZjBhNjVkNzhkZWE0NmE2ODA2YmU1OWE3NmE3YzhkZSIgc3R5bGU9IndpZHRoOiAxMDAuMCU7IGhlaWdodDogMTAwLjAlOyI+RHJha2UsIE1pYW1pIEJlYWNoPC9kaXY+JylbMF07CiAgICAgICAgICAgICAgICBwb3B1cF8zNjgxNzk4NmM0NjE0MTlhYWFlZGQzMDFkMjQzMjU2Yy5zZXRDb250ZW50KGh0bWxfNmYwYTY1ZDc4ZGVhNDZhNjgwNmJlNTlhNzZhN2M4ZGUpOwogICAgICAgICAgICAKCiAgICAgICAgICAgIG1hcmtlcl9lNzUwNmUwZjE3Mjk0NjQ2YmU0NTNlYzU3YWM3MDBiNi5iaW5kUG9wdXAocG9wdXBfMzY4MTc5ODZjNDYxNDE5YWFhZWRkMzAxZDI0MzI1NmMpOwoKICAgICAgICAgICAgCiAgICAgICAgCiAgICAKCiAgICAgICAgICAgIHZhciBtYXJrZXJfYjc0Yjk3NzgxMjBhNDBiOThiMDU2ZjdkNzY0OGNhZWYgPSBMLm1hcmtlcigKICAgICAgICAgICAgICAgIFs0My42OTk5Nzk4OCwtNzkuNDIwMDIwNzldLAogICAgICAgICAgICAgICAgewogICAgICAgICAgICAgICAgICAgIGljb246IG5ldyBMLkljb24uRGVmYXVsdCgpCiAgICAgICAgICAgICAgICAgICAgfQogICAgICAgICAgICAgICAgKQogICAgICAgICAgICAgICAgLmFkZFRvKG1hcF81MDQ1OGJkN2E4Njg0YTI1ODY1N2RmMDM0MWM5NzUxYyk7CiAgICAgICAgICAgIAogICAgCgogICAgICAgICAgICAgICAgdmFyIGljb25fYzVmYzlhOGE1ZDM4NDBkZjk2NjNiZDc1NzQ5YmRmODMgPSBMLkF3ZXNvbWVNYXJrZXJzLmljb24oewogICAgICAgICAgICAgICAgICAgIGljb246ICdpbmZvLXNpZ24nLAogICAgICAgICAgICAgICAgICAgIGljb25Db2xvcjogJ3doaXRlJywKICAgICAgICAgICAgICAgICAgICBtYXJrZXJDb2xvcjogJ3JlZCcsCiAgICAgICAgICAgICAgICAgICAgcHJlZml4OiAnZ2x5cGhpY29uJywKICAgICAgICAgICAgICAgICAgICBleHRyYUNsYXNzZXM6ICdmYS1yb3RhdGUtMCcKICAgICAgICAgICAgICAgICAgICB9KTsKICAgICAgICAgICAgICAgIG1hcmtlcl9iNzRiOTc3ODEyMGE0MGI5OGIwNTZmN2Q3NjQ4Y2FlZi5zZXRJY29uKGljb25fYzVmYzlhOGE1ZDM4NDBkZjk2NjNiZDc1NzQ5YmRmODMpOwogICAgICAgICAgICAKICAgIAogICAgICAgICAgICB2YXIgcG9wdXBfNzRiMzQyZDQzYjQ0NGM5Zjk3NDk5MWRhNTZiMzYyZjUgPSBMLnBvcHVwKHttYXhXaWR0aDogJzMwMCd9KTsKCiAgICAgICAgICAgIAogICAgICAgICAgICAgICAgdmFyIGh0bWxfZDg3NzU1MmM2MzZlNDI3ODg1OGRkYzkxMGY3OWRiOTcgPSAkKCc8ZGl2IGlkPSJodG1sX2Q4Nzc1NTJjNjM2ZTQyNzg4NThkZGM5MTBmNzlkYjk3IiBzdHlsZT0id2lkdGg6IDEwMC4wJTsgaGVpZ2h0OiAxMDAuMCU7Ij5EcmFrZSwgVG9yb250bzwvZGl2PicpWzBdOwogICAgICAgICAgICAgICAgcG9wdXBfNzRiMzQyZDQzYjQ0NGM5Zjk3NDk5MWRhNTZiMzYyZjUuc2V0Q29udGVudChodG1sX2Q4Nzc1NTJjNjM2ZTQyNzg4NThkZGM5MTBmNzlkYjk3KTsKICAgICAgICAgICAgCgogICAgICAgICAgICBtYXJrZXJfYjc0Yjk3NzgxMjBhNDBiOThiMDU2ZjdkNzY0OGNhZWYuYmluZFBvcHVwKHBvcHVwXzc0YjM0MmQ0M2I0NDRjOWY5NzQ5OTFkYTU2YjM2MmY1KTsKCiAgICAgICAgICAgIAogICAgICAgIAogICAgCgogICAgICAgICAgICB2YXIgbWFya2VyX2U1MGJjMWUzNDUxZjRiYzdhMDYwMjI4ZTU3M2JlMjZkID0gTC5tYXJrZXIoCiAgICAgICAgICAgICAgICBbMzUuNTk3MDExOTQsLTEwNS4yMjI1MDI3XSwKICAgICAgICAgICAgICAgIHsKICAgICAgICAgICAgICAgICAgICBpY29uOiBuZXcgTC5JY29uLkRlZmF1bHQoKQogICAgICAgICAgICAgICAgICAgIH0KICAgICAgICAgICAgICAgICkKICAgICAgICAgICAgICAgIC5hZGRUbyhtYXBfNTA0NThiZDdhODY4NGEyNTg2NTdkZjAzNDFjOTc1MWMpOwogICAgICAgICAgICAKICAgIAoKICAgICAgICAgICAgICAgIHZhciBpY29uX2RiMTAzNzgwNTk3ODRkNGY5ZjIzZmYwMjgwYTEwOGI3ID0gTC5Bd2Vzb21lTWFya2Vycy5pY29uKHsKICAgICAgICAgICAgICAgICAgICBpY29uOiAnaW5mby1zaWduJywKICAgICAgICAgICAgICAgICAgICBpY29uQ29sb3I6ICd3aGl0ZScsCiAgICAgICAgICAgICAgICAgICAgbWFya2VyQ29sb3I6ICdyZWQnLAogICAgICAgICAgICAgICAgICAgIHByZWZpeDogJ2dseXBoaWNvbicsCiAgICAgICAgICAgICAgICAgICAgZXh0cmFDbGFzc2VzOiAnZmEtcm90YXRlLTAnCiAgICAgICAgICAgICAgICAgICAgfSk7CiAgICAgICAgICAgICAgICBtYXJrZXJfZTUwYmMxZTM0NTFmNGJjN2EwNjAyMjhlNTczYmUyNmQuc2V0SWNvbihpY29uX2RiMTAzNzgwNTk3ODRkNGY5ZjIzZmYwMjgwYTEwOGI3KTsKICAgICAgICAgICAgCiAgICAKICAgICAgICAgICAgdmFyIHBvcHVwX2IzOTc3ODRmNzhkMjRkOTNhNDFmZjU5ZGFkYWY3Nzg0ID0gTC5wb3B1cCh7bWF4V2lkdGg6ICczMDAnfSk7CgogICAgICAgICAgICAKICAgICAgICAgICAgICAgIHZhciBodG1sX2Q4ZDI0YzJmZTUzNTQ3Mzg5YzkyMDJjYWI3ZTNmNzJiID0gJCgnPGRpdiBpZD0iaHRtbF9kOGQyNGMyZmU1MzU0NzM4OWM5MjAyY2FiN2UzZjcyYiIgc3R5bGU9IndpZHRoOiAxMDAuMCU7IGhlaWdodDogMTAwLjAlOyI+RHJha2UsIExhcyBWZWdhczwvZGl2PicpWzBdOwogICAgICAgICAgICAgICAgcG9wdXBfYjM5Nzc4NGY3OGQyNGQ5M2E0MWZmNTlkYWRhZjc3ODQuc2V0Q29udGVudChodG1sX2Q4ZDI0YzJmZTUzNTQ3Mzg5YzkyMDJjYWI3ZTNmNzJiKTsKICAgICAgICAgICAgCgogICAgICAgICAgICBtYXJrZXJfZTUwYmMxZTM0NTFmNGJjN2EwNjAyMjhlNTczYmUyNmQuYmluZFBvcHVwKHBvcHVwX2IzOTc3ODRmNzhkMjRkOTNhNDFmZjU5ZGFkYWY3Nzg0KTsKCiAgICAgICAgICAgIAogICAgICAgIAogICAgCgogICAgICAgICAgICB2YXIgbWFya2VyXzU4OTdkMTdiZWNiZjRmNmRiYTJhZjA0MzIwOTIwNTRmID0gTC5tYXJrZXIoCiAgICAgICAgICAgICAgICBbNTIuMzQ5OTY4NjksNC45MTY2NDAxNzZdLAogICAgICAgICAgICAgICAgewogICAgICAgICAgICAgICAgICAgIGljb246IG5ldyBMLkljb24uRGVmYXVsdCgpCiAgICAgICAgICAgICAgICAgICAgfQogICAgICAgICAgICAgICAgKQogICAgICAgICAgICAgICAgLmFkZFRvKG1hcF81MDQ1OGJkN2E4Njg0YTI1ODY1N2RmMDM0MWM5NzUxYyk7CiAgICAgICAgICAgIAogICAgCgogICAgICAgICAgICAgICAgdmFyIGljb25fY2M1Y2FjYzc4ZmY3NGYzNmE1ZjQyNGFiOWU5MDY5ZjEgPSBMLkF3ZXNvbWVNYXJrZXJzLmljb24oewogICAgICAgICAgICAgICAgICAgIGljb246ICdpbmZvLXNpZ24nLAogICAgICAgICAgICAgICAgICAgIGljb25Db2xvcjogJ3doaXRlJywKICAgICAgICAgICAgICAgICAgICBtYXJrZXJDb2xvcjogJ3JlZCcsCiAgICAgICAgICAgICAgICAgICAgcHJlZml4OiAnZ2x5cGhpY29uJywKICAgICAgICAgICAgICAgICAgICBleHRyYUNsYXNzZXM6ICdmYS1yb3RhdGUtMCcKICAgICAgICAgICAgICAgICAgICB9KTsKICAgICAgICAgICAgICAgIG1hcmtlcl81ODk3ZDE3YmVjYmY0ZjZkYmEyYWYwNDMyMDkyMDU0Zi5zZXRJY29uKGljb25fY2M1Y2FjYzc4ZmY3NGYzNmE1ZjQyNGFiOWU5MDY5ZjEpOwogICAgICAgICAgICAKICAgIAogICAgICAgICAgICB2YXIgcG9wdXBfNTEzNmU2ZTQyMzk2NGY5NWI3NjI0ZDM4YzY4ZjMwODMgPSBMLnBvcHVwKHttYXhXaWR0aDogJzMwMCd9KTsKCiAgICAgICAgICAgIAogICAgICAgICAgICAgICAgdmFyIGh0bWxfMWMyNTMzZTgyOTVlNDc1MDliYmZmZWY4MGM4ZGIzNjAgPSAkKCc8ZGl2IGlkPSJodG1sXzFjMjUzM2U4Mjk1ZTQ3NTA5YmJmZmVmODBjOGRiMzYwIiBzdHlsZT0id2lkdGg6IDEwMC4wJTsgaGVpZ2h0OiAxMDAuMCU7Ij5EcmFrZSwgQW1zdGVyZGFtPC9kaXY+JylbMF07CiAgICAgICAgICAgICAgICBwb3B1cF81MTM2ZTZlNDIzOTY0Zjk1Yjc2MjRkMzhjNjhmMzA4My5zZXRDb250ZW50KGh0bWxfMWMyNTMzZTgyOTVlNDc1MDliYmZmZWY4MGM4ZGIzNjApOwogICAgICAgICAgICAKCiAgICAgICAgICAgIG1hcmtlcl81ODk3ZDE3YmVjYmY0ZjZkYmEyYWYwNDMyMDkyMDU0Zi5iaW5kUG9wdXAocG9wdXBfNTEzNmU2ZTQyMzk2NGY5NWI3NjI0ZDM4YzY4ZjMwODMpOwoKICAgICAgICAgICAgCiAgICAgICAgCiAgICAKCiAgICAgICAgICAgIHZhciBtYXJrZXJfNTJjNTA0MWIyYTk1NDhjZmExYzliZTEzNGZiYmM3YjcgPSBMLm1hcmtlcigKICAgICAgICAgICAgICAgIFs1Mi4zNDk5Njg2OSw0LjkxNjY0MDE3Nl0sCiAgICAgICAgICAgICAgICB7CiAgICAgICAgICAgICAgICAgICAgaWNvbjogbmV3IEwuSWNvbi5EZWZhdWx0KCkKICAgICAgICAgICAgICAgICAgICB9CiAgICAgICAgICAgICAgICApCiAgICAgICAgICAgICAgICAuYWRkVG8obWFwXzUwNDU4YmQ3YTg2ODRhMjU4NjU3ZGYwMzQxYzk3NTFjKTsKICAgICAgICAgICAgCiAgICAKCiAgICAgICAgICAgICAgICB2YXIgaWNvbl9kOGY4OWI1MTcwMGM0NmI3ODM2NDBjZTgyZDM3NGNlMyA9IEwuQXdlc29tZU1hcmtlcnMuaWNvbih7CiAgICAgICAgICAgICAgICAgICAgaWNvbjogJ2luZm8tc2lnbicsCiAgICAgICAgICAgICAgICAgICAgaWNvbkNvbG9yOiAnd2hpdGUnLAogICAgICAgICAgICAgICAgICAgIG1hcmtlckNvbG9yOiAncmVkJywKICAgICAgICAgICAgICAgICAgICBwcmVmaXg6ICdnbHlwaGljb24nLAogICAgICAgICAgICAgICAgICAgIGV4dHJhQ2xhc3NlczogJ2ZhLXJvdGF0ZS0wJwogICAgICAgICAgICAgICAgICAgIH0pOwogICAgICAgICAgICAgICAgbWFya2VyXzUyYzUwNDFiMmE5NTQ4Y2ZhMWM5YmUxMzRmYmJjN2I3LnNldEljb24oaWNvbl9kOGY4OWI1MTcwMGM0NmI3ODM2NDBjZTgyZDM3NGNlMyk7CiAgICAgICAgICAgIAogICAgCiAgICAgICAgICAgIHZhciBwb3B1cF83YWUxNTJjYzgwMGU0OTIzOTg1NzhlNjhkNDdmZGU3ZiA9IEwucG9wdXAoe21heFdpZHRoOiAnMzAwJ30pOwoKICAgICAgICAgICAgCiAgICAgICAgICAgICAgICB2YXIgaHRtbF8xOTcyMzRhYjM1ZjI0ODNhYmJmMDI5MTczNTViZTY0NiA9ICQoJzxkaXYgaWQ9Imh0bWxfMTk3MjM0YWIzNWYyNDgzYWJiZjAyOTE3MzU1YmU2NDYiIHN0eWxlPSJ3aWR0aDogMTAwLjAlOyBoZWlnaHQ6IDEwMC4wJTsiPkRyYWtlLCBBbXN0ZXJkYW08L2Rpdj4nKVswXTsKICAgICAgICAgICAgICAgIHBvcHVwXzdhZTE1MmNjODAwZTQ5MjM5ODU3OGU2OGQ0N2ZkZTdmLnNldENvbnRlbnQoaHRtbF8xOTcyMzRhYjM1ZjI0ODNhYmJmMDI5MTczNTViZTY0Nik7CiAgICAgICAgICAgIAoKICAgICAgICAgICAgbWFya2VyXzUyYzUwNDFiMmE5NTQ4Y2ZhMWM5YmUxMzRmYmJjN2I3LmJpbmRQb3B1cChwb3B1cF83YWUxNTJjYzgwMGU0OTIzOTg1NzhlNjhkNDdmZGU3Zik7CgogICAgICAgICAgICAKICAgICAgICAKICAgIAoKICAgICAgICAgICAgdmFyIG1hcmtlcl85NmJhZjQ5YjE1YWE0OGE0YWFlZDM1NjNkZjAyMjUyZCA9IEwubWFya2VyKAogICAgICAgICAgICAgICAgWzU1Ljg3NDQwNDcyLC00LjI1MDcwNzIzNl0sCiAgICAgICAgICAgICAgICB7CiAgICAgICAgICAgICAgICAgICAgaWNvbjogbmV3IEwuSWNvbi5EZWZhdWx0KCkKICAgICAgICAgICAgICAgICAgICB9CiAgICAgICAgICAgICAgICApCiAgICAgICAgICAgICAgICAuYWRkVG8obWFwXzUwNDU4YmQ3YTg2ODRhMjU4NjU3ZGYwMzQxYzk3NTFjKTsKICAgICAgICAgICAgCiAgICAKCiAgICAgICAgICAgICAgICB2YXIgaWNvbl9kMmE5ODg4MTJkNTM0YzgyYTM1OGQ3OTg0ZGFlZWMzOSA9IEwuQXdlc29tZU1hcmtlcnMuaWNvbih7CiAgICAgICAgICAgICAgICAgICAgaWNvbjogJ2luZm8tc2lnbicsCiAgICAgICAgICAgICAgICAgICAgaWNvbkNvbG9yOiAnd2hpdGUnLAogICAgICAgICAgICAgICAgICAgIG1hcmtlckNvbG9yOiAncmVkJywKICAgICAgICAgICAgICAgICAgICBwcmVmaXg6ICdnbHlwaGljb24nLAogICAgICAgICAgICAgICAgICAgIGV4dHJhQ2xhc3NlczogJ2ZhLXJvdGF0ZS0wJwogICAgICAgICAgICAgICAgICAgIH0pOwogICAgICAgICAgICAgICAgbWFya2VyXzk2YmFmNDliMTVhYTQ4YTRhYWVkMzU2M2RmMDIyNTJkLnNldEljb24oaWNvbl9kMmE5ODg4MTJkNTM0YzgyYTM1OGQ3OTg0ZGFlZWMzOSk7CiAgICAgICAgICAgIAogICAgCiAgICAgICAgICAgIHZhciBwb3B1cF8wZWQwNTk0MTU0ZWU0MGZmOWE1MmMwMGVhNjExYWYyYSA9IEwucG9wdXAoe21heFdpZHRoOiAnMzAwJ30pOwoKICAgICAgICAgICAgCiAgICAgICAgICAgICAgICB2YXIgaHRtbF9lZDFiNTNlZTUzNDU0YTE4YjgzMmEyZGM0ZGIzMzU1MCA9ICQoJzxkaXYgaWQ9Imh0bWxfZWQxYjUzZWU1MzQ1NGExOGI4MzJhMmRjNGRiMzM1NTAiIHN0eWxlPSJ3aWR0aDogMTAwLjAlOyBoZWlnaHQ6IDEwMC4wJTsiPkRyYWtlLCBHbGFzZ293PC9kaXY+JylbMF07CiAgICAgICAgICAgICAgICBwb3B1cF8wZWQwNTk0MTU0ZWU0MGZmOWE1MmMwMGVhNjExYWYyYS5zZXRDb250ZW50KGh0bWxfZWQxYjUzZWU1MzQ1NGExOGI4MzJhMmRjNGRiMzM1NTApOwogICAgICAgICAgICAKCiAgICAgICAgICAgIG1hcmtlcl85NmJhZjQ5YjE1YWE0OGE0YWFlZDM1NjNkZjAyMjUyZC5iaW5kUG9wdXAocG9wdXBfMGVkMDU5NDE1NGVlNDBmZjlhNTJjMDBlYTYxMWFmMmEpOwoKICAgICAgICAgICAgCiAgICAgICAgCiAgICAKCiAgICAgICAgICAgIHZhciBtYXJrZXJfNjFjODY0OTE3NjNiNGUwMGI1YzU5Yjg0ZGM5ZGRhODUgPSBMLm1hcmtlcigKICAgICAgICAgICAgICAgIFs1NS44NzQ0MDQ3MiwtNC4yNTA3MDcyMzZdLAogICAgICAgICAgICAgICAgewogICAgICAgICAgICAgICAgICAgIGljb246IG5ldyBMLkljb24uRGVmYXVsdCgpCiAgICAgICAgICAgICAgICAgICAgfQogICAgICAgICAgICAgICAgKQogICAgICAgICAgICAgICAgLmFkZFRvKG1hcF81MDQ1OGJkN2E4Njg0YTI1ODY1N2RmMDM0MWM5NzUxYyk7CiAgICAgICAgICAgIAogICAgCgogICAgICAgICAgICAgICAgdmFyIGljb25fZWY0ZGExZTU4ZTJlNGYzODg1MmQ1OTc2OGYwNjI0N2IgPSBMLkF3ZXNvbWVNYXJrZXJzLmljb24oewogICAgICAgICAgICAgICAgICAgIGljb246ICdpbmZvLXNpZ24nLAogICAgICAgICAgICAgICAgICAgIGljb25Db2xvcjogJ3doaXRlJywKICAgICAgICAgICAgICAgICAgICBtYXJrZXJDb2xvcjogJ3JlZCcsCiAgICAgICAgICAgICAgICAgICAgcHJlZml4OiAnZ2x5cGhpY29uJywKICAgICAgICAgICAgICAgICAgICBleHRyYUNsYXNzZXM6ICdmYS1yb3RhdGUtMCcKICAgICAgICAgICAgICAgICAgICB9KTsKICAgICAgICAgICAgICAgIG1hcmtlcl82MWM4NjQ5MTc2M2I0ZTAwYjVjNTliODRkYzlkZGE4NS5zZXRJY29uKGljb25fZWY0ZGExZTU4ZTJlNGYzODg1MmQ1OTc2OGYwNjI0N2IpOwogICAgICAgICAgICAKICAgIAogICAgICAgICAgICB2YXIgcG9wdXBfMzllNGM2ZTllYWFjNDQzOTlhODkxZjgwODRlN2UxMzcgPSBMLnBvcHVwKHttYXhXaWR0aDogJzMwMCd9KTsKCiAgICAgICAgICAgIAogICAgICAgICAgICAgICAgdmFyIGh0bWxfZTExNWUzYmE2NjNjNGRkMTljODNjN2ViNGNmMzI3OGQgPSAkKCc8ZGl2IGlkPSJodG1sX2UxMTVlM2JhNjYzYzRkZDE5YzgzYzdlYjRjZjMyNzhkIiBzdHlsZT0id2lkdGg6IDEwMC4wJTsgaGVpZ2h0OiAxMDAuMCU7Ij5EcmFrZSwgR2xhc2dvdzwvZGl2PicpWzBdOwogICAgICAgICAgICAgICAgcG9wdXBfMzllNGM2ZTllYWFjNDQzOTlhODkxZjgwODRlN2UxMzcuc2V0Q29udGVudChodG1sX2UxMTVlM2JhNjYzYzRkZDE5YzgzYzdlYjRjZjMyNzhkKTsKICAgICAgICAgICAgCgogICAgICAgICAgICBtYXJrZXJfNjFjODY0OTE3NjNiNGUwMGI1YzU5Yjg0ZGM5ZGRhODUuYmluZFBvcHVwKHBvcHVwXzM5ZTRjNmU5ZWFhYzQ0Mzk5YTg5MWY4MDg0ZTdlMTM3KTsKCiAgICAgICAgICAgIAogICAgICAgIAogICAgCgogICAgICAgICAgICB2YXIgbWFya2VyXzI2ZjJhOTY4MTc3NzQyNWFhOWNkZWU4NzM3ZGNmZTg4ID0gTC5tYXJrZXIoCiAgICAgICAgICAgICAgICBbNDIuOTY5OTk4NiwtODEuMjQ5OTg2NjFdLAogICAgICAgICAgICAgICAgewogICAgICAgICAgICAgICAgICAgIGljb246IG5ldyBMLkljb24uRGVmYXVsdCgpCiAgICAgICAgICAgICAgICAgICAgfQogICAgICAgICAgICAgICAgKQogICAgICAgICAgICAgICAgLmFkZFRvKG1hcF81MDQ1OGJkN2E4Njg0YTI1ODY1N2RmMDM0MWM5NzUxYyk7CiAgICAgICAgICAgIAogICAgCgogICAgICAgICAgICAgICAgdmFyIGljb25fODFkOTE3ZGY1NTllNGRlMTk1MjgyOGUzYjFlMDQwOTcgPSBMLkF3ZXNvbWVNYXJrZXJzLmljb24oewogICAgICAgICAgICAgICAgICAgIGljb246ICdpbmZvLXNpZ24nLAogICAgICAgICAgICAgICAgICAgIGljb25Db2xvcjogJ3doaXRlJywKICAgICAgICAgICAgICAgICAgICBtYXJrZXJDb2xvcjogJ3JlZCcsCiAgICAgICAgICAgICAgICAgICAgcHJlZml4OiAnZ2x5cGhpY29uJywKICAgICAgICAgICAgICAgICAgICBleHRyYUNsYXNzZXM6ICdmYS1yb3RhdGUtMCcKICAgICAgICAgICAgICAgICAgICB9KTsKICAgICAgICAgICAgICAgIG1hcmtlcl8yNmYyYTk2ODE3Nzc0MjVhYTljZGVlODczN2RjZmU4OC5zZXRJY29uKGljb25fODFkOTE3ZGY1NTllNGRlMTk1MjgyOGUzYjFlMDQwOTcpOwogICAgICAgICAgICAKICAgIAogICAgICAgICAgICB2YXIgcG9wdXBfODRmZWQ4YjQ1YzE5NDk2MGFkMjI0NTU2OTAwOWU1NjggPSBMLnBvcHVwKHttYXhXaWR0aDogJzMwMCd9KTsKCiAgICAgICAgICAgIAogICAgICAgICAgICAgICAgdmFyIGh0bWxfNjljZWZlNWI1ODhjNDg0MTg5NWI1MTQwYzdhNDgwMGYgPSAkKCc8ZGl2IGlkPSJodG1sXzY5Y2VmZTViNTg4YzQ4NDE4OTViNTE0MGM3YTQ4MDBmIiBzdHlsZT0id2lkdGg6IDEwMC4wJTsgaGVpZ2h0OiAxMDAuMCU7Ij5EcmFrZSwgTG9uZG9uPC9kaXY+JylbMF07CiAgICAgICAgICAgICAgICBwb3B1cF84NGZlZDhiNDVjMTk0OTYwYWQyMjQ1NTY5MDA5ZTU2OC5zZXRDb250ZW50KGh0bWxfNjljZWZlNWI1ODhjNDg0MTg5NWI1MTQwYzdhNDgwMGYpOwogICAgICAgICAgICAKCiAgICAgICAgICAgIG1hcmtlcl8yNmYyYTk2ODE3Nzc0MjVhYTljZGVlODczN2RjZmU4OC5iaW5kUG9wdXAocG9wdXBfODRmZWQ4YjQ1YzE5NDk2MGFkMjI0NTU2OTAwOWU1NjgpOwoKICAgICAgICAgICAgCiAgICAgICAgCiAgICAKCiAgICAgICAgICAgIHZhciBtYXJrZXJfNDEwYTRkNmM1MjU5NDJlNzlmODAwYzdkOTJlNzY0YzUgPSBMLm1hcmtlcigKICAgICAgICAgICAgICAgIFs1MC45MzAwMDM2OCw2Ljk1MDAwNDQzNF0sCiAgICAgICAgICAgICAgICB7CiAgICAgICAgICAgICAgICAgICAgaWNvbjogbmV3IEwuSWNvbi5EZWZhdWx0KCkKICAgICAgICAgICAgICAgICAgICB9CiAgICAgICAgICAgICAgICApCiAgICAgICAgICAgICAgICAuYWRkVG8obWFwXzUwNDU4YmQ3YTg2ODRhMjU4NjU3ZGYwMzQxYzk3NTFjKTsKICAgICAgICAgICAgCiAgICAKCiAgICAgICAgICAgICAgICB2YXIgaWNvbl85MWQ5YmE5NzA4NjA0ZmEwOWMzZWE2MTBkMDIzMDc3OCA9IEwuQXdlc29tZU1hcmtlcnMuaWNvbih7CiAgICAgICAgICAgICAgICAgICAgaWNvbjogJ2luZm8tc2lnbicsCiAgICAgICAgICAgICAgICAgICAgaWNvbkNvbG9yOiAnd2hpdGUnLAogICAgICAgICAgICAgICAgICAgIG1hcmtlckNvbG9yOiAncmVkJywKICAgICAgICAgICAgICAgICAgICBwcmVmaXg6ICdnbHlwaGljb24nLAogICAgICAgICAgICAgICAgICAgIGV4dHJhQ2xhc3NlczogJ2ZhLXJvdGF0ZS0wJwogICAgICAgICAgICAgICAgICAgIH0pOwogICAgICAgICAgICAgICAgbWFya2VyXzQxMGE0ZDZjNTI1OTQyZTc5ZjgwMGM3ZDkyZTc2NGM1LnNldEljb24oaWNvbl85MWQ5YmE5NzA4NjA0ZmEwOWMzZWE2MTBkMDIzMDc3OCk7CiAgICAgICAgICAgIAogICAgCiAgICAgICAgICAgIHZhciBwb3B1cF81ZDhkM2UyODA1M2I0NmNhOWM1YmJjNGIyYmU4OTQxZiA9IEwucG9wdXAoe21heFdpZHRoOiAnMzAwJ30pOwoKICAgICAgICAgICAgCiAgICAgICAgICAgICAgICB2YXIgaHRtbF81ZDcyM2Q2MGM3ZTA0NDFmODE5OWQzNGNiMDliMzI1MiA9ICQoJzxkaXYgaWQ9Imh0bWxfNWQ3MjNkNjBjN2UwNDQxZjgxOTlkMzRjYjA5YjMyNTIiIHN0eWxlPSJ3aWR0aDogMTAwLjAlOyBoZWlnaHQ6IDEwMC4wJTsiPkRyYWtlLCBDb2xvZ25lPC9kaXY+JylbMF07CiAgICAgICAgICAgICAgICBwb3B1cF81ZDhkM2UyODA1M2I0NmNhOWM1YmJjNGIyYmU4OTQxZi5zZXRDb250ZW50KGh0bWxfNWQ3MjNkNjBjN2UwNDQxZjgxOTlkMzRjYjA5YjMyNTIpOwogICAgICAgICAgICAKCiAgICAgICAgICAgIG1hcmtlcl80MTBhNGQ2YzUyNTk0MmU3OWY4MDBjN2Q5MmU3NjRjNS5iaW5kUG9wdXAocG9wdXBfNWQ4ZDNlMjgwNTNiNDZjYTljNWJiYzRiMmJlODk0MWYpOwoKICAgICAgICAgICAgCiAgICAgICAgCiAgICAKCiAgICAgICAgICAgIHZhciBtYXJrZXJfYjk3NGFiOWY2YmVkNDBjYmI2MzNiYTRhMDk4Y2RlY2MgPSBMLm1hcmtlcigKICAgICAgICAgICAgICAgIFs0OC44NjY2OTI5MywyLjMzMzMzNTMyNl0sCiAgICAgICAgICAgICAgICB7CiAgICAgICAgICAgICAgICAgICAgaWNvbjogbmV3IEwuSWNvbi5EZWZhdWx0KCkKICAgICAgICAgICAgICAgICAgICB9CiAgICAgICAgICAgICAgICApCiAgICAgICAgICAgICAgICAuYWRkVG8obWFwXzUwNDU4YmQ3YTg2ODRhMjU4NjU3ZGYwMzQxYzk3NTFjKTsKICAgICAgICAgICAgCiAgICAKCiAgICAgICAgICAgICAgICB2YXIgaWNvbl82OGQ5ODFkYzEzYjg0ZGU3OGZlMmE4NDI2NTE1NzA0NiA9IEwuQXdlc29tZU1hcmtlcnMuaWNvbih7CiAgICAgICAgICAgICAgICAgICAgaWNvbjogJ2luZm8tc2lnbicsCiAgICAgICAgICAgICAgICAgICAgaWNvbkNvbG9yOiAnd2hpdGUnLAogICAgICAgICAgICAgICAgICAgIG1hcmtlckNvbG9yOiAncmVkJywKICAgICAgICAgICAgICAgICAgICBwcmVmaXg6ICdnbHlwaGljb24nLAogICAgICAgICAgICAgICAgICAgIGV4dHJhQ2xhc3NlczogJ2ZhLXJvdGF0ZS0wJwogICAgICAgICAgICAgICAgICAgIH0pOwogICAgICAgICAgICAgICAgbWFya2VyX2I5NzRhYjlmNmJlZDQwY2JiNjMzYmE0YTA5OGNkZWNjLnNldEljb24oaWNvbl82OGQ5ODFkYzEzYjg0ZGU3OGZlMmE4NDI2NTE1NzA0Nik7CiAgICAgICAgICAgIAogICAgCiAgICAgICAgICAgIHZhciBwb3B1cF9jZDU5ODVlNDIwYmE0OWE2ODRmNzY2Y2E0ZmRkMmYxYSA9IEwucG9wdXAoe21heFdpZHRoOiAnMzAwJ30pOwoKICAgICAgICAgICAgCiAgICAgICAgICAgICAgICB2YXIgaHRtbF9lOWI2N2E3NjU1ZTI0NzI0ODU3ZDQ1M2M3YjgzNmYwNyA9ICQoJzxkaXYgaWQ9Imh0bWxfZTliNjdhNzY1NWUyNDcyNDg1N2Q0NTNjN2I4MzZmMDciIHN0eWxlPSJ3aWR0aDogMTAwLjAlOyBoZWlnaHQ6IDEwMC4wJTsiPkRyYWtlLCBQYXJpczwvZGl2PicpWzBdOwogICAgICAgICAgICAgICAgcG9wdXBfY2Q1OTg1ZTQyMGJhNDlhNjg0Zjc2NmNhNGZkZDJmMWEuc2V0Q29udGVudChodG1sX2U5YjY3YTc2NTVlMjQ3MjQ4NTdkNDUzYzdiODM2ZjA3KTsKICAgICAgICAgICAgCgogICAgICAgICAgICBtYXJrZXJfYjk3NGFiOWY2YmVkNDBjYmI2MzNiYTRhMDk4Y2RlY2MuYmluZFBvcHVwKHBvcHVwX2NkNTk4NWU0MjBiYTQ5YTY4NGY3NjZjYTRmZGQyZjFhKTsKCiAgICAgICAgICAgIAogICAgICAgIAogICAgCgogICAgICAgICAgICB2YXIgbWFya2VyX2ZmMmFmMzY5ZmZiNTQ0OTA4MWZlZGU0MWNiNWMxZDgwID0gTC5tYXJrZXIoCiAgICAgICAgICAgICAgICBbNDguODY2NjkyOTMsMi4zMzMzMzUzMjZdLAogICAgICAgICAgICAgICAgewogICAgICAgICAgICAgICAgICAgIGljb246IG5ldyBMLkljb24uRGVmYXVsdCgpCiAgICAgICAgICAgICAgICAgICAgfQogICAgICAgICAgICAgICAgKQogICAgICAgICAgICAgICAgLmFkZFRvKG1hcF81MDQ1OGJkN2E4Njg0YTI1ODY1N2RmMDM0MWM5NzUxYyk7CiAgICAgICAgICAgIAogICAgCgogICAgICAgICAgICAgICAgdmFyIGljb25fYjhjMTViMTY2M2Q1NDA3MDg3MjdlZTk4NmQ5NmFmMzUgPSBMLkF3ZXNvbWVNYXJrZXJzLmljb24oewogICAgICAgICAgICAgICAgICAgIGljb246ICdpbmZvLXNpZ24nLAogICAgICAgICAgICAgICAgICAgIGljb25Db2xvcjogJ3doaXRlJywKICAgICAgICAgICAgICAgICAgICBtYXJrZXJDb2xvcjogJ3JlZCcsCiAgICAgICAgICAgICAgICAgICAgcHJlZml4OiAnZ2x5cGhpY29uJywKICAgICAgICAgICAgICAgICAgICBleHRyYUNsYXNzZXM6ICdmYS1yb3RhdGUtMCcKICAgICAgICAgICAgICAgICAgICB9KTsKICAgICAgICAgICAgICAgIG1hcmtlcl9mZjJhZjM2OWZmYjU0NDkwODFmZWRlNDFjYjVjMWQ4MC5zZXRJY29uKGljb25fYjhjMTViMTY2M2Q1NDA3MDg3MjdlZTk4NmQ5NmFmMzUpOwogICAgICAgICAgICAKICAgIAogICAgICAgICAgICB2YXIgcG9wdXBfMWQwMTQ5ZTMwYjkwNGVjNGExODBmYzdkNGExMmRlMTggPSBMLnBvcHVwKHttYXhXaWR0aDogJzMwMCd9KTsKCiAgICAgICAgICAgIAogICAgICAgICAgICAgICAgdmFyIGh0bWxfNTk0ZTg1YTBmNDgwNDc3MGIwZjBkOTAwZTA0OGQ0ZTYgPSAkKCc8ZGl2IGlkPSJodG1sXzU5NGU4NWEwZjQ4MDQ3NzBiMGYwZDkwMGUwNDhkNGU2IiBzdHlsZT0id2lkdGg6IDEwMC4wJTsgaGVpZ2h0OiAxMDAuMCU7Ij5EcmFrZSwgUGFyaXM8L2Rpdj4nKVswXTsKICAgICAgICAgICAgICAgIHBvcHVwXzFkMDE0OWUzMGI5MDRlYzRhMTgwZmM3ZDRhMTJkZTE4LnNldENvbnRlbnQoaHRtbF81OTRlODVhMGY0ODA0NzcwYjBmMGQ5MDBlMDQ4ZDRlNik7CiAgICAgICAgICAgIAoKICAgICAgICAgICAgbWFya2VyX2ZmMmFmMzY5ZmZiNTQ0OTA4MWZlZGU0MWNiNWMxZDgwLmJpbmRQb3B1cChwb3B1cF8xZDAxNDllMzBiOTA0ZWM0YTE4MGZjN2Q0YTEyZGUxOCk7CgogICAgICAgICAgICAKICAgICAgICAKICAgIAoKICAgICAgICAgICAgdmFyIG1hcmtlcl85ODJlYzQwMjE1NjA0YmFmYTZiOWU0OTU4ZmQ0ZDhhNyA9IEwubWFya2VyKAogICAgICAgICAgICAgICAgWzQ4Ljg2NjY5MjkzLDIuMzMzMzM1MzI2XSwKICAgICAgICAgICAgICAgIHsKICAgICAgICAgICAgICAgICAgICBpY29uOiBuZXcgTC5JY29uLkRlZmF1bHQoKQogICAgICAgICAgICAgICAgICAgIH0KICAgICAgICAgICAgICAgICkKICAgICAgICAgICAgICAgIC5hZGRUbyhtYXBfNTA0NThiZDdhODY4NGEyNTg2NTdkZjAzNDFjOTc1MWMpOwogICAgICAgICAgICAKICAgIAoKICAgICAgICAgICAgICAgIHZhciBpY29uXzY0OThhMTUyMGYwYTRkYzRhZTc1MjkzZjY2NDM1ZTEwID0gTC5Bd2Vzb21lTWFya2Vycy5pY29uKHsKICAgICAgICAgICAgICAgICAgICBpY29uOiAnaW5mby1zaWduJywKICAgICAgICAgICAgICAgICAgICBpY29uQ29sb3I6ICd3aGl0ZScsCiAgICAgICAgICAgICAgICAgICAgbWFya2VyQ29sb3I6ICdyZWQnLAogICAgICAgICAgICAgICAgICAgIHByZWZpeDogJ2dseXBoaWNvbicsCiAgICAgICAgICAgICAgICAgICAgZXh0cmFDbGFzc2VzOiAnZmEtcm90YXRlLTAnCiAgICAgICAgICAgICAgICAgICAgfSk7CiAgICAgICAgICAgICAgICBtYXJrZXJfOTgyZWM0MDIxNTYwNGJhZmE2YjllNDk1OGZkNGQ4YTcuc2V0SWNvbihpY29uXzY0OThhMTUyMGYwYTRkYzRhZTc1MjkzZjY2NDM1ZTEwKTsKICAgICAgICAgICAgCiAgICAKICAgICAgICAgICAgdmFyIHBvcHVwX2RlNGRiNTAwNjFlMTRjM2RhNjc5NmYzNTA2ZDI3MjgwID0gTC5wb3B1cCh7bWF4V2lkdGg6ICczMDAnfSk7CgogICAgICAgICAgICAKICAgICAgICAgICAgICAgIHZhciBodG1sXzM5NDY5MGE3ZmFjMzQ4ZWU4MGU4YWJiODA2Y2Q4YjRiID0gJCgnPGRpdiBpZD0iaHRtbF8zOTQ2OTBhN2ZhYzM0OGVlODBlOGFiYjgwNmNkOGI0YiIgc3R5bGU9IndpZHRoOiAxMDAuMCU7IGhlaWdodDogMTAwLjAlOyI+RHJha2UsIFBhcmlzPC9kaXY+JylbMF07CiAgICAgICAgICAgICAgICBwb3B1cF9kZTRkYjUwMDYxZTE0YzNkYTY3OTZmMzUwNmQyNzI4MC5zZXRDb250ZW50KGh0bWxfMzk0NjkwYTdmYWMzNDhlZTgwZThhYmI4MDZjZDhiNGIpOwogICAgICAgICAgICAKCiAgICAgICAgICAgIG1hcmtlcl85ODJlYzQwMjE1NjA0YmFmYTZiOWU0OTU4ZmQ0ZDhhNy5iaW5kUG9wdXAocG9wdXBfZGU0ZGI1MDA2MWUxNGMzZGE2Nzk2ZjM1MDZkMjcyODApOwoKICAgICAgICAgICAgCiAgICAgICAgCiAgICAKCiAgICAgICAgICAgIHZhciBtYXJrZXJfYmRhNjMzM2Y0ZGI4NDUxZWJjMWQ2NWFhMDJkZTVhNTcgPSBMLm1hcmtlcigKICAgICAgICAgICAgICAgIFs0OC44NjY2OTI5MywyLjMzMzMzNTMyNl0sCiAgICAgICAgICAgICAgICB7CiAgICAgICAgICAgICAgICAgICAgaWNvbjogbmV3IEwuSWNvbi5EZWZhdWx0KCkKICAgICAgICAgICAgICAgICAgICB9CiAgICAgICAgICAgICAgICApCiAgICAgICAgICAgICAgICAuYWRkVG8obWFwXzUwNDU4YmQ3YTg2ODRhMjU4NjU3ZGYwMzQxYzk3NTFjKTsKICAgICAgICAgICAgCiAgICAKCiAgICAgICAgICAgICAgICB2YXIgaWNvbl85YTcyYzYyYzExYWQ0OTY5YjlhYWMzMjY2MThiOGIwZCA9IEwuQXdlc29tZU1hcmtlcnMuaWNvbih7CiAgICAgICAgICAgICAgICAgICAgaWNvbjogJ2luZm8tc2lnbicsCiAgICAgICAgICAgICAgICAgICAgaWNvbkNvbG9yOiAnd2hpdGUnLAogICAgICAgICAgICAgICAgICAgIG1hcmtlckNvbG9yOiAncmVkJywKICAgICAgICAgICAgICAgICAgICBwcmVmaXg6ICdnbHlwaGljb24nLAogICAgICAgICAgICAgICAgICAgIGV4dHJhQ2xhc3NlczogJ2ZhLXJvdGF0ZS0wJwogICAgICAgICAgICAgICAgICAgIH0pOwogICAgICAgICAgICAgICAgbWFya2VyX2JkYTYzMzNmNGRiODQ1MWViYzFkNjVhYTAyZGU1YTU3LnNldEljb24oaWNvbl85YTcyYzYyYzExYWQ0OTY5YjlhYWMzMjY2MThiOGIwZCk7CiAgICAgICAgICAgIAogICAgCiAgICAgICAgICAgIHZhciBwb3B1cF9lMzMwNTc0YmVkYmM0ZTRkODc4MDIxYjI3MzUzMWY1OCA9IEwucG9wdXAoe21heFdpZHRoOiAnMzAwJ30pOwoKICAgICAgICAgICAgCiAgICAgICAgICAgICAgICB2YXIgaHRtbF9lMDZhMzkwZGU2MDc0Y2VmYmM1OGFmNzEwN2ViOWZlZSA9ICQoJzxkaXYgaWQ9Imh0bWxfZTA2YTM5MGRlNjA3NGNlZmJjNThhZjcxMDdlYjlmZWUiIHN0eWxlPSJ3aWR0aDogMTAwLjAlOyBoZWlnaHQ6IDEwMC4wJTsiPkRyYWtlLCBQYXJpczwvZGl2PicpWzBdOwogICAgICAgICAgICAgICAgcG9wdXBfZTMzMDU3NGJlZGJjNGU0ZDg3ODAyMWIyNzM1MzFmNTguc2V0Q29udGVudChodG1sX2UwNmEzOTBkZTYwNzRjZWZiYzU4YWY3MTA3ZWI5ZmVlKTsKICAgICAgICAgICAgCgogICAgICAgICAgICBtYXJrZXJfYmRhNjMzM2Y0ZGI4NDUxZWJjMWQ2NWFhMDJkZTVhNTcuYmluZFBvcHVwKHBvcHVwX2UzMzA1NzRiZWRiYzRlNGQ4NzgwMjFiMjczNTMxZjU4KTsKCiAgICAgICAgICAgIAogICAgICAgIAogICAgCgogICAgICAgICAgICB2YXIgbWFya2VyX2E1YmZlNDZjMzUwYTRhZmRhMmU1MGY0NTU5MDFjMTcxID0gTC5tYXJrZXIoCiAgICAgICAgICAgICAgICBbNTMuNTUwMDI0NjQsOS45OTk5OTkxNDRdLAogICAgICAgICAgICAgICAgewogICAgICAgICAgICAgICAgICAgIGljb246IG5ldyBMLkljb24uRGVmYXVsdCgpCiAgICAgICAgICAgICAgICAgICAgfQogICAgICAgICAgICAgICAgKQogICAgICAgICAgICAgICAgLmFkZFRvKG1hcF81MDQ1OGJkN2E4Njg0YTI1ODY1N2RmMDM0MWM5NzUxYyk7CiAgICAgICAgICAgIAogICAgCgogICAgICAgICAgICAgICAgdmFyIGljb25fMWZmYTc5MjE0N2NkNDA0OGE1NGFiNDQzYmZkZmQ1YWEgPSBMLkF3ZXNvbWVNYXJrZXJzLmljb24oewogICAgICAgICAgICAgICAgICAgIGljb246ICdpbmZvLXNpZ24nLAogICAgICAgICAgICAgICAgICAgIGljb25Db2xvcjogJ3doaXRlJywKICAgICAgICAgICAgICAgICAgICBtYXJrZXJDb2xvcjogJ3JlZCcsCiAgICAgICAgICAgICAgICAgICAgcHJlZml4OiAnZ2x5cGhpY29uJywKICAgICAgICAgICAgICAgICAgICBleHRyYUNsYXNzZXM6ICdmYS1yb3RhdGUtMCcKICAgICAgICAgICAgICAgICAgICB9KTsKICAgICAgICAgICAgICAgIG1hcmtlcl9hNWJmZTQ2YzM1MGE0YWZkYTJlNTBmNDU1OTAxYzE3MS5zZXRJY29uKGljb25fMWZmYTc5MjE0N2NkNDA0OGE1NGFiNDQzYmZkZmQ1YWEpOwogICAgICAgICAgICAKICAgIAogICAgICAgICAgICB2YXIgcG9wdXBfMmM4ODczODYwZjZkNDFlMGI0NjJkMjY4ZmJlMWNiY2IgPSBMLnBvcHVwKHttYXhXaWR0aDogJzMwMCd9KTsKCiAgICAgICAgICAgIAogICAgICAgICAgICAgICAgdmFyIGh0bWxfODNhYTQxMzJmYTUxNDNmN2JkZjVhYThjMmIyMWU3YTcgPSAkKCc8ZGl2IGlkPSJodG1sXzgzYWE0MTMyZmE1MTQzZjdiZGY1YWE4YzJiMjFlN2E3IiBzdHlsZT0id2lkdGg6IDEwMC4wJTsgaGVpZ2h0OiAxMDAuMCU7Ij5EcmFrZSwgSGFtYnVyZzwvZGl2PicpWzBdOwogICAgICAgICAgICAgICAgcG9wdXBfMmM4ODczODYwZjZkNDFlMGI0NjJkMjY4ZmJlMWNiY2Iuc2V0Q29udGVudChodG1sXzgzYWE0MTMyZmE1MTQzZjdiZGY1YWE4YzJiMjFlN2E3KTsKICAgICAgICAgICAgCgogICAgICAgICAgICBtYXJrZXJfYTViZmU0NmMzNTBhNGFmZGEyZTUwZjQ1NTkwMWMxNzEuYmluZFBvcHVwKHBvcHVwXzJjODg3Mzg2MGY2ZDQxZTBiNDYyZDI2OGZiZTFjYmNiKTsKCiAgICAgICAgICAgIAogICAgICAgIAogICAgCgogICAgICAgICAgICB2YXIgbWFya2VyXzIzMDM5MThkN2JhYzRmMGZiNmM0NWYzOTAyZDFmNGY5ID0gTC5tYXJrZXIoCiAgICAgICAgICAgICAgICBbNTIuNTIxODE4NjYsMTMuNDAxNTQ4NjJdLAogICAgICAgICAgICAgICAgewogICAgICAgICAgICAgICAgICAgIGljb246IG5ldyBMLkljb24uRGVmYXVsdCgpCiAgICAgICAgICAgICAgICAgICAgfQogICAgICAgICAgICAgICAgKQogICAgICAgICAgICAgICAgLmFkZFRvKG1hcF81MDQ1OGJkN2E4Njg0YTI1ODY1N2RmMDM0MWM5NzUxYyk7CiAgICAgICAgICAgIAogICAgCgogICAgICAgICAgICAgICAgdmFyIGljb25fNjM0ZDdjNzYxMjk3NGI4OWJhNjMyYTY1ODBkN2UwNGIgPSBMLkF3ZXNvbWVNYXJrZXJzLmljb24oewogICAgICAgICAgICAgICAgICAgIGljb246ICdpbmZvLXNpZ24nLAogICAgICAgICAgICAgICAgICAgIGljb25Db2xvcjogJ3doaXRlJywKICAgICAgICAgICAgICAgICAgICBtYXJrZXJDb2xvcjogJ3JlZCcsCiAgICAgICAgICAgICAgICAgICAgcHJlZml4OiAnZ2x5cGhpY29uJywKICAgICAgICAgICAgICAgICAgICBleHRyYUNsYXNzZXM6ICdmYS1yb3RhdGUtMCcKICAgICAgICAgICAgICAgICAgICB9KTsKICAgICAgICAgICAgICAgIG1hcmtlcl8yMzAzOTE4ZDdiYWM0ZjBmYjZjNDVmMzkwMmQxZjRmOS5zZXRJY29uKGljb25fNjM0ZDdjNzYxMjk3NGI4OWJhNjMyYTY1ODBkN2UwNGIpOwogICAgICAgICAgICAKICAgIAogICAgICAgICAgICB2YXIgcG9wdXBfMTFhZTBiOWQ1MGExNGNjODhmNjg0NzUyYTk4MDA1MWEgPSBMLnBvcHVwKHttYXhXaWR0aDogJzMwMCd9KTsKCiAgICAgICAgICAgIAogICAgICAgICAgICAgICAgdmFyIGh0bWxfYTYwNDQ4ZGRlNWY1NDJlN2EzMzk5NjFlZjVhMTY5ZDkgPSAkKCc8ZGl2IGlkPSJodG1sX2E2MDQ0OGRkZTVmNTQyZTdhMzM5OTYxZWY1YTE2OWQ5IiBzdHlsZT0id2lkdGg6IDEwMC4wJTsgaGVpZ2h0OiAxMDAuMCU7Ij5EcmFrZSwgQmVybGluPC9kaXY+JylbMF07CiAgICAgICAgICAgICAgICBwb3B1cF8xMWFlMGI5ZDUwYTE0Y2M4OGY2ODQ3NTJhOTgwMDUxYS5zZXRDb250ZW50KGh0bWxfYTYwNDQ4ZGRlNWY1NDJlN2EzMzk5NjFlZjVhMTY5ZDkpOwogICAgICAgICAgICAKCiAgICAgICAgICAgIG1hcmtlcl8yMzAzOTE4ZDdiYWM0ZjBmYjZjNDVmMzkwMmQxZjRmOS5iaW5kUG9wdXAocG9wdXBfMTFhZTBiOWQ1MGExNGNjODhmNjg0NzUyYTk4MDA1MWEpOwoKICAgICAgICAgICAgCiAgICAgICAgCiAgICAKCiAgICAgICAgICAgIHZhciBtYXJrZXJfNmMwMzRmNTUzZDY4NDcyYTg4NDJiNTI1M2M4ZTQ3MzUgPSBMLm1hcmtlcigKICAgICAgICAgICAgICAgIFs1OS4zNTA3NTk5NSwxOC4wOTczMzQ3M10sCiAgICAgICAgICAgICAgICB7CiAgICAgICAgICAgICAgICAgICAgaWNvbjogbmV3IEwuSWNvbi5EZWZhdWx0KCkKICAgICAgICAgICAgICAgICAgICB9CiAgICAgICAgICAgICAgICApCiAgICAgICAgICAgICAgICAuYWRkVG8obWFwXzUwNDU4YmQ3YTg2ODRhMjU4NjU3ZGYwMzQxYzk3NTFjKTsKICAgICAgICAgICAgCiAgICAKCiAgICAgICAgICAgICAgICB2YXIgaWNvbl9lOWQxMGZjYjc4OTc0NjU5ODYxMjA5YTZiNWFmZGJiMCA9IEwuQXdlc29tZU1hcmtlcnMuaWNvbih7CiAgICAgICAgICAgICAgICAgICAgaWNvbjogJ2luZm8tc2lnbicsCiAgICAgICAgICAgICAgICAgICAgaWNvbkNvbG9yOiAnd2hpdGUnLAogICAgICAgICAgICAgICAgICAgIG1hcmtlckNvbG9yOiAncmVkJywKICAgICAgICAgICAgICAgICAgICBwcmVmaXg6ICdnbHlwaGljb24nLAogICAgICAgICAgICAgICAgICAgIGV4dHJhQ2xhc3NlczogJ2ZhLXJvdGF0ZS0wJwogICAgICAgICAgICAgICAgICAgIH0pOwogICAgICAgICAgICAgICAgbWFya2VyXzZjMDM0ZjU1M2Q2ODQ3MmE4ODQyYjUyNTNjOGU0NzM1LnNldEljb24oaWNvbl9lOWQxMGZjYjc4OTc0NjU5ODYxMjA5YTZiNWFmZGJiMCk7CiAgICAgICAgICAgIAogICAgCiAgICAgICAgICAgIHZhciBwb3B1cF9mMDhiZmFkZTliYTc0YmMyYWE3YzNmNDNhMjY3NDBhZSA9IEwucG9wdXAoe21heFdpZHRoOiAnMzAwJ30pOwoKICAgICAgICAgICAgCiAgICAgICAgICAgICAgICB2YXIgaHRtbF9mYWY1NzAxZjdmMjU0NjgwYjNlOWFkOGU4NDU0N2IwOCA9ICQoJzxkaXYgaWQ9Imh0bWxfZmFmNTcwMWY3ZjI1NDY4MGIzZTlhZDhlODQ1NDdiMDgiIHN0eWxlPSJ3aWR0aDogMTAwLjAlOyBoZWlnaHQ6IDEwMC4wJTsiPkRyYWtlLCBTdG9ja2hvbG08L2Rpdj4nKVswXTsKICAgICAgICAgICAgICAgIHBvcHVwX2YwOGJmYWRlOWJhNzRiYzJhYTdjM2Y0M2EyNjc0MGFlLnNldENvbnRlbnQoaHRtbF9mYWY1NzAxZjdmMjU0NjgwYjNlOWFkOGU4NDU0N2IwOCk7CiAgICAgICAgICAgIAoKICAgICAgICAgICAgbWFya2VyXzZjMDM0ZjU1M2Q2ODQ3MmE4ODQyYjUyNTNjOGU0NzM1LmJpbmRQb3B1cChwb3B1cF9mMDhiZmFkZTliYTc0YmMyYWE3YzNmNDNhMjY3NDBhZSk7CgogICAgICAgICAgICAKICAgICAgICAKICAgIAoKICAgICAgICAgICAgdmFyIG1hcmtlcl9jYTQ5ZjUwNDljNDE0YzFlYWI5MDZkNmQyNTViYjM3MSA9IEwubWFya2VyKAogICAgICAgICAgICAgICAgWzUyLjM0OTk2ODY5LDQuOTE2NjQwMTc2XSwKICAgICAgICAgICAgICAgIHsKICAgICAgICAgICAgICAgICAgICBpY29uOiBuZXcgTC5JY29uLkRlZmF1bHQoKQogICAgICAgICAgICAgICAgICAgIH0KICAgICAgICAgICAgICAgICkKICAgICAgICAgICAgICAgIC5hZGRUbyhtYXBfNTA0NThiZDdhODY4NGEyNTg2NTdkZjAzNDFjOTc1MWMpOwogICAgICAgICAgICAKICAgIAoKICAgICAgICAgICAgICAgIHZhciBpY29uXzExOWJmM2U4NzVlYjQ1MzdiYzlmZmM3MzA4ZmZhNTc5ID0gTC5Bd2Vzb21lTWFya2Vycy5pY29uKHsKICAgICAgICAgICAgICAgICAgICBpY29uOiAnaW5mby1zaWduJywKICAgICAgICAgICAgICAgICAgICBpY29uQ29sb3I6ICd3aGl0ZScsCiAgICAgICAgICAgICAgICAgICAgbWFya2VyQ29sb3I6ICdyZWQnLAogICAgICAgICAgICAgICAgICAgIHByZWZpeDogJ2dseXBoaWNvbicsCiAgICAgICAgICAgICAgICAgICAgZXh0cmFDbGFzc2VzOiAnZmEtcm90YXRlLTAnCiAgICAgICAgICAgICAgICAgICAgfSk7CiAgICAgICAgICAgICAgICBtYXJrZXJfY2E0OWY1MDQ5YzQxNGMxZWFiOTA2ZDZkMjU1YmIzNzEuc2V0SWNvbihpY29uXzExOWJmM2U4NzVlYjQ1MzdiYzlmZmM3MzA4ZmZhNTc5KTsKICAgICAgICAgICAgCiAgICAKICAgICAgICAgICAgdmFyIHBvcHVwX2NkNjlmYzRmOTY2YjQxMzBhZjZmMzdiMmZlOGQwMWU1ID0gTC5wb3B1cCh7bWF4V2lkdGg6ICczMDAnfSk7CgogICAgICAgICAgICAKICAgICAgICAgICAgICAgIHZhciBodG1sX2ZkNzFkMzRkZWI2NjQ1NzI4ODFjNzBiOWFlZjVjODRkID0gJCgnPGRpdiBpZD0iaHRtbF9mZDcxZDM0ZGViNjY0NTcyODgxYzcwYjlhZWY1Yzg0ZCIgc3R5bGU9IndpZHRoOiAxMDAuMCU7IGhlaWdodDogMTAwLjAlOyI+RHJha2UsIEFtc3RlcmRhbTwvZGl2PicpWzBdOwogICAgICAgICAgICAgICAgcG9wdXBfY2Q2OWZjNGY5NjZiNDEzMGFmNmYzN2IyZmU4ZDAxZTUuc2V0Q29udGVudChodG1sX2ZkNzFkMzRkZWI2NjQ1NzI4ODFjNzBiOWFlZjVjODRkKTsKICAgICAgICAgICAgCgogICAgICAgICAgICBtYXJrZXJfY2E0OWY1MDQ5YzQxNGMxZWFiOTA2ZDZkMjU1YmIzNzEuYmluZFBvcHVwKHBvcHVwX2NkNjlmYzRmOTY2YjQxMzBhZjZmMzdiMmZlOGQwMWU1KTsKCiAgICAgICAgICAgIAogICAgICAgIAogICAgCgogICAgICAgICAgICB2YXIgbWFya2VyXzUxYmI1NDg2MWVlYzRkOGY5N2RkMDVmOWM5YTdjMTI5ID0gTC5tYXJrZXIoCiAgICAgICAgICAgICAgICBbNTIuNDc0OTczOTgsLTEuOTE5OTk2Nzg3XSwKICAgICAgICAgICAgICAgIHsKICAgICAgICAgICAgICAgICAgICBpY29uOiBuZXcgTC5JY29uLkRlZmF1bHQoKQogICAgICAgICAgICAgICAgICAgIH0KICAgICAgICAgICAgICAgICkKICAgICAgICAgICAgICAgIC5hZGRUbyhtYXBfNTA0NThiZDdhODY4NGEyNTg2NTdkZjAzNDFjOTc1MWMpOwogICAgICAgICAgICAKICAgIAoKICAgICAgICAgICAgICAgIHZhciBpY29uX2Q3ZjdkZTk2ODVlYzQ1NzdiNzQwMWY4YWJmMjc5NzlmID0gTC5Bd2Vzb21lTWFya2Vycy5pY29uKHsKICAgICAgICAgICAgICAgICAgICBpY29uOiAnaW5mby1zaWduJywKICAgICAgICAgICAgICAgICAgICBpY29uQ29sb3I6ICd3aGl0ZScsCiAgICAgICAgICAgICAgICAgICAgbWFya2VyQ29sb3I6ICdyZWQnLAogICAgICAgICAgICAgICAgICAgIHByZWZpeDogJ2dseXBoaWNvbicsCiAgICAgICAgICAgICAgICAgICAgZXh0cmFDbGFzc2VzOiAnZmEtcm90YXRlLTAnCiAgICAgICAgICAgICAgICAgICAgfSk7CiAgICAgICAgICAgICAgICBtYXJrZXJfNTFiYjU0ODYxZWVjNGQ4Zjk3ZGQwNWY5YzlhN2MxMjkuc2V0SWNvbihpY29uX2Q3ZjdkZTk2ODVlYzQ1NzdiNzQwMWY4YWJmMjc5NzlmKTsKICAgICAgICAgICAgCiAgICAKICAgICAgICAgICAgdmFyIHBvcHVwX2I1OTA1OTAyNzJhOTRjOGZiODFkMTIyYTA5NWZiOWUxID0gTC5wb3B1cCh7bWF4V2lkdGg6ICczMDAnfSk7CgogICAgICAgICAgICAKICAgICAgICAgICAgICAgIHZhciBodG1sXzY3YTBjOGFlZmY2MzQ4NGM5MDI4ZmVmMjk4MmYxM2IyID0gJCgnPGRpdiBpZD0iaHRtbF82N2EwYzhhZWZmNjM0ODRjOTAyOGZlZjI5ODJmMTNiMiIgc3R5bGU9IndpZHRoOiAxMDAuMCU7IGhlaWdodDogMTAwLjAlOyI+RHJha2UsIEJpcm1pbmdoYW08L2Rpdj4nKVswXTsKICAgICAgICAgICAgICAgIHBvcHVwX2I1OTA1OTAyNzJhOTRjOGZiODFkMTIyYTA5NWZiOWUxLnNldENvbnRlbnQoaHRtbF82N2EwYzhhZWZmNjM0ODRjOTAyOGZlZjI5ODJmMTNiMik7CiAgICAgICAgICAgIAoKICAgICAgICAgICAgbWFya2VyXzUxYmI1NDg2MWVlYzRkOGY5N2RkMDVmOWM5YTdjMTI5LmJpbmRQb3B1cChwb3B1cF9iNTkwNTkwMjcyYTk0YzhmYjgxZDEyMmEwOTVmYjllMSk7CgogICAgICAgICAgICAKICAgICAgICAKICAgIAoKICAgICAgICAgICAgdmFyIG1hcmtlcl81MTcwYzkwZGYxMWQ0NjRlOTM3NDU2MTc1ZTY2MjA2OSA9IEwubWFya2VyKAogICAgICAgICAgICAgICAgWzQxLjgyOTk5MDY2LC04Ny43NTAwNTQ5N10sCiAgICAgICAgICAgICAgICB7CiAgICAgICAgICAgICAgICAgICAgaWNvbjogbmV3IEwuSWNvbi5EZWZhdWx0KCkKICAgICAgICAgICAgICAgICAgICB9CiAgICAgICAgICAgICAgICApCiAgICAgICAgICAgICAgICAuYWRkVG8obWFwXzUwNDU4YmQ3YTg2ODRhMjU4NjU3ZGYwMzQxYzk3NTFjKTsKICAgICAgICAgICAgCiAgICAKCiAgICAgICAgICAgICAgICB2YXIgaWNvbl9lZDUyZjliODdlNGY0YjNiYWFkYTRkMTllOTExMTA0MiA9IEwuQXdlc29tZU1hcmtlcnMuaWNvbih7CiAgICAgICAgICAgICAgICAgICAgaWNvbjogJ2luZm8tc2lnbicsCiAgICAgICAgICAgICAgICAgICAgaWNvbkNvbG9yOiAnd2hpdGUnLAogICAgICAgICAgICAgICAgICAgIG1hcmtlckNvbG9yOiAncmVkJywKICAgICAgICAgICAgICAgICAgICBwcmVmaXg6ICdnbHlwaGljb24nLAogICAgICAgICAgICAgICAgICAgIGV4dHJhQ2xhc3NlczogJ2ZhLXJvdGF0ZS0wJwogICAgICAgICAgICAgICAgICAgIH0pOwogICAgICAgICAgICAgICAgbWFya2VyXzUxNzBjOTBkZjExZDQ2NGU5Mzc0NTYxNzVlNjYyMDY5LnNldEljb24oaWNvbl9lZDUyZjliODdlNGY0YjNiYWFkYTRkMTllOTExMTA0Mik7CiAgICAgICAgICAgIAogICAgCiAgICAgICAgICAgIHZhciBwb3B1cF82NmJhN2M4ZjExNDA0N2EwYTc3ODRkODY0YzgwNDNlOCA9IEwucG9wdXAoe21heFdpZHRoOiAnMzAwJ30pOwoKICAgICAgICAgICAgCiAgICAgICAgICAgICAgICB2YXIgaHRtbF8yMDk5ZjA4MjA5YTI0MzMxYmFlOGM0Mzg0YTI0Njg3ZSA9ICQoJzxkaXYgaWQ9Imh0bWxfMjA5OWYwODIwOWEyNDMzMWJhZThjNDM4NGEyNDY4N2UiIHN0eWxlPSJ3aWR0aDogMTAwLjAlOyBoZWlnaHQ6IDEwMC4wJTsiPlggQW1iYXNzYWRvcnMsIENoaWNhZ288L2Rpdj4nKVswXTsKICAgICAgICAgICAgICAgIHBvcHVwXzY2YmE3YzhmMTE0MDQ3YTBhNzc4NGQ4NjRjODA0M2U4LnNldENvbnRlbnQoaHRtbF8yMDk5ZjA4MjA5YTI0MzMxYmFlOGM0Mzg0YTI0Njg3ZSk7CiAgICAgICAgICAgIAoKICAgICAgICAgICAgbWFya2VyXzUxNzBjOTBkZjExZDQ2NGU5Mzc0NTYxNzVlNjYyMDY5LmJpbmRQb3B1cChwb3B1cF82NmJhN2M4ZjExNDA0N2EwYTc3ODRkODY0YzgwNDNlOCk7CgogICAgICAgICAgICAKICAgICAgICAKICAgIAoKICAgICAgICAgICAgdmFyIG1hcmtlcl8zZGM2ZjU2OWRiOWM0N2IzOGY1ODFkNGQ3ZTdiYWMzNiA9IEwubWFya2VyKAogICAgICAgICAgICAgICAgWzQyLjMyOTk2MDE0LC03MS4wNzAwMTM2N10sCiAgICAgICAgICAgICAgICB7CiAgICAgICAgICAgICAgICAgICAgaWNvbjogbmV3IEwuSWNvbi5EZWZhdWx0KCkKICAgICAgICAgICAgICAgICAgICB9CiAgICAgICAgICAgICAgICApCiAgICAgICAgICAgICAgICAuYWRkVG8obWFwXzUwNDU4YmQ3YTg2ODRhMjU4NjU3ZGYwMzQxYzk3NTFjKTsKICAgICAgICAgICAgCiAgICAKCiAgICAgICAgICAgICAgICB2YXIgaWNvbl83MDYyOTg4NTE3YjI0NGFkODNkYmU3YjRlZTAzOTc2YiA9IEwuQXdlc29tZU1hcmtlcnMuaWNvbih7CiAgICAgICAgICAgICAgICAgICAgaWNvbjogJ2luZm8tc2lnbicsCiAgICAgICAgICAgICAgICAgICAgaWNvbkNvbG9yOiAnd2hpdGUnLAogICAgICAgICAgICAgICAgICAgIG1hcmtlckNvbG9yOiAncmVkJywKICAgICAgICAgICAgICAgICAgICBwcmVmaXg6ICdnbHlwaGljb24nLAogICAgICAgICAgICAgICAgICAgIGV4dHJhQ2xhc3NlczogJ2ZhLXJvdGF0ZS0wJwogICAgICAgICAgICAgICAgICAgIH0pOwogICAgICAgICAgICAgICAgbWFya2VyXzNkYzZmNTY5ZGI5YzQ3YjM4ZjU4MWQ0ZDdlN2JhYzM2LnNldEljb24oaWNvbl83MDYyOTg4NTE3YjI0NGFkODNkYmU3YjRlZTAzOTc2Yik7CiAgICAgICAgICAgIAogICAgCiAgICAgICAgICAgIHZhciBwb3B1cF82NjRlZDIxMzhmZjI0ZTI1YjY2MDJlMzcyZDAyYzc0NSA9IEwucG9wdXAoe21heFdpZHRoOiAnMzAwJ30pOwoKICAgICAgICAgICAgCiAgICAgICAgICAgICAgICB2YXIgaHRtbF80NmUxMGY3NjM4MjI0NjViODhkMTMyYTdmNGNjZDUyYiA9ICQoJzxkaXYgaWQ9Imh0bWxfNDZlMTBmNzYzODIyNDY1Yjg4ZDEzMmE3ZjRjY2Q1MmIiIHN0eWxlPSJ3aWR0aDogMTAwLjAlOyBoZWlnaHQ6IDEwMC4wJTsiPlggQW1iYXNzYWRvcnMsIEJvc3RvbjwvZGl2PicpWzBdOwogICAgICAgICAgICAgICAgcG9wdXBfNjY0ZWQyMTM4ZmYyNGUyNWI2NjAyZTM3MmQwMmM3NDUuc2V0Q29udGVudChodG1sXzQ2ZTEwZjc2MzgyMjQ2NWI4OGQxMzJhN2Y0Y2NkNTJiKTsKICAgICAgICAgICAgCgogICAgICAgICAgICBtYXJrZXJfM2RjNmY1NjlkYjljNDdiMzhmNTgxZDRkN2U3YmFjMzYuYmluZFBvcHVwKHBvcHVwXzY2NGVkMjEzOGZmMjRlMjViNjYwMmUzNzJkMDJjNzQ1KTsKCiAgICAgICAgICAgIAogICAgICAgIAogICAgCgogICAgICAgICAgICB2YXIgbWFya2VyXzU0Y2Q5ZmI0YTA5ODQ2N2JiNDY3YmVkZDIyZjhmYTM1ID0gTC5tYXJrZXIoCiAgICAgICAgICAgICAgICBbNDQuMDIyMDUzMjQsLTkyLjQ2OTY4OTM3XSwKICAgICAgICAgICAgICAgIHsKICAgICAgICAgICAgICAgICAgICBpY29uOiBuZXcgTC5JY29uLkRlZmF1bHQoKQogICAgICAgICAgICAgICAgICAgIH0KICAgICAgICAgICAgICAgICkKICAgICAgICAgICAgICAgIC5hZGRUbyhtYXBfNTA0NThiZDdhODY4NGEyNTg2NTdkZjAzNDFjOTc1MWMpOwogICAgICAgICAgICAKICAgIAoKICAgICAgICAgICAgICAgIHZhciBpY29uXzMwMzhiMjQ1ZjZhZTQ1MWFiMWFhNjNlYTMwMWZiNzg2ID0gTC5Bd2Vzb21lTWFya2Vycy5pY29uKHsKICAgICAgICAgICAgICAgICAgICBpY29uOiAnaW5mby1zaWduJywKICAgICAgICAgICAgICAgICAgICBpY29uQ29sb3I6ICd3aGl0ZScsCiAgICAgICAgICAgICAgICAgICAgbWFya2VyQ29sb3I6ICdyZWQnLAogICAgICAgICAgICAgICAgICAgIHByZWZpeDogJ2dseXBoaWNvbicsCiAgICAgICAgICAgICAgICAgICAgZXh0cmFDbGFzc2VzOiAnZmEtcm90YXRlLTAnCiAgICAgICAgICAgICAgICAgICAgfSk7CiAgICAgICAgICAgICAgICBtYXJrZXJfNTRjZDlmYjRhMDk4NDY3YmI0NjdiZWRkMjJmOGZhMzUuc2V0SWNvbihpY29uXzMwMzhiMjQ1ZjZhZTQ1MWFiMWFhNjNlYTMwMWZiNzg2KTsKICAgICAgICAgICAgCiAgICAKICAgICAgICAgICAgdmFyIHBvcHVwXzAxYTUzY2RlMjg0ZTQ2ODZhMjYxMDQ3NGEzODM4MzAyID0gTC5wb3B1cCh7bWF4V2lkdGg6ICczMDAnfSk7CgogICAgICAgICAgICAKICAgICAgICAgICAgICAgIHZhciBodG1sXzFjODI3ZjA5M2RhNjQ3MTA5ZDA5OTM4YzlhYTJlZGQzID0gJCgnPGRpdiBpZD0iaHRtbF8xYzgyN2YwOTNkYTY0NzEwOWQwOTkzOGM5YWEyZWRkMyIgc3R5bGU9IndpZHRoOiAxMDAuMCU7IGhlaWdodDogMTAwLjAlOyI+WCBBbWJhc3NhZG9ycywgUm9jaGVzdGVyPC9kaXY+JylbMF07CiAgICAgICAgICAgICAgICBwb3B1cF8wMWE1M2NkZTI4NGU0Njg2YTI2MTA0NzRhMzgzODMwMi5zZXRDb250ZW50KGh0bWxfMWM4MjdmMDkzZGE2NDcxMDlkMDk5MzhjOWFhMmVkZDMpOwogICAgICAgICAgICAKCiAgICAgICAgICAgIG1hcmtlcl81NGNkOWZiNGEwOTg0NjdiYjQ2N2JlZGQyMmY4ZmEzNS5iaW5kUG9wdXAocG9wdXBfMDFhNTNjZGUyODRlNDY4NmEyNjEwNDc0YTM4MzgzMDIpOwoKICAgICAgICAgICAgCiAgICAgICAgCiAgICAKCiAgICAgICAgICAgIHZhciBtYXJrZXJfZTViMWVkNGU3ZWVlNDc5NTk5MTQxMmU0MmNhNDdjMTIgPSBMLm1hcmtlcigKICAgICAgICAgICAgICAgIFstMzcuNDYwMDAxNjEsLTcyLjM1OTk4NjYxXSwKICAgICAgICAgICAgICAgIHsKICAgICAgICAgICAgICAgICAgICBpY29uOiBuZXcgTC5JY29uLkRlZmF1bHQoKQogICAgICAgICAgICAgICAgICAgIH0KICAgICAgICAgICAgICAgICkKICAgICAgICAgICAgICAgIC5hZGRUbyhtYXBfNTA0NThiZDdhODY4NGEyNTg2NTdkZjAzNDFjOTc1MWMpOwogICAgICAgICAgICAKICAgIAoKICAgICAgICAgICAgICAgIHZhciBpY29uXzY3ZDFjYWUyZDRmOTRlYWY4NmY3NDI1OWIxNjU5MzU2ID0gTC5Bd2Vzb21lTWFya2Vycy5pY29uKHsKICAgICAgICAgICAgICAgICAgICBpY29uOiAnaW5mby1zaWduJywKICAgICAgICAgICAgICAgICAgICBpY29uQ29sb3I6ICd3aGl0ZScsCiAgICAgICAgICAgICAgICAgICAgbWFya2VyQ29sb3I6ICdyZWQnLAogICAgICAgICAgICAgICAgICAgIHByZWZpeDogJ2dseXBoaWNvbicsCiAgICAgICAgICAgICAgICAgICAgZXh0cmFDbGFzc2VzOiAnZmEtcm90YXRlLTAnCiAgICAgICAgICAgICAgICAgICAgfSk7CiAgICAgICAgICAgICAgICBtYXJrZXJfZTViMWVkNGU3ZWVlNDc5NTk5MTQxMmU0MmNhNDdjMTIuc2V0SWNvbihpY29uXzY3ZDFjYWUyZDRmOTRlYWY4NmY3NDI1OWIxNjU5MzU2KTsKICAgICAgICAgICAgCiAgICAKICAgICAgICAgICAgdmFyIHBvcHVwX2Y3NWEyOGIzYjA3ZDQzYzdhMzFjZjFkNWY0YjUzZWY3ID0gTC5wb3B1cCh7bWF4V2lkdGg6ICczMDAnfSk7CgogICAgICAgICAgICAKICAgICAgICAgICAgICAgIHZhciBodG1sXzgxMzYxZGZhYzhhYTQ5ZjY5ZDBjMDQzOGNkMWZiOTIxID0gJCgnPGRpdiBpZD0iaHRtbF84MTM2MWRmYWM4YWE0OWY2OWQwYzA0MzhjZDFmYjkyMSIgc3R5bGU9IndpZHRoOiAxMDAuMCU7IGhlaWdodDogMTAwLjAlOyI+WCBBbWJhc3NhZG9ycywgTG9zIEFuZ2VsZXM8L2Rpdj4nKVswXTsKICAgICAgICAgICAgICAgIHBvcHVwX2Y3NWEyOGIzYjA3ZDQzYzdhMzFjZjFkNWY0YjUzZWY3LnNldENvbnRlbnQoaHRtbF84MTM2MWRmYWM4YWE0OWY2OWQwYzA0MzhjZDFmYjkyMSk7CiAgICAgICAgICAgIAoKICAgICAgICAgICAgbWFya2VyX2U1YjFlZDRlN2VlZTQ3OTU5OTE0MTJlNDJjYTQ3YzEyLmJpbmRQb3B1cChwb3B1cF9mNzVhMjhiM2IwN2Q0M2M3YTMxY2YxZDVmNGI1M2VmNyk7CgogICAgICAgICAgICAKICAgICAgICAKICAgIAoKICAgICAgICAgICAgdmFyIG1hcmtlcl9kMTcyNzAyNWM0NTA0MGFhOTFmMjhiNWU3ZWU2MjRlZCA9IEwubWFya2VyKAogICAgICAgICAgICAgICAgWzQzLjY5OTk3OTg4LC03OS40MjAwMjA3OV0sCiAgICAgICAgICAgICAgICB7CiAgICAgICAgICAgICAgICAgICAgaWNvbjogbmV3IEwuSWNvbi5EZWZhdWx0KCkKICAgICAgICAgICAgICAgICAgICB9CiAgICAgICAgICAgICAgICApCiAgICAgICAgICAgICAgICAuYWRkVG8obWFwXzUwNDU4YmQ3YTg2ODRhMjU4NjU3ZGYwMzQxYzk3NTFjKTsKICAgICAgICAgICAgCiAgICAKCiAgICAgICAgICAgICAgICB2YXIgaWNvbl9lODdlNTYzYTEwZWE0MGZkOGNhOTJkMTQ2NTIxMDJlMyA9IEwuQXdlc29tZU1hcmtlcnMuaWNvbih7CiAgICAgICAgICAgICAgICAgICAgaWNvbjogJ2luZm8tc2lnbicsCiAgICAgICAgICAgICAgICAgICAgaWNvbkNvbG9yOiAnd2hpdGUnLAogICAgICAgICAgICAgICAgICAgIG1hcmtlckNvbG9yOiAncmVkJywKICAgICAgICAgICAgICAgICAgICBwcmVmaXg6ICdnbHlwaGljb24nLAogICAgICAgICAgICAgICAgICAgIGV4dHJhQ2xhc3NlczogJ2ZhLXJvdGF0ZS0wJwogICAgICAgICAgICAgICAgICAgIH0pOwogICAgICAgICAgICAgICAgbWFya2VyX2QxNzI3MDI1YzQ1MDQwYWE5MWYyOGI1ZTdlZTYyNGVkLnNldEljb24oaWNvbl9lODdlNTYzYTEwZWE0MGZkOGNhOTJkMTQ2NTIxMDJlMyk7CiAgICAgICAgICAgIAogICAgCiAgICAgICAgICAgIHZhciBwb3B1cF81M2NiODdmZjhlYjg0Njk5OTdjYzRmZTU4M2JlYTdkMiA9IEwucG9wdXAoe21heFdpZHRoOiAnMzAwJ30pOwoKICAgICAgICAgICAgCiAgICAgICAgICAgICAgICB2YXIgaHRtbF9jY2Q1MGNjYTFjNTc0MjU4OTQwYTllYjc5OWJlOGYxMCA9ICQoJzxkaXYgaWQ9Imh0bWxfY2NkNTBjY2ExYzU3NDI1ODk0MGE5ZWI3OTliZThmMTAiIHN0eWxlPSJ3aWR0aDogMTAwLjAlOyBoZWlnaHQ6IDEwMC4wJTsiPlggQW1iYXNzYWRvcnMsIFRvcm9udG88L2Rpdj4nKVswXTsKICAgICAgICAgICAgICAgIHBvcHVwXzUzY2I4N2ZmOGViODQ2OTk5N2NjNGZlNTgzYmVhN2QyLnNldENvbnRlbnQoaHRtbF9jY2Q1MGNjYTFjNTc0MjU4OTQwYTllYjc5OWJlOGYxMCk7CiAgICAgICAgICAgIAoKICAgICAgICAgICAgbWFya2VyX2QxNzI3MDI1YzQ1MDQwYWE5MWYyOGI1ZTdlZTYyNGVkLmJpbmRQb3B1cChwb3B1cF81M2NiODdmZjhlYjg0Njk5OTdjYzRmZTU4M2JlYTdkMik7CgogICAgICAgICAgICAKICAgICAgICAKICAgIAoKICAgICAgICAgICAgdmFyIG1hcmtlcl9mYzUzZDk0MjM2M2Q0ODMwYWNlZjZlYWRiMGU0NzIzOCA9IEwubWFya2VyKAogICAgICAgICAgICAgICAgWy0zNy40NjAwMDE2MSwtNzIuMzU5OTg2NjFdLAogICAgICAgICAgICAgICAgewogICAgICAgICAgICAgICAgICAgIGljb246IG5ldyBMLkljb24uRGVmYXVsdCgpCiAgICAgICAgICAgICAgICAgICAgfQogICAgICAgICAgICAgICAgKQogICAgICAgICAgICAgICAgLmFkZFRvKG1hcF81MDQ1OGJkN2E4Njg0YTI1ODY1N2RmMDM0MWM5NzUxYyk7CiAgICAgICAgICAgIAogICAgCgogICAgICAgICAgICAgICAgdmFyIGljb25fZWI0ZDE0YjZmZDYwNDdhN2FiODc0YjJiN2ZhM2ZiZTggPSBMLkF3ZXNvbWVNYXJrZXJzLmljb24oewogICAgICAgICAgICAgICAgICAgIGljb246ICdpbmZvLXNpZ24nLAogICAgICAgICAgICAgICAgICAgIGljb25Db2xvcjogJ3doaXRlJywKICAgICAgICAgICAgICAgICAgICBtYXJrZXJDb2xvcjogJ3JlZCcsCiAgICAgICAgICAgICAgICAgICAgcHJlZml4OiAnZ2x5cGhpY29uJywKICAgICAgICAgICAgICAgICAgICBleHRyYUNsYXNzZXM6ICdmYS1yb3RhdGUtMCcKICAgICAgICAgICAgICAgICAgICB9KTsKICAgICAgICAgICAgICAgIG1hcmtlcl9mYzUzZDk0MjM2M2Q0ODMwYWNlZjZlYWRiMGU0NzIzOC5zZXRJY29uKGljb25fZWI0ZDE0YjZmZDYwNDdhN2FiODc0YjJiN2ZhM2ZiZTgpOwogICAgICAgICAgICAKICAgIAogICAgICAgICAgICB2YXIgcG9wdXBfZmQyMTMwY2QxNmM4NDFmMmIxMDY3YTRkN2IzNGE1NzggPSBMLnBvcHVwKHttYXhXaWR0aDogJzMwMCd9KTsKCiAgICAgICAgICAgIAogICAgICAgICAgICAgICAgdmFyIGh0bWxfMDA4OWExMjdmMjdhNDJlMmE4NzQ4MWY0OGEwYzM2MjQgPSAkKCc8ZGl2IGlkPSJodG1sXzAwODlhMTI3ZjI3YTQyZTJhODc0ODFmNDhhMGMzNjI0IiBzdHlsZT0id2lkdGg6IDEwMC4wJTsgaGVpZ2h0OiAxMDAuMCU7Ij5YIEFtYmFzc2Fkb3JzLCBMb3MgQW5nZWxlczwvZGl2PicpWzBdOwogICAgICAgICAgICAgICAgcG9wdXBfZmQyMTMwY2QxNmM4NDFmMmIxMDY3YTRkN2IzNGE1Nzguc2V0Q29udGVudChodG1sXzAwODlhMTI3ZjI3YTQyZTJhODc0ODFmNDhhMGMzNjI0KTsKICAgICAgICAgICAgCgogICAgICAgICAgICBtYXJrZXJfZmM1M2Q5NDIzNjNkNDgzMGFjZWY2ZWFkYjBlNDcyMzguYmluZFBvcHVwKHBvcHVwX2ZkMjEzMGNkMTZjODQxZjJiMTA2N2E0ZDdiMzRhNTc4KTsKCiAgICAgICAgICAgIAogICAgICAgIAogICAgCgogICAgICAgICAgICB2YXIgbWFya2VyXzE2ZjdkYmRhNWNjNDQ1YmFiOGM4M2ViMzA5NTcyMTFlID0gTC5tYXJrZXIoCiAgICAgICAgICAgICAgICBbOS45MzUwMTI0MywtODQuMDg0MDUxMzVdLAogICAgICAgICAgICAgICAgewogICAgICAgICAgICAgICAgICAgIGljb246IG5ldyBMLkljb24uRGVmYXVsdCgpCiAgICAgICAgICAgICAgICAgICAgfQogICAgICAgICAgICAgICAgKQogICAgICAgICAgICAgICAgLmFkZFRvKG1hcF81MDQ1OGJkN2E4Njg0YTI1ODY1N2RmMDM0MWM5NzUxYyk7CiAgICAgICAgICAgIAogICAgCgogICAgICAgICAgICAgICAgdmFyIGljb25fNjY5ODFmMjIwNGRiNDMzYmFmYjM0NDdhZTBiOWUxOWMgPSBMLkF3ZXNvbWVNYXJrZXJzLmljb24oewogICAgICAgICAgICAgICAgICAgIGljb246ICdpbmZvLXNpZ24nLAogICAgICAgICAgICAgICAgICAgIGljb25Db2xvcjogJ3doaXRlJywKICAgICAgICAgICAgICAgICAgICBtYXJrZXJDb2xvcjogJ3JlZCcsCiAgICAgICAgICAgICAgICAgICAgcHJlZml4OiAnZ2x5cGhpY29uJywKICAgICAgICAgICAgICAgICAgICBleHRyYUNsYXNzZXM6ICdmYS1yb3RhdGUtMCcKICAgICAgICAgICAgICAgICAgICB9KTsKICAgICAgICAgICAgICAgIG1hcmtlcl8xNmY3ZGJkYTVjYzQ0NWJhYjhjODNlYjMwOTU3MjExZS5zZXRJY29uKGljb25fNjY5ODFmMjIwNGRiNDMzYmFmYjM0NDdhZTBiOWUxOWMpOwogICAgICAgICAgICAKICAgIAogICAgICAgICAgICB2YXIgcG9wdXBfYzZhMGVjYWNkY2MxNGE3MmFhZDljMDM2OTBmMjQyYWMgPSBMLnBvcHVwKHttYXhXaWR0aDogJzMwMCd9KTsKCiAgICAgICAgICAgIAogICAgICAgICAgICAgICAgdmFyIGh0bWxfODkzNzRjNjFjMmRkNDY1Y2FjYmYyN2QzOTFmZDg1YzMgPSAkKCc8ZGl2IGlkPSJodG1sXzg5Mzc0YzYxYzJkZDQ2NWNhY2JmMjdkMzkxZmQ4NWMzIiBzdHlsZT0id2lkdGg6IDEwMC4wJTsgaGVpZ2h0OiAxMDAuMCU7Ij5YIEFtYmFzc2Fkb3JzLCBTYW4gSm9zZTwvZGl2PicpWzBdOwogICAgICAgICAgICAgICAgcG9wdXBfYzZhMGVjYWNkY2MxNGE3MmFhZDljMDM2OTBmMjQyYWMuc2V0Q29udGVudChodG1sXzg5Mzc0YzYxYzJkZDQ2NWNhY2JmMjdkMzkxZmQ4NWMzKTsKICAgICAgICAgICAgCgogICAgICAgICAgICBtYXJrZXJfMTZmN2RiZGE1Y2M0NDViYWI4YzgzZWIzMDk1NzIxMWUuYmluZFBvcHVwKHBvcHVwX2M2YTBlY2FjZGNjMTRhNzJhYWQ5YzAzNjkwZjI0MmFjKTsKCiAgICAgICAgICAgIAogICAgICAgIAogICAgCgogICAgICAgICAgICB2YXIgbWFya2VyXzY5MTkwNmY1MDk3MjRhMmVhZTg1ZDFmYmJkYWQyOTFkID0gTC5tYXJrZXIoCiAgICAgICAgICAgICAgICBbNDMuNjA4NTkwMTEsLTExNi4yMjc0ODk5XSwKICAgICAgICAgICAgICAgIHsKICAgICAgICAgICAgICAgICAgICBpY29uOiBuZXcgTC5JY29uLkRlZmF1bHQoKQogICAgICAgICAgICAgICAgICAgIH0KICAgICAgICAgICAgICAgICkKICAgICAgICAgICAgICAgIC5hZGRUbyhtYXBfNTA0NThiZDdhODY4NGEyNTg2NTdkZjAzNDFjOTc1MWMpOwogICAgICAgICAgICAKICAgIAoKICAgICAgICAgICAgICAgIHZhciBpY29uXzAyOGIxZWM3OGZkNTRjY2JiOWI0YjhhNzVhYzM2NjFiID0gTC5Bd2Vzb21lTWFya2Vycy5pY29uKHsKICAgICAgICAgICAgICAgICAgICBpY29uOiAnaW5mby1zaWduJywKICAgICAgICAgICAgICAgICAgICBpY29uQ29sb3I6ICd3aGl0ZScsCiAgICAgICAgICAgICAgICAgICAgbWFya2VyQ29sb3I6ICdyZWQnLAogICAgICAgICAgICAgICAgICAgIHByZWZpeDogJ2dseXBoaWNvbicsCiAgICAgICAgICAgICAgICAgICAgZXh0cmFDbGFzc2VzOiAnZmEtcm90YXRlLTAnCiAgICAgICAgICAgICAgICAgICAgfSk7CiAgICAgICAgICAgICAgICBtYXJrZXJfNjkxOTA2ZjUwOTcyNGEyZWFlODVkMWZiYmRhZDI5MWQuc2V0SWNvbihpY29uXzAyOGIxZWM3OGZkNTRjY2JiOWI0YjhhNzVhYzM2NjFiKTsKICAgICAgICAgICAgCiAgICAKICAgICAgICAgICAgdmFyIHBvcHVwX2U1OTlkYWU1YzBmNzQ0ZTFhZGY0NTIxN2U3MzY1ODRmID0gTC5wb3B1cCh7bWF4V2lkdGg6ICczMDAnfSk7CgogICAgICAgICAgICAKICAgICAgICAgICAgICAgIHZhciBodG1sX2VkMDQ5ZjExYzVmNTQ0YjZiMWNmYTgwNzhkOTE4MDViID0gJCgnPGRpdiBpZD0iaHRtbF9lZDA0OWYxMWM1ZjU0NGI2YjFjZmE4MDc4ZDkxODA1YiIgc3R5bGU9IndpZHRoOiAxMDAuMCU7IGhlaWdodDogMTAwLjAlOyI+WCBBbWJhc3NhZG9ycywgQm9pc2U8L2Rpdj4nKVswXTsKICAgICAgICAgICAgICAgIHBvcHVwX2U1OTlkYWU1YzBmNzQ0ZTFhZGY0NTIxN2U3MzY1ODRmLnNldENvbnRlbnQoaHRtbF9lZDA0OWYxMWM1ZjU0NGI2YjFjZmE4MDc4ZDkxODA1Yik7CiAgICAgICAgICAgIAoKICAgICAgICAgICAgbWFya2VyXzY5MTkwNmY1MDk3MjRhMmVhZTg1ZDFmYmJkYWQyOTFkLmJpbmRQb3B1cChwb3B1cF9lNTk5ZGFlNWMwZjc0NGUxYWRmNDUyMTdlNzM2NTg0Zik7CgogICAgICAgICAgICAKICAgICAgICAKICAgIAoKICAgICAgICAgICAgdmFyIG1hcmtlcl8yNzBkYTgxZDYzZjU0YzJiYWU0OWUwZGM4YTUzYjRiZCA9IEwubWFya2VyKAogICAgICAgICAgICAgICAgWzQwLjc0OTk3OTA2LC03My45ODAwMTY5M10sCiAgICAgICAgICAgICAgICB7CiAgICAgICAgICAgICAgICAgICAgaWNvbjogbmV3IEwuSWNvbi5EZWZhdWx0KCkKICAgICAgICAgICAgICAgICAgICB9CiAgICAgICAgICAgICAgICApCiAgICAgICAgICAgICAgICAuYWRkVG8obWFwXzUwNDU4YmQ3YTg2ODRhMjU4NjU3ZGYwMzQxYzk3NTFjKTsKICAgICAgICAgICAgCiAgICAKCiAgICAgICAgICAgICAgICB2YXIgaWNvbl9mYzI3ZjJlODMwMzQ0YTY1OTNjMTZlMjY0MGE5NTYxNiA9IEwuQXdlc29tZU1hcmtlcnMuaWNvbih7CiAgICAgICAgICAgICAgICAgICAgaWNvbjogJ2luZm8tc2lnbicsCiAgICAgICAgICAgICAgICAgICAgaWNvbkNvbG9yOiAnd2hpdGUnLAogICAgICAgICAgICAgICAgICAgIG1hcmtlckNvbG9yOiAncmVkJywKICAgICAgICAgICAgICAgICAgICBwcmVmaXg6ICdnbHlwaGljb24nLAogICAgICAgICAgICAgICAgICAgIGV4dHJhQ2xhc3NlczogJ2ZhLXJvdGF0ZS0wJwogICAgICAgICAgICAgICAgICAgIH0pOwogICAgICAgICAgICAgICAgbWFya2VyXzI3MGRhODFkNjNmNTRjMmJhZTQ5ZTBkYzhhNTNiNGJkLnNldEljb24oaWNvbl9mYzI3ZjJlODMwMzQ0YTY1OTNjMTZlMjY0MGE5NTYxNik7CiAgICAgICAgICAgIAogICAgCiAgICAgICAgICAgIHZhciBwb3B1cF85MmFmOTM1NjFjZDk0NjhlYTBlYWUzMDcxNDM0NDNhNiA9IEwucG9wdXAoe21heFdpZHRoOiAnMzAwJ30pOwoKICAgICAgICAgICAgCiAgICAgICAgICAgICAgICB2YXIgaHRtbF9lYTUzNTZjYWU4NWI0OTFmYTMxYzFlOTYyZmM2OWMxMiA9ICQoJzxkaXYgaWQ9Imh0bWxfZWE1MzU2Y2FlODViNDkxZmEzMWMxZTk2MmZjNjljMTIiIHN0eWxlPSJ3aWR0aDogMTAwLjAlOyBoZWlnaHQ6IDEwMC4wJTsiPlggQW1iYXNzYWRvcnMsIE5ldyBZb3JrPC9kaXY+JylbMF07CiAgICAgICAgICAgICAgICBwb3B1cF85MmFmOTM1NjFjZDk0NjhlYTBlYWUzMDcxNDM0NDNhNi5zZXRDb250ZW50KGh0bWxfZWE1MzU2Y2FlODViNDkxZmEzMWMxZTk2MmZjNjljMTIpOwogICAgICAgICAgICAKCiAgICAgICAgICAgIG1hcmtlcl8yNzBkYTgxZDYzZjU0YzJiYWU0OWUwZGM4YTUzYjRiZC5iaW5kUG9wdXAocG9wdXBfOTJhZjkzNTYxY2Q5NDY4ZWEwZWFlMzA3MTQzNDQzYTYpOwoKICAgICAgICAgICAgCiAgICAgICAgCiAgICAKCiAgICAgICAgICAgIHZhciBtYXJrZXJfMTczMGI1NWQ0NjM3NGMwMTg0YzUxNzIyMzZlZDJhZTUgPSBMLm1hcmtlcigKICAgICAgICAgICAgICAgIFs0Mi4zMjk5NjAxNCwtNzEuMDcwMDEzNjddLAogICAgICAgICAgICAgICAgewogICAgICAgICAgICAgICAgICAgIGljb246IG5ldyBMLkljb24uRGVmYXVsdCgpCiAgICAgICAgICAgICAgICAgICAgfQogICAgICAgICAgICAgICAgKQogICAgICAgICAgICAgICAgLmFkZFRvKG1hcF81MDQ1OGJkN2E4Njg0YTI1ODY1N2RmMDM0MWM5NzUxYyk7CiAgICAgICAgICAgIAogICAgCgogICAgICAgICAgICAgICAgdmFyIGljb25fOWY2NjE3ODVhNGRjNDdkOTgyZmFlMWE1NTg1YzNhMGUgPSBMLkF3ZXNvbWVNYXJrZXJzLmljb24oewogICAgICAgICAgICAgICAgICAgIGljb246ICdpbmZvLXNpZ24nLAogICAgICAgICAgICAgICAgICAgIGljb25Db2xvcjogJ3doaXRlJywKICAgICAgICAgICAgICAgICAgICBtYXJrZXJDb2xvcjogJ3JlZCcsCiAgICAgICAgICAgICAgICAgICAgcHJlZml4OiAnZ2x5cGhpY29uJywKICAgICAgICAgICAgICAgICAgICBleHRyYUNsYXNzZXM6ICdmYS1yb3RhdGUtMCcKICAgICAgICAgICAgICAgICAgICB9KTsKICAgICAgICAgICAgICAgIG1hcmtlcl8xNzMwYjU1ZDQ2Mzc0YzAxODRjNTE3MjIzNmVkMmFlNS5zZXRJY29uKGljb25fOWY2NjE3ODVhNGRjNDdkOTgyZmFlMWE1NTg1YzNhMGUpOwogICAgICAgICAgICAKICAgIAogICAgICAgICAgICB2YXIgcG9wdXBfOWE1OTMyZTk4NmVlNGZjODkxMzU4Njc2MjI4Njc0NjggPSBMLnBvcHVwKHttYXhXaWR0aDogJzMwMCd9KTsKCiAgICAgICAgICAgIAogICAgICAgICAgICAgICAgdmFyIGh0bWxfYjhjOTY3MjdiZGI2NDM0MGE3N2EyZjhkZGM4ODE3OWUgPSAkKCc8ZGl2IGlkPSJodG1sX2I4Yzk2NzI3YmRiNjQzNDBhNzdhMmY4ZGRjODgxNzllIiBzdHlsZT0id2lkdGg6IDEwMC4wJTsgaGVpZ2h0OiAxMDAuMCU7Ij5YIEFtYmFzc2Fkb3JzLCBCb3N0b248L2Rpdj4nKVswXTsKICAgICAgICAgICAgICAgIHBvcHVwXzlhNTkzMmU5ODZlZTRmYzg5MTM1ODY3NjIyODY3NDY4LnNldENvbnRlbnQoaHRtbF9iOGM5NjcyN2JkYjY0MzQwYTc3YTJmOGRkYzg4MTc5ZSk7CiAgICAgICAgICAgIAoKICAgICAgICAgICAgbWFya2VyXzE3MzBiNTVkNDYzNzRjMDE4NGM1MTcyMjM2ZWQyYWU1LmJpbmRQb3B1cChwb3B1cF85YTU5MzJlOTg2ZWU0ZmM4OTEzNTg2NzYyMjg2NzQ2OCk7CgogICAgICAgICAgICAKICAgICAgICAKICAgIAoKICAgICAgICAgICAgdmFyIG1hcmtlcl9iMjNlZDIxMWU3YTg0OGEzYTczMzE2NTliOGMxMjEzMSA9IEwubWFya2VyKAogICAgICAgICAgICAgICAgWzMyLjQ3MDQzMjc2LC04NC45ODAwMTczNF0sCiAgICAgICAgICAgICAgICB7CiAgICAgICAgICAgICAgICAgICAgaWNvbjogbmV3IEwuSWNvbi5EZWZhdWx0KCkKICAgICAgICAgICAgICAgICAgICB9CiAgICAgICAgICAgICAgICApCiAgICAgICAgICAgICAgICAuYWRkVG8obWFwXzUwNDU4YmQ3YTg2ODRhMjU4NjU3ZGYwMzQxYzk3NTFjKTsKICAgICAgICAgICAgCiAgICAKCiAgICAgICAgICAgICAgICB2YXIgaWNvbl8xZGQ0ODVmZTQ4NWY0MzRlYjE3NjFkNWVjNmZlYzVjZCA9IEwuQXdlc29tZU1hcmtlcnMuaWNvbih7CiAgICAgICAgICAgICAgICAgICAgaWNvbjogJ2luZm8tc2lnbicsCiAgICAgICAgICAgICAgICAgICAgaWNvbkNvbG9yOiAnd2hpdGUnLAogICAgICAgICAgICAgICAgICAgIG1hcmtlckNvbG9yOiAncmVkJywKICAgICAgICAgICAgICAgICAgICBwcmVmaXg6ICdnbHlwaGljb24nLAogICAgICAgICAgICAgICAgICAgIGV4dHJhQ2xhc3NlczogJ2ZhLXJvdGF0ZS0wJwogICAgICAgICAgICAgICAgICAgIH0pOwogICAgICAgICAgICAgICAgbWFya2VyX2IyM2VkMjExZTdhODQ4YTNhNzMzMTY1OWI4YzEyMTMxLnNldEljb24oaWNvbl8xZGQ0ODVmZTQ4NWY0MzRlYjE3NjFkNWVjNmZlYzVjZCk7CiAgICAgICAgICAgIAogICAgCiAgICAgICAgICAgIHZhciBwb3B1cF85NjRiM2M4OWExZDA0NTI1OThkZDdhM2VkY2I4YWUwNyA9IEwucG9wdXAoe21heFdpZHRoOiAnMzAwJ30pOwoKICAgICAgICAgICAgCiAgICAgICAgICAgICAgICB2YXIgaHRtbF81NjYwMmIwYTk0MGU0YjJmYjY3MDU5NzFkMDY4OTgxNCA9ICQoJzxkaXYgaWQ9Imh0bWxfNTY2MDJiMGE5NDBlNGIyZmI2NzA1OTcxZDA2ODk4MTQiIHN0eWxlPSJ3aWR0aDogMTAwLjAlOyBoZWlnaHQ6IDEwMC4wJTsiPlggQW1iYXNzYWRvcnMsIENvbHVtYnVzPC9kaXY+JylbMF07CiAgICAgICAgICAgICAgICBwb3B1cF85NjRiM2M4OWExZDA0NTI1OThkZDdhM2VkY2I4YWUwNy5zZXRDb250ZW50KGh0bWxfNTY2MDJiMGE5NDBlNGIyZmI2NzA1OTcxZDA2ODk4MTQpOwogICAgICAgICAgICAKCiAgICAgICAgICAgIG1hcmtlcl9iMjNlZDIxMWU3YTg0OGEzYTczMzE2NTliOGMxMjEzMS5iaW5kUG9wdXAocG9wdXBfOTY0YjNjODlhMWQwNDUyNTk4ZGQ3YTNlZGNiOGFlMDcpOwoKICAgICAgICAgICAgCiAgICAgICAgCiAgICAKCiAgICAgICAgICAgIHZhciBtYXJrZXJfZWFlMDExNmExNmIwNDgwNmFiNzMxZjY0ZGEzYzYwMDEgPSBMLm1hcmtlcigKICAgICAgICAgICAgICAgIFszOC42MzUwMTc3MiwtOTAuMjM5OTgwNTFdLAogICAgICAgICAgICAgICAgewogICAgICAgICAgICAgICAgICAgIGljb246IG5ldyBMLkljb24uRGVmYXVsdCgpCiAgICAgICAgICAgICAgICAgICAgfQogICAgICAgICAgICAgICAgKQogICAgICAgICAgICAgICAgLmFkZFRvKG1hcF81MDQ1OGJkN2E4Njg0YTI1ODY1N2RmMDM0MWM5NzUxYyk7CiAgICAgICAgICAgIAogICAgCgogICAgICAgICAgICAgICAgdmFyIGljb25fZWJjYzc2ZTBiMGEwNDg4M2FhZmM1MzM1Njc4ZGMwN2IgPSBMLkF3ZXNvbWVNYXJrZXJzLmljb24oewogICAgICAgICAgICAgICAgICAgIGljb246ICdpbmZvLXNpZ24nLAogICAgICAgICAgICAgICAgICAgIGljb25Db2xvcjogJ3doaXRlJywKICAgICAgICAgICAgICAgICAgICBtYXJrZXJDb2xvcjogJ3JlZCcsCiAgICAgICAgICAgICAgICAgICAgcHJlZml4OiAnZ2x5cGhpY29uJywKICAgICAgICAgICAgICAgICAgICBleHRyYUNsYXNzZXM6ICdmYS1yb3RhdGUtMCcKICAgICAgICAgICAgICAgICAgICB9KTsKICAgICAgICAgICAgICAgIG1hcmtlcl9lYWUwMTE2YTE2YjA0ODA2YWI3MzFmNjRkYTNjNjAwMS5zZXRJY29uKGljb25fZWJjYzc2ZTBiMGEwNDg4M2FhZmM1MzM1Njc4ZGMwN2IpOwogICAgICAgICAgICAKICAgIAogICAgICAgICAgICB2YXIgcG9wdXBfNzc4NGU0YzE1M2MxNGViZjgxZWUyYWMxYTZjYmYzMTYgPSBMLnBvcHVwKHttYXhXaWR0aDogJzMwMCd9KTsKCiAgICAgICAgICAgIAogICAgICAgICAgICAgICAgdmFyIGh0bWxfNDRjZjUzMmIwNDMzNGJiODljYzI2N2I4NTFhZTczYjAgPSAkKCc8ZGl2IGlkPSJodG1sXzQ0Y2Y1MzJiMDQzMzRiYjg5Y2MyNjdiODUxYWU3M2IwIiBzdHlsZT0id2lkdGg6IDEwMC4wJTsgaGVpZ2h0OiAxMDAuMCU7Ij5YIEFtYmFzc2Fkb3JzLCBTdC4gTG91aXM8L2Rpdj4nKVswXTsKICAgICAgICAgICAgICAgIHBvcHVwXzc3ODRlNGMxNTNjMTRlYmY4MWVlMmFjMWE2Y2JmMzE2LnNldENvbnRlbnQoaHRtbF80NGNmNTMyYjA0MzM0YmI4OWNjMjY3Yjg1MWFlNzNiMCk7CiAgICAgICAgICAgIAoKICAgICAgICAgICAgbWFya2VyX2VhZTAxMTZhMTZiMDQ4MDZhYjczMWY2NGRhM2M2MDAxLmJpbmRQb3B1cChwb3B1cF83Nzg0ZTRjMTUzYzE0ZWJmODFlZTJhYzFhNmNiZjMxNik7CgogICAgICAgICAgICAKICAgICAgICAKICAgIAoKICAgICAgICAgICAgdmFyIG1hcmtlcl8yOTc1MTc3NmM1YWQ0YmI5OWY1ZDkyNDE3MmVmMDIzNiA9IEwubWFya2VyKAogICAgICAgICAgICAgICAgWzM5LjExMzU4MDUyLC05NC42MzAxNDYzOF0sCiAgICAgICAgICAgICAgICB7CiAgICAgICAgICAgICAgICAgICAgaWNvbjogbmV3IEwuSWNvbi5EZWZhdWx0KCkKICAgICAgICAgICAgICAgICAgICB9CiAgICAgICAgICAgICAgICApCiAgICAgICAgICAgICAgICAuYWRkVG8obWFwXzUwNDU4YmQ3YTg2ODRhMjU4NjU3ZGYwMzQxYzk3NTFjKTsKICAgICAgICAgICAgCiAgICAKCiAgICAgICAgICAgICAgICB2YXIgaWNvbl9hYjU4Zjk5M2M5NTk0MDE5OTdlMTVkYmFmODNkY2Q3YSA9IEwuQXdlc29tZU1hcmtlcnMuaWNvbih7CiAgICAgICAgICAgICAgICAgICAgaWNvbjogJ2luZm8tc2lnbicsCiAgICAgICAgICAgICAgICAgICAgaWNvbkNvbG9yOiAnd2hpdGUnLAogICAgICAgICAgICAgICAgICAgIG1hcmtlckNvbG9yOiAncmVkJywKICAgICAgICAgICAgICAgICAgICBwcmVmaXg6ICdnbHlwaGljb24nLAogICAgICAgICAgICAgICAgICAgIGV4dHJhQ2xhc3NlczogJ2ZhLXJvdGF0ZS0wJwogICAgICAgICAgICAgICAgICAgIH0pOwogICAgICAgICAgICAgICAgbWFya2VyXzI5NzUxNzc2YzVhZDRiYjk5ZjVkOTI0MTcyZWYwMjM2LnNldEljb24oaWNvbl9hYjU4Zjk5M2M5NTk0MDE5OTdlMTVkYmFmODNkY2Q3YSk7CiAgICAgICAgICAgIAogICAgCiAgICAgICAgICAgIHZhciBwb3B1cF8zYWFjYjE3ZWVkNmQ0YmU3OGVmZmUyYTg3OTc4MzQ1MiA9IEwucG9wdXAoe21heFdpZHRoOiAnMzAwJ30pOwoKICAgICAgICAgICAgCiAgICAgICAgICAgICAgICB2YXIgaHRtbF85MzhiN2YzYjAwZDU0ZDBjODQ4ZWU1MDczZjI3NGI5MSA9ICQoJzxkaXYgaWQ9Imh0bWxfOTM4YjdmM2IwMGQ1NGQwYzg0OGVlNTA3M2YyNzRiOTEiIHN0eWxlPSJ3aWR0aDogMTAwLjAlOyBoZWlnaHQ6IDEwMC4wJTsiPlggQW1iYXNzYWRvcnMsIEthbnNhcyBDaXR5PC9kaXY+JylbMF07CiAgICAgICAgICAgICAgICBwb3B1cF8zYWFjYjE3ZWVkNmQ0YmU3OGVmZmUyYTg3OTc4MzQ1Mi5zZXRDb250ZW50KGh0bWxfOTM4YjdmM2IwMGQ1NGQwYzg0OGVlNTA3M2YyNzRiOTEpOwogICAgICAgICAgICAKCiAgICAgICAgICAgIG1hcmtlcl8yOTc1MTc3NmM1YWQ0YmI5OWY1ZDkyNDE3MmVmMDIzNi5iaW5kUG9wdXAocG9wdXBfM2FhY2IxN2VlZDZkNGJlNzhlZmZlMmE4Nzk3ODM0NTIpOwoKICAgICAgICAgICAgCiAgICAgICAgCiAgICAKCiAgICAgICAgICAgIHZhciBtYXJrZXJfYTQ3ZDg4Nzg2MzA4NDc4Nzg5MDk1ZDdhMWU4MzM2OWYgPSBMLm1hcmtlcigKICAgICAgICAgICAgICAgIFszOS43MzkxODgwNSwtMTA0Ljk4NDAxNl0sCiAgICAgICAgICAgICAgICB7CiAgICAgICAgICAgICAgICAgICAgaWNvbjogbmV3IEwuSWNvbi5EZWZhdWx0KCkKICAgICAgICAgICAgICAgICAgICB9CiAgICAgICAgICAgICAgICApCiAgICAgICAgICAgICAgICAuYWRkVG8obWFwXzUwNDU4YmQ3YTg2ODRhMjU4NjU3ZGYwMzQxYzk3NTFjKTsKICAgICAgICAgICAgCiAgICAKCiAgICAgICAgICAgICAgICB2YXIgaWNvbl9jOTY3MjdiY2I0MzA0YmRhYmVhN2UxN2M0ZjRkYTgwZCA9IEwuQXdlc29tZU1hcmtlcnMuaWNvbih7CiAgICAgICAgICAgICAgICAgICAgaWNvbjogJ2luZm8tc2lnbicsCiAgICAgICAgICAgICAgICAgICAgaWNvbkNvbG9yOiAnd2hpdGUnLAogICAgICAgICAgICAgICAgICAgIG1hcmtlckNvbG9yOiAncmVkJywKICAgICAgICAgICAgICAgICAgICBwcmVmaXg6ICdnbHlwaGljb24nLAogICAgICAgICAgICAgICAgICAgIGV4dHJhQ2xhc3NlczogJ2ZhLXJvdGF0ZS0wJwogICAgICAgICAgICAgICAgICAgIH0pOwogICAgICAgICAgICAgICAgbWFya2VyX2E0N2Q4ODc4NjMwODQ3ODc4OTA5NWQ3YTFlODMzNjlmLnNldEljb24oaWNvbl9jOTY3MjdiY2I0MzA0YmRhYmVhN2UxN2M0ZjRkYTgwZCk7CiAgICAgICAgICAgIAogICAgCiAgICAgICAgICAgIHZhciBwb3B1cF83OGYyOTM1ZGM4Y2I0OGU0OTU4MDVhYzQyOTI5OGQ1YSA9IEwucG9wdXAoe21heFdpZHRoOiAnMzAwJ30pOwoKICAgICAgICAgICAgCiAgICAgICAgICAgICAgICB2YXIgaHRtbF8yOGE2NTY0MjZiZmI0ZWJmOTQ3ZGQ4NzE2N2RkMzRlZSA9ICQoJzxkaXYgaWQ9Imh0bWxfMjhhNjU2NDI2YmZiNGViZjk0N2RkODcxNjdkZDM0ZWUiIHN0eWxlPSJ3aWR0aDogMTAwLjAlOyBoZWlnaHQ6IDEwMC4wJTsiPlggQW1iYXNzYWRvcnMsIERlbnZlcjwvZGl2PicpWzBdOwogICAgICAgICAgICAgICAgcG9wdXBfNzhmMjkzNWRjOGNiNDhlNDk1ODA1YWM0MjkyOThkNWEuc2V0Q29udGVudChodG1sXzI4YTY1NjQyNmJmYjRlYmY5NDdkZDg3MTY3ZGQzNGVlKTsKICAgICAgICAgICAgCgogICAgICAgICAgICBtYXJrZXJfYTQ3ZDg4Nzg2MzA4NDc4Nzg5MDk1ZDdhMWU4MzM2OWYuYmluZFBvcHVwKHBvcHVwXzc4ZjI5MzVkYzhjYjQ4ZTQ5NTgwNWFjNDI5Mjk4ZDVhKTsKCiAgICAgICAgICAgIAogICAgICAgIAogICAgCgogICAgICAgICAgICB2YXIgbWFya2VyXzVkYzM5MmFiMmUzYTQ5MzNiZjZjNmJlYWM0NmQzM2IwID0gTC5tYXJrZXIoCiAgICAgICAgICAgICAgICBbNDcuNTcwMDAyMDUsLTEyMi4zMzk5ODVdLAogICAgICAgICAgICAgICAgewogICAgICAgICAgICAgICAgICAgIGljb246IG5ldyBMLkljb24uRGVmYXVsdCgpCiAgICAgICAgICAgICAgICAgICAgfQogICAgICAgICAgICAgICAgKQogICAgICAgICAgICAgICAgLmFkZFRvKG1hcF81MDQ1OGJkN2E4Njg0YTI1ODY1N2RmMDM0MWM5NzUxYyk7CiAgICAgICAgICAgIAogICAgCgogICAgICAgICAgICAgICAgdmFyIGljb25fODA0OTVhY2RkYjU5NGNmM2I4YzdkN2U0MjJkOTFlNDYgPSBMLkF3ZXNvbWVNYXJrZXJzLmljb24oewogICAgICAgICAgICAgICAgICAgIGljb246ICdpbmZvLXNpZ24nLAogICAgICAgICAgICAgICAgICAgIGljb25Db2xvcjogJ3doaXRlJywKICAgICAgICAgICAgICAgICAgICBtYXJrZXJDb2xvcjogJ3JlZCcsCiAgICAgICAgICAgICAgICAgICAgcHJlZml4OiAnZ2x5cGhpY29uJywKICAgICAgICAgICAgICAgICAgICBleHRyYUNsYXNzZXM6ICdmYS1yb3RhdGUtMCcKICAgICAgICAgICAgICAgICAgICB9KTsKICAgICAgICAgICAgICAgIG1hcmtlcl81ZGMzOTJhYjJlM2E0OTMzYmY2YzZiZWFjNDZkMzNiMC5zZXRJY29uKGljb25fODA0OTVhY2RkYjU5NGNmM2I4YzdkN2U0MjJkOTFlNDYpOwogICAgICAgICAgICAKICAgIAogICAgICAgICAgICB2YXIgcG9wdXBfMTIxMzhlMWE2ODBmNDc3YTlmYTUwMjU4ZjJmMGZjZTkgPSBMLnBvcHVwKHttYXhXaWR0aDogJzMwMCd9KTsKCiAgICAgICAgICAgIAogICAgICAgICAgICAgICAgdmFyIGh0bWxfZmNlYjI1YTVkZmQ3NGRjZTgxYWQ2NTU4NmUyYTUwZjUgPSAkKCc8ZGl2IGlkPSJodG1sX2ZjZWIyNWE1ZGZkNzRkY2U4MWFkNjU1ODZlMmE1MGY1IiBzdHlsZT0id2lkdGg6IDEwMC4wJTsgaGVpZ2h0OiAxMDAuMCU7Ij5YIEFtYmFzc2Fkb3JzLCBTZWF0dGxlPC9kaXY+JylbMF07CiAgICAgICAgICAgICAgICBwb3B1cF8xMjEzOGUxYTY4MGY0NzdhOWZhNTAyNThmMmYwZmNlOS5zZXRDb250ZW50KGh0bWxfZmNlYjI1YTVkZmQ3NGRjZTgxYWQ2NTU4NmUyYTUwZjUpOwogICAgICAgICAgICAKCiAgICAgICAgICAgIG1hcmtlcl81ZGMzOTJhYjJlM2E0OTMzYmY2YzZiZWFjNDZkMzNiMC5iaW5kUG9wdXAocG9wdXBfMTIxMzhlMWE2ODBmNDc3YTlmYTUwMjU4ZjJmMGZjZTkpOwoKICAgICAgICAgICAgCiAgICAgICAgCiAgICAKCiAgICAgICAgICAgIHZhciBtYXJrZXJfOGRkNDk0NDVhNmVkNDMxMTg3ODBkN2YxMGIwOWVlYTEgPSBMLm1hcmtlcigKICAgICAgICAgICAgICAgIFstMzMuNTk5NTEzNzMsMTUwLjczOTk4NzNdLAogICAgICAgICAgICAgICAgewogICAgICAgICAgICAgICAgICAgIGljb246IG5ldyBMLkljb24uRGVmYXVsdCgpCiAgICAgICAgICAgICAgICAgICAgfQogICAgICAgICAgICAgICAgKQogICAgICAgICAgICAgICAgLmFkZFRvKG1hcF81MDQ1OGJkN2E4Njg0YTI1ODY1N2RmMDM0MWM5NzUxYyk7CiAgICAgICAgICAgIAogICAgCgogICAgICAgICAgICAgICAgdmFyIGljb25fM2ZiYWJjMWQ4NjYxNDc2YWI3OWM0MjdmYjQ4MWIwYTEgPSBMLkF3ZXNvbWVNYXJrZXJzLmljb24oewogICAgICAgICAgICAgICAgICAgIGljb246ICdpbmZvLXNpZ24nLAogICAgICAgICAgICAgICAgICAgIGljb25Db2xvcjogJ3doaXRlJywKICAgICAgICAgICAgICAgICAgICBtYXJrZXJDb2xvcjogJ3JlZCcsCiAgICAgICAgICAgICAgICAgICAgcHJlZml4OiAnZ2x5cGhpY29uJywKICAgICAgICAgICAgICAgICAgICBleHRyYUNsYXNzZXM6ICdmYS1yb3RhdGUtMCcKICAgICAgICAgICAgICAgICAgICB9KTsKICAgICAgICAgICAgICAgIG1hcmtlcl84ZGQ0OTQ0NWE2ZWQ0MzExODc4MGQ3ZjEwYjA5ZWVhMS5zZXRJY29uKGljb25fM2ZiYWJjMWQ4NjYxNDc2YWI3OWM0MjdmYjQ4MWIwYTEpOwogICAgICAgICAgICAKICAgIAogICAgICAgICAgICB2YXIgcG9wdXBfMDBmNGJhMjU0MzcwNDVjYmI3NzMxZDc4MGQyYmUxZjYgPSBMLnBvcHVwKHttYXhXaWR0aDogJzMwMCd9KTsKCiAgICAgICAgICAgIAogICAgICAgICAgICAgICAgdmFyIGh0bWxfMmE1NTVmOGIzNzk3NGVlNWE2MDVkMjMwOWViODdlMzcgPSAkKCc8ZGl2IGlkPSJodG1sXzJhNTU1ZjhiMzc5NzRlZTVhNjA1ZDIzMDllYjg3ZTM3IiBzdHlsZT0id2lkdGg6IDEwMC4wJTsgaGVpZ2h0OiAxMDAuMCU7Ij5YIEFtYmFzc2Fkb3JzLCBSaWNobW9uZDwvZGl2PicpWzBdOwogICAgICAgICAgICAgICAgcG9wdXBfMDBmNGJhMjU0MzcwNDVjYmI3NzMxZDc4MGQyYmUxZjYuc2V0Q29udGVudChodG1sXzJhNTU1ZjhiMzc5NzRlZTVhNjA1ZDIzMDllYjg3ZTM3KTsKICAgICAgICAgICAgCgogICAgICAgICAgICBtYXJrZXJfOGRkNDk0NDVhNmVkNDMxMTg3ODBkN2YxMGIwOWVlYTEuYmluZFBvcHVwKHBvcHVwXzAwZjRiYTI1NDM3MDQ1Y2JiNzczMWQ3ODBkMmJlMWY2KTsKCiAgICAgICAgICAgIAogICAgICAgIAogICAgCgogICAgICAgICAgICB2YXIgbWFya2VyX2UyOTU2ZmY2M2JiODQ4NGFiM2MwYjk3MmExNmVjMmY0ID0gTC5tYXJrZXIoCiAgICAgICAgICAgICAgICBbNDIuNzMzNTI3MjQsLTg0LjU0NjczNjI5XSwKICAgICAgICAgICAgICAgIHsKICAgICAgICAgICAgICAgICAgICBpY29uOiBuZXcgTC5JY29uLkRlZmF1bHQoKQogICAgICAgICAgICAgICAgICAgIH0KICAgICAgICAgICAgICAgICkKICAgICAgICAgICAgICAgIC5hZGRUbyhtYXBfNTA0NThiZDdhODY4NGEyNTg2NTdkZjAzNDFjOTc1MWMpOwogICAgICAgICAgICAKICAgIAoKICAgICAgICAgICAgICAgIHZhciBpY29uX2UyODJhN2Y1MWM0NTQzODhhNzE1YTc0Y2Y0YTg4ZjA3ID0gTC5Bd2Vzb21lTWFya2Vycy5pY29uKHsKICAgICAgICAgICAgICAgICAgICBpY29uOiAnaW5mby1zaWduJywKICAgICAgICAgICAgICAgICAgICBpY29uQ29sb3I6ICd3aGl0ZScsCiAgICAgICAgICAgICAgICAgICAgbWFya2VyQ29sb3I6ICdyZWQnLAogICAgICAgICAgICAgICAgICAgIHByZWZpeDogJ2dseXBoaWNvbicsCiAgICAgICAgICAgICAgICAgICAgZXh0cmFDbGFzc2VzOiAnZmEtcm90YXRlLTAnCiAgICAgICAgICAgICAgICAgICAgfSk7CiAgICAgICAgICAgICAgICBtYXJrZXJfZTI5NTZmZjYzYmI4NDg0YWIzYzBiOTcyYTE2ZWMyZjQuc2V0SWNvbihpY29uX2UyODJhN2Y1MWM0NTQzODhhNzE1YTc0Y2Y0YTg4ZjA3KTsKICAgICAgICAgICAgCiAgICAKICAgICAgICAgICAgdmFyIHBvcHVwX2RhZGYxZTBhMTg0ZDQxMjk5NGU5OTFlNzIyMzkyZDYxID0gTC5wb3B1cCh7bWF4V2lkdGg6ICczMDAnfSk7CgogICAgICAgICAgICAKICAgICAgICAgICAgICAgIHZhciBodG1sXzAwMmFhNGEyYmI0MjQ1YjlhNWE0ODFhYzg1ZDhiOTI3ID0gJCgnPGRpdiBpZD0iaHRtbF8wMDJhYTRhMmJiNDI0NWI5YTVhNDgxYWM4NWQ4YjkyNyIgc3R5bGU9IndpZHRoOiAxMDAuMCU7IGhlaWdodDogMTAwLjAlOyI+WCBBbWJhc3NhZG9ycywgTGFuc2luZzwvZGl2PicpWzBdOwogICAgICAgICAgICAgICAgcG9wdXBfZGFkZjFlMGExODRkNDEyOTk0ZTk5MWU3MjIzOTJkNjEuc2V0Q29udGVudChodG1sXzAwMmFhNGEyYmI0MjQ1YjlhNWE0ODFhYzg1ZDhiOTI3KTsKICAgICAgICAgICAgCgogICAgICAgICAgICBtYXJrZXJfZTI5NTZmZjYzYmI4NDg0YWIzYzBiOTcyYTE2ZWMyZjQuYmluZFBvcHVwKHBvcHVwX2RhZGYxZTBhMTg0ZDQxMjk5NGU5OTFlNzIyMzkyZDYxKTsKCiAgICAgICAgICAgIAogICAgICAgIAogICAgCgogICAgICAgICAgICB2YXIgbWFya2VyXzEwYmFmZDVhYTVmYjRlNzBhMjg5YjBhZDZiYmRjZTU0ID0gTC5tYXJrZXIoCiAgICAgICAgICAgICAgICBbNDIuMzI5OTYwMTQsLTcxLjA3MDAxMzY3XSwKICAgICAgICAgICAgICAgIHsKICAgICAgICAgICAgICAgICAgICBpY29uOiBuZXcgTC5JY29uLkRlZmF1bHQoKQogICAgICAgICAgICAgICAgICAgIH0KICAgICAgICAgICAgICAgICkKICAgICAgICAgICAgICAgIC5hZGRUbyhtYXBfNTA0NThiZDdhODY4NGEyNTg2NTdkZjAzNDFjOTc1MWMpOwogICAgICAgICAgICAKICAgIAoKICAgICAgICAgICAgICAgIHZhciBpY29uXzY1MmFhZTg5NzE3MzQ1MGY4YjZmOTE0YzY1NTcxMzVmID0gTC5Bd2Vzb21lTWFya2Vycy5pY29uKHsKICAgICAgICAgICAgICAgICAgICBpY29uOiAnaW5mby1zaWduJywKICAgICAgICAgICAgICAgICAgICBpY29uQ29sb3I6ICd3aGl0ZScsCiAgICAgICAgICAgICAgICAgICAgbWFya2VyQ29sb3I6ICdyZWQnLAogICAgICAgICAgICAgICAgICAgIHByZWZpeDogJ2dseXBoaWNvbicsCiAgICAgICAgICAgICAgICAgICAgZXh0cmFDbGFzc2VzOiAnZmEtcm90YXRlLTAnCiAgICAgICAgICAgICAgICAgICAgfSk7CiAgICAgICAgICAgICAgICBtYXJrZXJfMTBiYWZkNWFhNWZiNGU3MGEyODliMGFkNmJiZGNlNTQuc2V0SWNvbihpY29uXzY1MmFhZTg5NzE3MzQ1MGY4YjZmOTE0YzY1NTcxMzVmKTsKICAgICAgICAgICAgCiAgICAKICAgICAgICAgICAgdmFyIHBvcHVwXzhmMDIyNDQ5MjMwMjRhMGVhN2I5MDRkN2E3NmZmOGQxID0gTC5wb3B1cCh7bWF4V2lkdGg6ICczMDAnfSk7CgogICAgICAgICAgICAKICAgICAgICAgICAgICAgIHZhciBodG1sXzI1YmNmYTlhZTVjNTRjYzZhMDI0NTJjOGMzOGJhY2Y2ID0gJCgnPGRpdiBpZD0iaHRtbF8yNWJjZmE5YWU1YzU0Y2M2YTAyNDUyYzhjMzhiYWNmNiIgc3R5bGU9IndpZHRoOiAxMDAuMCU7IGhlaWdodDogMTAwLjAlOyI+WCBBbWJhc3NhZG9ycywgQm9zdG9uPC9kaXY+JylbMF07CiAgICAgICAgICAgICAgICBwb3B1cF84ZjAyMjQ0OTIzMDI0YTBlYTdiOTA0ZDdhNzZmZjhkMS5zZXRDb250ZW50KGh0bWxfMjViY2ZhOWFlNWM1NGNjNmEwMjQ1MmM4YzM4YmFjZjYpOwogICAgICAgICAgICAKCiAgICAgICAgICAgIG1hcmtlcl8xMGJhZmQ1YWE1ZmI0ZTcwYTI4OWIwYWQ2YmJkY2U1NC5iaW5kUG9wdXAocG9wdXBfOGYwMjI0NDkyMzAyNGEwZWE3YjkwNGQ3YTc2ZmY4ZDEpOwoKICAgICAgICAgICAgCiAgICAgICAgCiAgICAKCiAgICAgICAgICAgIHZhciBtYXJrZXJfZTJjYmQ0NGJiMjMwNGIxYmIyZTJiYTFiOGQzYzk5OTQgPSBMLm1hcmtlcigKICAgICAgICAgICAgICAgIFstMzcuNzMxMTk5NTMsMTQyLjAyMzQxMzVdLAogICAgICAgICAgICAgICAgewogICAgICAgICAgICAgICAgICAgIGljb246IG5ldyBMLkljb24uRGVmYXVsdCgpCiAgICAgICAgICAgICAgICAgICAgfQogICAgICAgICAgICAgICAgKQogICAgICAgICAgICAgICAgLmFkZFRvKG1hcF81MDQ1OGJkN2E4Njg0YTI1ODY1N2RmMDM0MWM5NzUxYyk7CiAgICAgICAgICAgIAogICAgCgogICAgICAgICAgICAgICAgdmFyIGljb25fZTE0MTM1ZmJjNmJjNGFhNGFhOTQ2NzFmNzFkZjJmZjkgPSBMLkF3ZXNvbWVNYXJrZXJzLmljb24oewogICAgICAgICAgICAgICAgICAgIGljb246ICdpbmZvLXNpZ24nLAogICAgICAgICAgICAgICAgICAgIGljb25Db2xvcjogJ3doaXRlJywKICAgICAgICAgICAgICAgICAgICBtYXJrZXJDb2xvcjogJ3JlZCcsCiAgICAgICAgICAgICAgICAgICAgcHJlZml4OiAnZ2x5cGhpY29uJywKICAgICAgICAgICAgICAgICAgICBleHRyYUNsYXNzZXM6ICdmYS1yb3RhdGUtMCcKICAgICAgICAgICAgICAgICAgICB9KTsKICAgICAgICAgICAgICAgIG1hcmtlcl9lMmNiZDQ0YmIyMzA0YjFiYjJlMmJhMWI4ZDNjOTk5NC5zZXRJY29uKGljb25fZTE0MTM1ZmJjNmJjNGFhNGFhOTQ2NzFmNzFkZjJmZjkpOwogICAgICAgICAgICAKICAgIAogICAgICAgICAgICB2YXIgcG9wdXBfNGE1NmRjMjEwODQ4NGFlOGI3YzVhNTYwOTY5NjY3NmQgPSBMLnBvcHVwKHttYXhXaWR0aDogJzMwMCd9KTsKCiAgICAgICAgICAgIAogICAgICAgICAgICAgICAgdmFyIGh0bWxfNjA2OGNiMjNlYzg4NDViOGEzZjM4YzYyYTBiYmEzNWIgPSAkKCc8ZGl2IGlkPSJodG1sXzYwNjhjYjIzZWM4ODQ1YjhhM2YzOGM2MmEwYmJhMzViIiBzdHlsZT0id2lkdGg6IDEwMC4wJTsgaGVpZ2h0OiAxMDAuMCU7Ij5YIEFtYmFzc2Fkb3JzLCBIYW1pbHRvbjwvZGl2PicpWzBdOwogICAgICAgICAgICAgICAgcG9wdXBfNGE1NmRjMjEwODQ4NGFlOGI3YzVhNTYwOTY5NjY3NmQuc2V0Q29udGVudChodG1sXzYwNjhjYjIzZWM4ODQ1YjhhM2YzOGM2MmEwYmJhMzViKTsKICAgICAgICAgICAgCgogICAgICAgICAgICBtYXJrZXJfZTJjYmQ0NGJiMjMwNGIxYmIyZTJiYTFiOGQzYzk5OTQuYmluZFBvcHVwKHBvcHVwXzRhNTZkYzIxMDg0ODRhZThiN2M1YTU2MDk2OTY2NzZkKTsKCiAgICAgICAgICAgIAogICAgICAgIAogICAgCgogICAgICAgICAgICB2YXIgbWFya2VyX2VmMTYwMjEwMGI5YzQwNmRhOWY3NTU2MDJiMThmZGIwID0gTC5tYXJrZXIoCiAgICAgICAgICAgICAgICBbNDQuODAxMTUyOTcsLTY4Ljc3ODM0NDc3XSwKICAgICAgICAgICAgICAgIHsKICAgICAgICAgICAgICAgICAgICBpY29uOiBuZXcgTC5JY29uLkRlZmF1bHQoKQogICAgICAgICAgICAgICAgICAgIH0KICAgICAgICAgICAgICAgICkKICAgICAgICAgICAgICAgIC5hZGRUbyhtYXBfNTA0NThiZDdhODY4NGEyNTg2NTdkZjAzNDFjOTc1MWMpOwogICAgICAgICAgICAKICAgIAoKICAgICAgICAgICAgICAgIHZhciBpY29uXzhjY2I1ZWJmOGZlOTQzNTY5Y2Q2ZmY0ZmVhNWQ4MGM5ID0gTC5Bd2Vzb21lTWFya2Vycy5pY29uKHsKICAgICAgICAgICAgICAgICAgICBpY29uOiAnaW5mby1zaWduJywKICAgICAgICAgICAgICAgICAgICBpY29uQ29sb3I6ICd3aGl0ZScsCiAgICAgICAgICAgICAgICAgICAgbWFya2VyQ29sb3I6ICdyZWQnLAogICAgICAgICAgICAgICAgICAgIHByZWZpeDogJ2dseXBoaWNvbicsCiAgICAgICAgICAgICAgICAgICAgZXh0cmFDbGFzc2VzOiAnZmEtcm90YXRlLTAnCiAgICAgICAgICAgICAgICAgICAgfSk7CiAgICAgICAgICAgICAgICBtYXJrZXJfZWYxNjAyMTAwYjljNDA2ZGE5Zjc1NTYwMmIxOGZkYjAuc2V0SWNvbihpY29uXzhjY2I1ZWJmOGZlOTQzNTY5Y2Q2ZmY0ZmVhNWQ4MGM5KTsKICAgICAgICAgICAgCiAgICAKICAgICAgICAgICAgdmFyIHBvcHVwXzE5ZDZkZTg2OTEwNDRiMjVhZjk3NDMzZDFjNzhhYjNlID0gTC5wb3B1cCh7bWF4V2lkdGg6ICczMDAnfSk7CgogICAgICAgICAgICAKICAgICAgICAgICAgICAgIHZhciBodG1sX2IyM2Y0OTMxM2U3YzQ4ODI4MjhkNTYzYzFiYjc3NTRiID0gJCgnPGRpdiBpZD0iaHRtbF9iMjNmNDkzMTNlN2M0ODgyODI4ZDU2M2MxYmI3NzU0YiIgc3R5bGU9IndpZHRoOiAxMDAuMCU7IGhlaWdodDogMTAwLjAlOyI+WCBBbWJhc3NhZG9ycywgQmFuZ29yPC9kaXY+JylbMF07CiAgICAgICAgICAgICAgICBwb3B1cF8xOWQ2ZGU4NjkxMDQ0YjI1YWY5NzQzM2QxYzc4YWIzZS5zZXRDb250ZW50KGh0bWxfYjIzZjQ5MzEzZTdjNDg4MjgyOGQ1NjNjMWJiNzc1NGIpOwogICAgICAgICAgICAKCiAgICAgICAgICAgIG1hcmtlcl9lZjE2MDIxMDBiOWM0MDZkYTlmNzU1NjAyYjE4ZmRiMC5iaW5kUG9wdXAocG9wdXBfMTlkNmRlODY5MTA0NGIyNWFmOTc0MzNkMWM3OGFiM2UpOwoKICAgICAgICAgICAgCiAgICAgICAgCiAgICAKCiAgICAgICAgICAgIHZhciBtYXJrZXJfNzkzNTg2MzdhMTI0NGJiMjgwYTM2ZTViZjVjZTU2YTcgPSBMLm1hcmtlcigKICAgICAgICAgICAgICAgIFs0MC43NzUwMTYzLC0xMTEuOTMwMDUxOV0sCiAgICAgICAgICAgICAgICB7CiAgICAgICAgICAgICAgICAgICAgaWNvbjogbmV3IEwuSWNvbi5EZWZhdWx0KCkKICAgICAgICAgICAgICAgICAgICB9CiAgICAgICAgICAgICAgICApCiAgICAgICAgICAgICAgICAuYWRkVG8obWFwXzUwNDU4YmQ3YTg2ODRhMjU4NjU3ZGYwMzQxYzk3NTFjKTsKICAgICAgICAgICAgCiAgICAKCiAgICAgICAgICAgICAgICB2YXIgaWNvbl82NzAyY2I0MjgzYWI0Y2RkOTU4ODczYWI0NDhmYmM1OSA9IEwuQXdlc29tZU1hcmtlcnMuaWNvbih7CiAgICAgICAgICAgICAgICAgICAgaWNvbjogJ2luZm8tc2lnbicsCiAgICAgICAgICAgICAgICAgICAgaWNvbkNvbG9yOiAnd2hpdGUnLAogICAgICAgICAgICAgICAgICAgIG1hcmtlckNvbG9yOiAncmVkJywKICAgICAgICAgICAgICAgICAgICBwcmVmaXg6ICdnbHlwaGljb24nLAogICAgICAgICAgICAgICAgICAgIGV4dHJhQ2xhc3NlczogJ2ZhLXJvdGF0ZS0wJwogICAgICAgICAgICAgICAgICAgIH0pOwogICAgICAgICAgICAgICAgbWFya2VyXzc5MzU4NjM3YTEyNDRiYjI4MGEzNmU1YmY1Y2U1NmE3LnNldEljb24oaWNvbl82NzAyY2I0MjgzYWI0Y2RkOTU4ODczYWI0NDhmYmM1OSk7CiAgICAgICAgICAgIAogICAgCiAgICAgICAgICAgIHZhciBwb3B1cF8wODMyNzNkMGQ5OTY0MjdlYTBlNjhhNzBlODg0ZDJmMSA9IEwucG9wdXAoe21heFdpZHRoOiAnMzAwJ30pOwoKICAgICAgICAgICAgCiAgICAgICAgICAgICAgICB2YXIgaHRtbF8xYjgxYjBlZDI3MDQ0YmM0YWRmYjkwZTFlNGFjNDQ4NSA9ICQoJzxkaXYgaWQ9Imh0bWxfMWI4MWIwZWQyNzA0NGJjNGFkZmI5MGUxZTRhYzQ0ODUiIHN0eWxlPSJ3aWR0aDogMTAwLjAlOyBoZWlnaHQ6IDEwMC4wJTsiPlggQW1iYXNzYWRvcnMsIFNhbHQgTGFrZSBDaXR5PC9kaXY+JylbMF07CiAgICAgICAgICAgICAgICBwb3B1cF8wODMyNzNkMGQ5OTY0MjdlYTBlNjhhNzBlODg0ZDJmMS5zZXRDb250ZW50KGh0bWxfMWI4MWIwZWQyNzA0NGJjNGFkZmI5MGUxZTRhYzQ0ODUpOwogICAgICAgICAgICAKCiAgICAgICAgICAgIG1hcmtlcl83OTM1ODYzN2ExMjQ0YmIyODBhMzZlNWJmNWNlNTZhNy5iaW5kUG9wdXAocG9wdXBfMDgzMjczZDBkOTk2NDI3ZWEwZTY4YTcwZTg4NGQyZjEpOwoKICAgICAgICAgICAgCiAgICAgICAgCiAgICAKCiAgICAgICAgICAgIHZhciBtYXJrZXJfMDliNmYxOGE5MWIzNDQ3MzkyZTRkYzg4MDdmM2I3MjYgPSBMLm1hcmtlcigKICAgICAgICAgICAgICAgIFs0NC45Nzk5NzkyNywtOTMuMjUxNzg2MzRdLAogICAgICAgICAgICAgICAgewogICAgICAgICAgICAgICAgICAgIGljb246IG5ldyBMLkljb24uRGVmYXVsdCgpCiAgICAgICAgICAgICAgICAgICAgfQogICAgICAgICAgICAgICAgKQogICAgICAgICAgICAgICAgLmFkZFRvKG1hcF81MDQ1OGJkN2E4Njg0YTI1ODY1N2RmMDM0MWM5NzUxYyk7CiAgICAgICAgICAgIAogICAgCgogICAgICAgICAgICAgICAgdmFyIGljb25fMjRlMzU3MTBhZmIwNDE1Nzk4MjA4YjM2ZjkyOTU4ODcgPSBMLkF3ZXNvbWVNYXJrZXJzLmljb24oewogICAgICAgICAgICAgICAgICAgIGljb246ICdpbmZvLXNpZ24nLAogICAgICAgICAgICAgICAgICAgIGljb25Db2xvcjogJ3doaXRlJywKICAgICAgICAgICAgICAgICAgICBtYXJrZXJDb2xvcjogJ3JlZCcsCiAgICAgICAgICAgICAgICAgICAgcHJlZml4OiAnZ2x5cGhpY29uJywKICAgICAgICAgICAgICAgICAgICBleHRyYUNsYXNzZXM6ICdmYS1yb3RhdGUtMCcKICAgICAgICAgICAgICAgICAgICB9KTsKICAgICAgICAgICAgICAgIG1hcmtlcl8wOWI2ZjE4YTkxYjM0NDczOTJlNGRjODgwN2YzYjcyNi5zZXRJY29uKGljb25fMjRlMzU3MTBhZmIwNDE1Nzk4MjA4YjM2ZjkyOTU4ODcpOwogICAgICAgICAgICAKICAgIAogICAgICAgICAgICB2YXIgcG9wdXBfOGYyNWE2ZjhhN2RiNDcxMTk1YWVmOGEwNDk1Y2RmZDUgPSBMLnBvcHVwKHttYXhXaWR0aDogJzMwMCd9KTsKCiAgICAgICAgICAgIAogICAgICAgICAgICAgICAgdmFyIGh0bWxfM2QxZmE2MTFhNzAzNGZjMGJjNWM5YzhlNWRiZDIxZDQgPSAkKCc8ZGl2IGlkPSJodG1sXzNkMWZhNjExYTcwMzRmYzBiYzVjOWM4ZTVkYmQyMWQ0IiBzdHlsZT0id2lkdGg6IDEwMC4wJTsgaGVpZ2h0OiAxMDAuMCU7Ij5YIEFtYmFzc2Fkb3JzLCBNaW5uZWFwb2xpczwvZGl2PicpWzBdOwogICAgICAgICAgICAgICAgcG9wdXBfOGYyNWE2ZjhhN2RiNDcxMTk1YWVmOGEwNDk1Y2RmZDUuc2V0Q29udGVudChodG1sXzNkMWZhNjExYTcwMzRmYzBiYzVjOWM4ZTVkYmQyMWQ0KTsKICAgICAgICAgICAgCgogICAgICAgICAgICBtYXJrZXJfMDliNmYxOGE5MWIzNDQ3MzkyZTRkYzg4MDdmM2I3MjYuYmluZFBvcHVwKHBvcHVwXzhmMjVhNmY4YTdkYjQ3MTE5NWFlZjhhMDQ5NWNkZmQ1KTsKCiAgICAgICAgICAgIAogICAgICAgIAogICAgCgogICAgICAgICAgICB2YXIgbWFya2VyXzQyZWI2M2E1OTY0MjQ2OTJiOGY3MzBiZTZmMWFiNWQ4ID0gTC5tYXJrZXIoCiAgICAgICAgICAgICAgICBbMjkuODk0ODc5MzcsLTgxLjMxNDcxMTM1XSwKICAgICAgICAgICAgICAgIHsKICAgICAgICAgICAgICAgICAgICBpY29uOiBuZXcgTC5JY29uLkRlZmF1bHQoKQogICAgICAgICAgICAgICAgICAgIH0KICAgICAgICAgICAgICAgICkKICAgICAgICAgICAgICAgIC5hZGRUbyhtYXBfNTA0NThiZDdhODY4NGEyNTg2NTdkZjAzNDFjOTc1MWMpOwogICAgICAgICAgICAKICAgIAoKICAgICAgICAgICAgICAgIHZhciBpY29uXzU1YzA3ZjMzNTNiMjQ5OGU4N2E5NmI2Nzg0YzdiMTNmID0gTC5Bd2Vzb21lTWFya2Vycy5pY29uKHsKICAgICAgICAgICAgICAgICAgICBpY29uOiAnaW5mby1zaWduJywKICAgICAgICAgICAgICAgICAgICBpY29uQ29sb3I6ICd3aGl0ZScsCiAgICAgICAgICAgICAgICAgICAgbWFya2VyQ29sb3I6ICdyZWQnLAogICAgICAgICAgICAgICAgICAgIHByZWZpeDogJ2dseXBoaWNvbicsCiAgICAgICAgICAgICAgICAgICAgZXh0cmFDbGFzc2VzOiAnZmEtcm90YXRlLTAnCiAgICAgICAgICAgICAgICAgICAgfSk7CiAgICAgICAgICAgICAgICBtYXJrZXJfNDJlYjYzYTU5NjQyNDY5MmI4ZjczMGJlNmYxYWI1ZDguc2V0SWNvbihpY29uXzU1YzA3ZjMzNTNiMjQ5OGU4N2E5NmI2Nzg0YzdiMTNmKTsKICAgICAgICAgICAgCiAgICAKICAgICAgICAgICAgdmFyIHBvcHVwX2Q1MDBjNzhjY2UwYzQ4ZmM4MzEyNDZmZjY3MDVlYzdjID0gTC5wb3B1cCh7bWF4V2lkdGg6ICczMDAnfSk7CgogICAgICAgICAgICAKICAgICAgICAgICAgICAgIHZhciBodG1sXzlkMDU0MjQwOTVkZDRhMThiOTI4MzA2ZDZmZDk1YTEwID0gJCgnPGRpdiBpZD0iaHRtbF85ZDA1NDI0MDk1ZGQ0YTE4YjkyODMwNmQ2ZmQ5NWExMCIgc3R5bGU9IndpZHRoOiAxMDAuMCU7IGhlaWdodDogMTAwLjAlOyI+WCBBbWJhc3NhZG9ycywgU3QuIEF1Z3VzdGluZTwvZGl2PicpWzBdOwogICAgICAgICAgICAgICAgcG9wdXBfZDUwMGM3OGNjZTBjNDhmYzgzMTI0NmZmNjcwNWVjN2Muc2V0Q29udGVudChodG1sXzlkMDU0MjQwOTVkZDRhMThiOTI4MzA2ZDZmZDk1YTEwKTsKICAgICAgICAgICAgCgogICAgICAgICAgICBtYXJrZXJfNDJlYjYzYTU5NjQyNDY5MmI4ZjczMGJlNmYxYWI1ZDguYmluZFBvcHVwKHBvcHVwX2Q1MDBjNzhjY2UwYzQ4ZmM4MzEyNDZmZjY3MDVlYzdjKTsKCiAgICAgICAgICAgIAogICAgICAgIAogICAgCgogICAgICAgICAgICB2YXIgbWFya2VyX2ZjNTAzM2IzYmIzZDRiZjk4MGNjNGZjMzkyYjUxYjc4ID0gTC5tYXJrZXIoCiAgICAgICAgICAgICAgICBbNDAuNzQ5OTc5MDYsLTczLjk4MDAxNjkzXSwKICAgICAgICAgICAgICAgIHsKICAgICAgICAgICAgICAgICAgICBpY29uOiBuZXcgTC5JY29uLkRlZmF1bHQoKQogICAgICAgICAgICAgICAgICAgIH0KICAgICAgICAgICAgICAgICkKICAgICAgICAgICAgICAgIC5hZGRUbyhtYXBfNTA0NThiZDdhODY4NGEyNTg2NTdkZjAzNDFjOTc1MWMpOwogICAgICAgICAgICAKICAgIAoKICAgICAgICAgICAgICAgIHZhciBpY29uXzYzNDVhMGE3NjU1YzQwNjJhOWYyMzI3YWM2YWNmOTg5ID0gTC5Bd2Vzb21lTWFya2Vycy5pY29uKHsKICAgICAgICAgICAgICAgICAgICBpY29uOiAnaW5mby1zaWduJywKICAgICAgICAgICAgICAgICAgICBpY29uQ29sb3I6ICd3aGl0ZScsCiAgICAgICAgICAgICAgICAgICAgbWFya2VyQ29sb3I6ICdyZWQnLAogICAgICAgICAgICAgICAgICAgIHByZWZpeDogJ2dseXBoaWNvbicsCiAgICAgICAgICAgICAgICAgICAgZXh0cmFDbGFzc2VzOiAnZmEtcm90YXRlLTAnCiAgICAgICAgICAgICAgICAgICAgfSk7CiAgICAgICAgICAgICAgICBtYXJrZXJfZmM1MDMzYjNiYjNkNGJmOTgwY2M0ZmMzOTJiNTFiNzguc2V0SWNvbihpY29uXzYzNDVhMGE3NjU1YzQwNjJhOWYyMzI3YWM2YWNmOTg5KTsKICAgICAgICAgICAgCiAgICAKICAgICAgICAgICAgdmFyIHBvcHVwXzkyZjJlNmY3NTU2MDQ5NmU5ODM5YWNkZTkwMWZhYzU1ID0gTC5wb3B1cCh7bWF4V2lkdGg6ICczMDAnfSk7CgogICAgICAgICAgICAKICAgICAgICAgICAgICAgIHZhciBodG1sX2RlNmVlMGZmNTMxZTRlYTc4NGJmYzg2ZTE2MjY4MjZmID0gJCgnPGRpdiBpZD0iaHRtbF9kZTZlZTBmZjUzMWU0ZWE3ODRiZmM4NmUxNjI2ODI2ZiIgc3R5bGU9IndpZHRoOiAxMDAuMCU7IGhlaWdodDogMTAwLjAlOyI+WCBBbWJhc3NhZG9ycywgTmV3IFlvcms8L2Rpdj4nKVswXTsKICAgICAgICAgICAgICAgIHBvcHVwXzkyZjJlNmY3NTU2MDQ5NmU5ODM5YWNkZTkwMWZhYzU1LnNldENvbnRlbnQoaHRtbF9kZTZlZTBmZjUzMWU0ZWE3ODRiZmM4NmUxNjI2ODI2Zik7CiAgICAgICAgICAgIAoKICAgICAgICAgICAgbWFya2VyX2ZjNTAzM2IzYmIzZDRiZjk4MGNjNGZjMzkyYjUxYjc4LmJpbmRQb3B1cChwb3B1cF85MmYyZTZmNzU1NjA0OTZlOTgzOWFjZGU5MDFmYWM1NSk7CgogICAgICAgICAgICAKICAgICAgICAKICAgIAoKICAgICAgICAgICAgdmFyIG1hcmtlcl9kMDk3Zjk2ZDU5MmI0ODk2ODVhYjAxNzcyNDc5MGUwZCA9IEwubWFya2VyKAogICAgICAgICAgICAgICAgWzQxLjgyMTEwMjMxLC03MS40MTQ5Nzk3XSwKICAgICAgICAgICAgICAgIHsKICAgICAgICAgICAgICAgICAgICBpY29uOiBuZXcgTC5JY29uLkRlZmF1bHQoKQogICAgICAgICAgICAgICAgICAgIH0KICAgICAgICAgICAgICAgICkKICAgICAgICAgICAgICAgIC5hZGRUbyhtYXBfNTA0NThiZDdhODY4NGEyNTg2NTdkZjAzNDFjOTc1MWMpOwogICAgICAgICAgICAKICAgIAoKICAgICAgICAgICAgICAgIHZhciBpY29uXzU3ODRlYWM1NzhjMjQ4OTI4MjZiMDExZjg5NDE5NDgyID0gTC5Bd2Vzb21lTWFya2Vycy5pY29uKHsKICAgICAgICAgICAgICAgICAgICBpY29uOiAnaW5mby1zaWduJywKICAgICAgICAgICAgICAgICAgICBpY29uQ29sb3I6ICd3aGl0ZScsCiAgICAgICAgICAgICAgICAgICAgbWFya2VyQ29sb3I6ICdyZWQnLAogICAgICAgICAgICAgICAgICAgIHByZWZpeDogJ2dseXBoaWNvbicsCiAgICAgICAgICAgICAgICAgICAgZXh0cmFDbGFzc2VzOiAnZmEtcm90YXRlLTAnCiAgICAgICAgICAgICAgICAgICAgfSk7CiAgICAgICAgICAgICAgICBtYXJrZXJfZDA5N2Y5NmQ1OTJiNDg5Njg1YWIwMTc3MjQ3OTBlMGQuc2V0SWNvbihpY29uXzU3ODRlYWM1NzhjMjQ4OTI4MjZiMDExZjg5NDE5NDgyKTsKICAgICAgICAgICAgCiAgICAKICAgICAgICAgICAgdmFyIHBvcHVwXzliNWNiMGQ1ZDY3YjRjM2RiMjFhZGI3OTI5Y2NhM2IwID0gTC5wb3B1cCh7bWF4V2lkdGg6ICczMDAnfSk7CgogICAgICAgICAgICAKICAgICAgICAgICAgICAgIHZhciBodG1sXzYzNTM4ZWJjZmY3NjQxNDhhOTI4NWJmMWFhYmUxMzdkID0gJCgnPGRpdiBpZD0iaHRtbF82MzUzOGViY2ZmNzY0MTQ4YTkyODViZjFhYWJlMTM3ZCIgc3R5bGU9IndpZHRoOiAxMDAuMCU7IGhlaWdodDogMTAwLjAlOyI+WCBBbWJhc3NhZG9ycywgUHJvdmlkZW5jZTwvZGl2PicpWzBdOwogICAgICAgICAgICAgICAgcG9wdXBfOWI1Y2IwZDVkNjdiNGMzZGIyMWFkYjc5MjljY2EzYjAuc2V0Q29udGVudChodG1sXzYzNTM4ZWJjZmY3NjQxNDhhOTI4NWJmMWFhYmUxMzdkKTsKICAgICAgICAgICAgCgogICAgICAgICAgICBtYXJrZXJfZDA5N2Y5NmQ1OTJiNDg5Njg1YWIwMTc3MjQ3OTBlMGQuYmluZFBvcHVwKHBvcHVwXzliNWNiMGQ1ZDY3YjRjM2RiMjFhZGI3OTI5Y2NhM2IwKTsKCiAgICAgICAgICAgIAogICAgICAgIAo8L3NjcmlwdD4=\" style=\"position:absolute;width:100%;height:100%;left:0;top:0;border:none !important;\" allowfullscreen webkitallowfullscreen mozallowfullscreen></iframe></div></div>"
      ],
      "text/plain": [
       "<folium.folium.Map at 0x7fcc42fe9c50>"
      ]
     },
     "execution_count": 38,
     "metadata": {},
     "output_type": "execute_result"
    }
   ],
   "source": [
    "\n",
    "cities = pd.read_csv('simplemaps-worldcities-basic.csv')\n",
    "sample = pd.read_csv('sample.csv')\n",
    "\n",
    "# map centered on United States\n",
    "map = folium.Map(location=[39.5, -98.35], zoom_start=4)\n",
    "\n",
    "for index, row in sample.iterrows():\n",
    "    lat = cities.loc[cities['city'] == row['cities'], 'lat'].values\n",
    "    lng = cities.loc[cities['city'] == row['cities'], 'lng'].values\n",
    "    # if city found in dataset, map city\n",
    "    if (len(lat) > 0):\n",
    "        #sample.set_value(index, 'lat', lat[0])\n",
    "        #sample.set_value(index, 'lng', lng[0])\n",
    "        folium.Marker([lat[0], lng[0]], popup=row['artists'] + ', ' + row['cities'], icon=folium.Icon(color='red',icon='info-sign')).add_to(map)\n",
    "map"
   ]
  },
  {
   "cell_type": "code",
   "execution_count": null,
   "metadata": {
    "collapsed": true
   },
   "outputs": [],
   "source": []
  }
 ],
 "metadata": {
  "kernelspec": {
   "display_name": "Python 3",
   "language": "python",
   "name": "python3"
  },
  "language_info": {
   "codemirror_mode": {
    "name": "ipython",
    "version": 3
   },
   "file_extension": ".py",
   "mimetype": "text/x-python",
   "name": "python",
   "nbconvert_exporter": "python",
   "pygments_lexer": "ipython3",
   "version": "3.6.2"
  }
 },
 "nbformat": 4,
 "nbformat_minor": 2
}
