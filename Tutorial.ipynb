{
 "cells": [
  {
   "cell_type": "code",
   "execution_count": null,
   "metadata": {},
   "outputs": [
    {
     "name": "stdout",
     "output_type": "stream",
     "text": [
      "hello\n"
     ]
    }
   ],
   "source": [
    "import requests, json, pandas, itertools\n",
    "import numpy as np\n",
    "\n",
    "print(\"hello\")\n",
    "\n",
    "\n",
    "def send_req(num, id):\n",
    "    url = 'https://api.setlist.fm/rest/1.0/artist/' + id + '/setlists/?p=' + num\n",
    "    headers = {'Accept': 'application/json', 'x-api-key': 'd65d2f04-4d2a-4354-b6dd-45bedf61cde1'}\n",
    "    r = requests.get(url, headers=headers)\n",
    "    page = r.json()\n",
    "    return page\n",
    "\n",
    "ids = [\"8e494408-8620-4c6a-82c2-c2ca4a1e4f12\", \"cc197bad-dc9c-440d-a5b5-d52ba2e14234\"]\n",
    "\n",
    "d = {'venues': []}\n",
    "df = pandas.DataFrame(d)\n",
    "df['cities'] = []\n",
    "df['artists'] = []\n",
    "\n",
    "for id in ids:\n",
    "    i = 1\n",
    "    keep_going = True\n",
    "    count = 0\n",
    "    cities = []\n",
    "    venues = []\n",
    "    artists = []\n",
    "    #artist_name = \"\"\n",
    "    while(keep_going):\n",
    "        page = send_req(str(i), id)\n",
    "        if('code' in page):\n",
    "            #print(\"done\")\n",
    "            keep_going = False\n",
    "        else:\n",
    "            setlist = page[\"setlist\"]\n",
    "            for sets in setlist:\n",
    "                artist = sets[\"artist\"]\n",
    "                artist_name = artist[\"name\"]\n",
    "                venue = sets[\"venue\"]\n",
    "                venue_name = venue[\"name\"]\n",
    "                city = venue[\"city\"]\n",
    "                name = city[\"name\"]\n",
    "                count = count + 1\n",
    "                venues.append(venue_name)\n",
    "                cities.append(name)\n",
    "                #print(name + \" - \" + venue_name)\n",
    "            i = i + 1\n",
    "\n",
    "    artists = np.repeat(artist_name, len(cities)).reshape(len(cities),1)\n",
    "    d = {'venues': venues}\n",
    "    dft = pandas.DataFrame(d)\n",
    "    dft['cities'] = cities\n",
    "    dft['artists'] = artists\n",
    "    df = pandas.concat([df,dft])\n",
    "    \n",
    "print(df)\n"
   ]
  },
  {
   "cell_type": "code",
   "execution_count": null,
   "metadata": {
    "collapsed": true
   },
   "outputs": [],
   "source": []
  },
  {
   "cell_type": "code",
   "execution_count": null,
   "metadata": {
    "collapsed": true
   },
   "outputs": [],
   "source": []
  }
 ],
 "metadata": {
  "kernelspec": {
   "display_name": "Python 3",
   "language": "python",
   "name": "python3"
  },
  "language_info": {
   "codemirror_mode": {
    "name": "ipython",
    "version": 3
   },
   "file_extension": ".py",
   "mimetype": "text/x-python",
   "name": "python",
   "nbconvert_exporter": "python",
   "pygments_lexer": "ipython3",
   "version": "3.6.2"
  }
 },
 "nbformat": 4,
 "nbformat_minor": 2
}
